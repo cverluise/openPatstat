{
 "cells": [
  {
   "cell_type": "markdown",
   "metadata": {},
   "source": [
    "<font color='orange'>**TODO**:\n",
    "\n",
    "- upstream: \n",
    "\n",
    "    1. set up for streaming data manipulation\n",
    "    2. native data partitioning \n",
    "    \n",
    "- review queries\n",
    "\n",
    "- downstream:\n",
    "\n",
    "    1. Technical note series (\"Data loading: CCP storage\", \"Efficient transfer to BQ\" ,\"Query BQ\")\n",
    "    2. PatStat at a Glance Series\n",
    "    3. Topics\n",
    "    \n",
    "- Earliest filing ids and Auth -> where does the innovation come from ? or go deeper (inventors' adress)     \n",
    "</font>    \n"
   ]
  },
  {
   "cell_type": "markdown",
   "metadata": {},
   "source": [
    "**What is PATSTAT?**"
   ]
  },
  {
   "cell_type": "markdown",
   "metadata": {},
   "source": [
    "\"Patent statistics are used as indicators of the inventive activity of companies or countries ($\\ldots$). While the patent activity rose substantially over the last decades, the demand for patent data and statistics followed the same trend. ($\\ldots$).\n",
    "\n",
    "Upon request of the [OECD Statistics] Task Force, the EPO [European Patent Organization] has created the \"Worldwide Patent Statistical Database\" [(aka PATSTAT)].\" (`Data Catalog for Patstat`, 5.07, \"1.2 About Patstat)"
   ]
  },
  {
   "cell_type": "markdown",
   "metadata": {},
   "source": [
    "PATSTAT is built as a relational database with multiple tables related by \"keys\". Each table consists in a set of columns (equivalently variables) and can be related to other table through a key (primary or foreign, denoted by the suffix `_id`). "
   ]
  },
  {
   "cell_type": "markdown",
   "metadata": {},
   "source": [
    "**What is this notebook for?**"
   ]
  },
  {
   "cell_type": "markdown",
   "metadata": {},
   "source": [
    "The Application table (`TLS201_APPLN`) is PATSTAT's central table. It contains the key bibliographical data elements relevant to identify the patent application. Most of the elements in this table can be found on the first page of a printed patent document. It also links to many other database tables.\n",
    "\n",
    "This notebook documents the 101 of the Patstat \"Application\" table (aka `TLS201_APPLN`, `PATSTAT2016a`).\n",
    "\n",
    "More precisely:\n",
    "\n",
    "- we report variable descriptions and encoding details from the `Data Catalog for Patstat`(5.07)\n",
    "- we provide summary statistics and visualization (when relevant)"
   ]
  },
  {
   "cell_type": "markdown",
   "metadata": {},
   "source": [
    "**Comments**"
   ]
  },
  {
   "cell_type": "markdown",
   "metadata": {},
   "source": [
    "<font color='orange'>*TODO*</font>"
   ]
  },
  {
   "cell_type": "markdown",
   "metadata": {},
   "source": [
    "----"
   ]
  },
  {
   "cell_type": "markdown",
   "metadata": {},
   "source": [
    "**Import and meta**"
   ]
  },
  {
   "cell_type": "code",
   "execution_count": 3,
   "metadata": {},
   "outputs": [
    {
     "name": "stdout",
     "output_type": "stream",
     "text": [
      "The autoreload extension is already loaded. To reload it, use:\n",
      "  %reload_ext autoreload\n"
     ]
    }
   ],
   "source": [
    "%load_ext autoreload\n",
    "%autoreload 2"
   ]
  },
  {
   "cell_type": "code",
   "execution_count": 5,
   "metadata": {},
   "outputs": [],
   "source": [
    "from google.cloud import bigquery\n",
    "from pathora.plots import bar_chart, stacked_bar_chart\n",
    "\n",
    "import plotly.plotly as py\n",
    "import plotly.graph_objs as go\n",
    "import plotly.io as pio\n",
    "import plotly.figure_factory as ff\n",
    "import pandas as pd\n",
    "import os\n",
    "import pycountry\n",
    "import colorlover as cl"
   ]
  },
  {
   "cell_type": "code",
   "execution_count": 6,
   "metadata": {},
   "outputs": [],
   "source": [
    "data_path = 'data/'\n",
    "plots_path = 'plots/'\n",
    "views_path = 'views/'"
   ]
  },
  {
   "cell_type": "markdown",
   "metadata": {},
   "source": [
    "client = bigquery.Client()"
   ]
  },
  {
   "cell_type": "markdown",
   "metadata": {},
   "source": [
    "----"
   ]
  },
  {
   "cell_type": "markdown",
   "metadata": {},
   "source": [
    "**TLS201_APPLN Schema**"
   ]
  },
  {
   "cell_type": "code",
   "execution_count": 8,
   "metadata": {},
   "outputs": [],
   "source": [
    "table_ref = client.dataset('raw').table('tls201_cp')\n",
    "table = client.get_table(table_ref)\n",
    "schema = table.schema\n",
    "schema = [[schema[i].name, schema[i].field_type, schema[i].mode] for i in range(len(schema))]"
   ]
  },
  {
   "cell_type": "code",
   "execution_count": 9,
   "metadata": {},
   "outputs": [
    {
     "name": "stderr",
     "output_type": "stream",
     "text": [
      "/Users/cyrilverluise/.virtualenvs/jupyter/lib/python3.7/site-packages/IPython/core/display.py:689: UserWarning:\n",
      "\n",
      "Consider using IPython.display.IFrame instead\n",
      "\n"
     ]
    },
    {
     "data": {
      "text/html": [
       "<iframe id=\"igraph\" scrolling=\"no\" style=\"border:none;\" seamless=\"seamless\" src=\"https://plot.ly/~cverluise/18.embed\" height=\"920px\" width=\"100%\"></iframe>"
      ],
      "text/plain": [
       "<plotly.tools.PlotlyDisplay object>"
      ]
     },
     "execution_count": 9,
     "metadata": {},
     "output_type": "execute_result"
    }
   ],
   "source": [
    "table = ff.create_table(\n",
    "    pd.DataFrame(schema, columns=['Name', 'Type', 'Mode']))\n",
    "py.iplot(table)"
   ]
  },
  {
   "cell_type": "markdown",
   "metadata": {},
   "source": [
    "----"
   ]
  },
  {
   "cell_type": "markdown",
   "metadata": {},
   "source": [
    "# Technical identifier"
   ]
  },
  {
   "cell_type": "markdown",
   "metadata": {},
   "source": [
    "## APPLN_ID"
   ]
  },
  {
   "cell_type": "markdown",
   "metadata": {},
   "source": [
    "\n",
    "\n",
    "**Full name**: Application identification\n",
    "\n",
    "**Description**: Technical unique identifier without any business meaning. It refers to the national/regional application.\n",
    "\n",
    "**Format**: primary Key, , 0 $\\ldots$ 999 999 999. "
   ]
  },
  {
   "cell_type": "markdown",
   "metadata": {},
   "source": [
    "Note: \n",
    "\n",
    "1. Range 1: 1 to 900 000 000. Filed applications which have a related publication in DOCDB. UNique but not sequential.\n",
    "2. Range 2: from 900 000 001 to 930 000 000. Artificial applications which are created in PATSTAT for prior applications, claimed as *priorities*, which do not have an application-reference in DOCDB.\n",
    "3. Range 3: 930 000 001 to 960 000 000. Artificial filing applications with kind code `D2` which are created in PATSTAT for those artificial publications which are also created in PATSTAT because these *publications* are cited, but do not have a publication-reference in DOCDB.\n",
    "3. Range 4: 960 000 001 to 999 999 999. Artificial filing applications with kind code `D3` which are created in PATSTAT because these *applications* are cited. "
   ]
  },
  {
   "cell_type": "markdown",
   "metadata": {},
   "source": [
    "```python\n",
    "query = \"\"\"\n",
    "SELECT\n",
    "  year,\n",
    "  appln_auth,\n",
    "  COUNT(*) AS nb_range,\n",
    "  CASE\n",
    "    WHEN appln_id BETWEEN 1 AND 900000000 THEN \"range_1\"\n",
    "    WHEN appln_id BETWEEN 900000001 AND 930000000 THEN \"range_2\"\n",
    "    WHEN appln_id BETWEEN 930000001 AND 960000000 THEN \"range_3\"\n",
    "    WHEN appln_id BETWEEN 960000001 AND 999000000 THEN \"range_4\"\n",
    "  END AS range\n",
    "FROM\n",
    "  raw.tls201_cp\n",
    "GROUP BY\n",
    "  year,\n",
    "  appln_auth,\n",
    "  nb_range\n",
    "ORDER BY\n",
    "  year,\n",
    "  appln_auth;\"\"\"\n",
    "\n",
    "client.query(query=query).to_dataframe().to_csv(views_path + '201_ApplnId_byRange.csv')\n",
    "```"
   ]
  },
  {
   "cell_type": "code",
   "execution_count": 248,
   "metadata": {},
   "outputs": [],
   "source": [
    "df = pd.read_csv(views_path + '201_ApplnId_byRange.csv', index_col=0)"
   ]
  },
  {
   "cell_type": "code",
   "execution_count": 249,
   "metadata": {},
   "outputs": [],
   "source": [
    "# Overall range distribution\n",
    "tmp = df.groupby(['range']).sum()['nb_range']\n",
    "\n",
    "fig = bar_chart(tmp, 'ApplicationId by Range')\n",
    "pio.write_image(fig, plots_path + '/201_ApplnId_byRange.png')\n",
    "#py.iplot(fig, filename='201_ApplnId_byRange')"
   ]
  },
  {
   "cell_type": "code",
   "execution_count": 243,
   "metadata": {},
   "outputs": [],
   "source": [
    "# Range distribution by year\n",
    "tmp = df.groupby(['year', 'range']).sum()['nb_range'].to_frame().reset_index('range')\n",
    "fig = stacked_bar_chart(tmp, 'range', 'nb_range', 'ApplnId by range and year')\n",
    "pio.write_image(fig, plots_path + '/201_ApplnId_byRangeYear.png', width=1200, height=800)\n",
    "#py.iplot(fig, filename='201_ApplnId_byRange')"
   ]
  },
  {
   "cell_type": "markdown",
   "metadata": {},
   "source": [
    "# Business identifiers"
   ]
  },
  {
   "cell_type": "markdown",
   "metadata": {},
   "source": [
    "## APPLN_AUTH"
   ]
  },
  {
   "cell_type": "markdown",
   "metadata": {},
   "source": [
    "**Full name**: Application Authority\n",
    "\n",
    "**Description**: Patent Authority where the National, International or Regional application was filed\n",
    "\n",
    "**Format**: str, ,alpha2 - Mapping provided by `TLS801_country` (TODO: check)"
   ]
  },
  {
   "cell_type": "markdown",
   "metadata": {},
   "source": [
    "```python\n",
    "\n",
    "query = \"\"\"\n",
    "SELECT \n",
    "    appln_auth,\n",
    "    year,\n",
    "    count(appln_auth) as nb_patents\n",
    "FROM\n",
    "    raw.tls201_cp\n",
    "GROUP BY \n",
    "    appln_auth,\n",
    "    year\n",
    "ORDER BY\n",
    "    appln_auth,\n",
    "    year;\"\"\"\n",
    "\n",
    "client.query(query=query).to_dataframe().to_csv(views_path + '201_ApplnAuth_byYear.csv')\n",
    "```"
   ]
  },
  {
   "cell_type": "code",
   "execution_count": 278,
   "metadata": {},
   "outputs": [],
   "source": [
    "tmp_path = '/201_ApplnAuth_byYearAuth'"
   ]
  },
  {
   "cell_type": "code",
   "execution_count": 279,
   "metadata": {},
   "outputs": [],
   "source": [
    "df_org = pd.read_csv(data_path + 'tls801_part01.txt')\n",
    "df = pd.read_csv(views_path + '/201_ApplnAuth_byYear.csv', index_col=0)"
   ]
  },
  {
   "cell_type": "code",
   "execution_count": 327,
   "metadata": {},
   "outputs": [],
   "source": [
    "# Overall applications by auth since the 1970s\n",
    "threshold = 1970\n",
    "tmp = df.query('year>=@threshold').groupby('appln_auth').sum().merge(df_org, how='left',\n",
    "                                                                     left_index=True, right_on=['ctry_code']).set_index(\n",
    "    'st3_name')\n",
    "fig = bar_chart(tmp['nb_patents'].sort_values(ascending=False).iloc[:15],\n",
    "                'Number of Applications by ApplnAuth since {}'.format(threshold))\n",
    "pio.write_image(fig, plots_path + '/201_ApplnAuth_byAuth70s.png', width=1200, height=800)\n",
    "#  py.iplot(fig)\n"
   ]
  },
  {
   "cell_type": "code",
   "execution_count": 301,
   "metadata": {},
   "outputs": [],
   "source": [
    "# Application by auth over time\n",
    "for cnt_code in df.appln_auth.unique():\n",
    "    try:  # some organizations don't have names ...\n",
    "        cnt_name = df_org.query('ctry_code == @cnt_code')[\"st3_name\"].values[0]\n",
    "    except:\n",
    "        pass\n",
    "    tmp = df.dropna().set_index('year').query('appln_auth==@cnt_code')['nb_patents']\n",
    "    # be careful; there is a large number of year=nan for some countries (ex: DE, CA)\n",
    "    if sum(tmp) > 1e6:\n",
    "        fig = bar_chart(tmp, 'Applications by year in {}'.format(cnt_name))\n",
    "        pio.write_image(fig,\n",
    "                        plots_path + tmp_path + '/201_ApplnAuth_{}_byYear.png'.format(cnt_code),\n",
    "                        width=1200, height=800)\n"
   ]
  },
  {
   "cell_type": "markdown",
   "metadata": {},
   "source": [
    "## APPLN_NR"
   ]
  },
  {
   "cell_type": "markdown",
   "metadata": {},
   "source": [
    "**Full name**: Application Number\n",
    "\n",
    "**Description**: Number issued by the Patent Authority where the National, International or Regional application was filed\n",
    "\n",
    "**Format**: bytes, \"\", 15bytes"
   ]
  },
  {
   "cell_type": "markdown",
   "metadata": {},
   "source": [
    "Note: Ends with A, D, K, T or X to create \"dummy\" application numbers that are present because the number is mandatory but the actual number is not known.\n",
    "\n",
    "- A: data errors\n",
    "- D: dummy application; the publication number is put in front of the D\n",
    "- K: special type of older Brazilian application (number format 11nnnnnK )\n",
    "- T: dummy technical priority\n",
    "- X: dummy pre-1970 derived priority\n",
    "\n"
   ]
  },
  {
   "cell_type": "markdown",
   "metadata": {},
   "source": [
    "```python\n",
    "query = \"\"\"\n",
    "SELECT\n",
    "  #  year,\n",
    "  COUNT(*) AS nb_dummy,\n",
    "  CASE\n",
    "    WHEN SUBSTR(appln_nr, -1)=\"A\" THEN \"data errors\"\n",
    "    WHEN SUBSTR(appln_nr, -1)=\"D\" THEN \"dummy application\"\n",
    "    WHEN SUBSTR(appln_nr, -1)=\"T\" THEN \"technical priority\"\n",
    "    WHEN SUBSTR(appln_nr, -1)=\"X\" THEN \"pre-1970 derived priority\"\n",
    "    ELSE \"no dummy\"\n",
    "  END AS dummy\n",
    "FROM\n",
    "  raw.tls201_cp\n",
    "GROUP BY\n",
    "  #  year,\n",
    "  #  appln_auth,\n",
    "  dummy;\n",
    "  #ORDER BY\n",
    "  #  year;\n",
    "  #  appln_auth;\"\"\"\n",
    "# feel-free to uncomment to get year and appln_auth details\n",
    "client.query(query=query).to_dataframe().to_csv(views_path + '201_ApplnNR_byDummy.csv')\n",
    "```"
   ]
  },
  {
   "cell_type": "code",
   "execution_count": 329,
   "metadata": {},
   "outputs": [],
   "source": [
    "df = pd.read_csv(views_path + '201_ApplnNR_byDummy.csv', index_col=0)"
   ]
  },
  {
   "cell_type": "code",
   "execution_count": 336,
   "metadata": {},
   "outputs": [],
   "source": [
    "tmp = df.set_index('dummy')['nb_dummy'].sort_values(ascending=False)\n",
    "fig = bar_chart(tmp, 'ApplnNr by Dummy')\n",
    "pio.write_image(fig, plots_path + '201_ApplnNR_byDummy.png')"
   ]
  },
  {
   "cell_type": "markdown",
   "metadata": {},
   "source": [
    "## APPLN_KIND"
   ]
  },
  {
   "cell_type": "markdown",
   "metadata": {},
   "source": [
    "**Full name**: Kind of application\n",
    "\n",
    "**Description**: Specification of the kind of application\n",
    "\n",
    "**Format**: str, , 1-2ascii"
   ]
  },
  {
   "cell_type": "markdown",
   "metadata": {},
   "source": [
    "Note:\n",
    "\n",
    "- A: patent\n",
    "- U: utility model\n",
    "- F: design patent\n",
    "- P: provisional application\n",
    "- W: PCT application (in the international phase)\n",
    "- T: used by some offices (e. g. AT, DE, DK, ES, GR, HR, PL, PT, SI, SM, TR) for applications which are \"translations\" of granted PCT or EP applications\n",
    "- D2, D3: artificial applications\n",
    "- D,K,L,M,N: dummy for de-duplicating\n",
    "- Other values are used temporarily to resolve minor problems that would otherwise have prevented the application to be recorded in DOCDB"
   ]
  },
  {
   "cell_type": "markdown",
   "metadata": {},
   "source": [
    "```python\n",
    "query = \"\"\"SELECT\n",
    "  year,\n",
    "  appln_auth,\n",
    "  count(*) AS nb_kind,\n",
    "  CASE\n",
    "    WHEN appln_kind=\"A \" THEN \"Patent\"\n",
    "    WHEN appln_kind=\"U \" THEN \"Utility model\"\n",
    "    WHEN appln_kind=\"F \" THEN \"Design patent\"\n",
    "    WHEN appln_kind=\"P \" THEN \"Provisional application\"\n",
    "    WHEN appln_kind=\"W \" THEN \"PCT application\"\n",
    "    WHEN appln_kind=\"T \" THEN \"Translation\"\n",
    "    WHEN appln_kind=\"D2\" OR appln_kind=\"D3\" THEN \"Translation\"\n",
    "    WHEN appln_kind=\"D \"\n",
    "  OR appln_kind=\"K \"\n",
    "  OR appln_kind=\"L \"\n",
    "  OR appln_kind=\"M \"\n",
    "  OR appln_kind=\"N \" THEN \"Dummy\"\n",
    "    ELSE \"Temp\"\n",
    "  END AS kind\n",
    "FROM\n",
    "  raw.tls201_cp\n",
    "GROUP BY\n",
    "  year,\n",
    "  appln_auth,\n",
    "  kind\n",
    "ORDER BY\n",
    "  year,\n",
    "  appln_auth,\n",
    "  kind;\"\"\"\n",
    "client.query(query).to_dataframe().to_csv(views_path+'201_ApplnKind_byYearAuth.csv')\n",
    "```"
   ]
  },
  {
   "cell_type": "code",
   "execution_count": 352,
   "metadata": {},
   "outputs": [],
   "source": [
    "df = pd.read_csv(views_path + '201_ApplnKind_byYearAuth.csv',\n",
    "                 index_col=0)\n"
   ]
  },
  {
   "cell_type": "code",
   "execution_count": 356,
   "metadata": {},
   "outputs": [],
   "source": [
    "# Overall ApplnKind\n",
    "tmp = df.groupby('kind').sum()['nb_kind'].sort_values(ascending=False)\n",
    "fig = bar_chart(tmp, 'Appln kind')\n",
    "pio.write_image(fig, plots_path + '201_ApplnKind.png')\n"
   ]
  },
  {
   "cell_type": "code",
   "execution_count": 365,
   "metadata": {},
   "outputs": [],
   "source": [
    "# ApplnKind by Year\n",
    "tmp = df.dropna().set_index('year')\n",
    "fig = stacked_bar_chart(tmp, 'kind', 'nb_kind', title='Appln kind by year')\n",
    "pio.write_image(fig, plots_path + '201_ApplnKind_byYear.png',\n",
    "                width=1200, height=800)\n"
   ]
  },
  {
   "cell_type": "markdown",
   "metadata": {},
   "source": [
    "<font color=#1F618D>PC: Could look by cnt as well.</font>"
   ]
  },
  {
   "cell_type": "markdown",
   "metadata": {},
   "source": [
    "## <font color=grey>APPLN_FILING_DATE</font>"
   ]
  },
  {
   "cell_type": "markdown",
   "metadata": {},
   "source": [
    "<font color=grey>**Full name**: Application filing date\n",
    "\n",
    "**Description**: Date on which the application was physically received at the Patent Authority\n",
    "\n",
    "**Format**: date, 9999-12-31, yyyy-mm-dd</font>"
   ]
  },
  {
   "cell_type": "markdown",
   "metadata": {},
   "source": [
    "##  APPLN_FILING_YEAR"
   ]
  },
  {
   "cell_type": "markdown",
   "metadata": {},
   "source": [
    "**Full name**: Application filing year\n",
    "\n",
    "**Description**: Year on which the application was physically received at the Patent Authority\n",
    "\n",
    "**Format**: date, 9999, yyyy (from APPLN_FLING_DATE)"
   ]
  },
  {
   "cell_type": "markdown",
   "metadata": {},
   "source": [
    "<font color=#1F618D>PC: Partitioning is derived from the `APPLN_FILING_YEAR`. Many prior queries can help us retrieve the distribution of patents per year at 0 cost.</font>"
   ]
  },
  {
   "cell_type": "code",
   "execution_count": 337,
   "metadata": {},
   "outputs": [],
   "source": [
    "df = pd.read_csv(views_path + '/201_ApplnAuth_byYear.csv', index_col=0)"
   ]
  },
  {
   "cell_type": "code",
   "execution_count": 342,
   "metadata": {},
   "outputs": [],
   "source": [
    "tmp = df.groupby('year').sum()['nb_patents']\n",
    "fig = bar_chart(tmp, title='Appln filing by Year')\n",
    "pio.write_image(fig, plots_path + '201_ApplnFilingYear_byYear.png',\n",
    "               width=1200, height=800)"
   ]
  },
  {
   "cell_type": "markdown",
   "metadata": {},
   "source": [
    "## <font color=grey>APPLN_NR_EPODOC</font>"
   ]
  },
  {
   "cell_type": "markdown",
   "metadata": {},
   "source": [
    "<font color=grey>**Full name**: EPODOC application number\n",
    "\n",
    "**Description**: Number in EPODOC format (containing letters and digits) which, if present - will uniquely identify an application. The number is created by the EPO based on the DOCDB application number, application authority and application kind.\n",
    "\n",
    "**Format**: bytes, \"\", 20bytes</font>"
   ]
  },
  {
   "cell_type": "markdown",
   "metadata": {},
   "source": [
    "<font color=#1F618D>PC: can be used to retrieve other variables (see p 96)</font>"
   ]
  },
  {
   "cell_type": "markdown",
   "metadata": {},
   "source": [
    "## <font color=grey>APPLN_NR_ORIGINAL<font>"
   ]
  },
  {
   "cell_type": "markdown",
   "metadata": {},
   "source": [
    "<font color=grey>**Full name**: Original application number\n",
    "\n",
    "**Description**: Application number in original format as provided by the supplier. It is assumed that the number is as printed on the respective publications.\n",
    "\n",
    "**Format**: bytes, \"\", 1-100bytes</font>"
   ]
  },
  {
   "cell_type": "markdown",
   "metadata": {},
   "source": [
    "<font color=grey>Note: Typically these numbers do not contain the country code. In about 10% of the applications no original application number is known.\n",
    "\n",
    "Comment: This attribute is useful to combine application data of PATSTAT with other databases which also contains the original application number.</font>"
   ]
  },
  {
   "cell_type": "markdown",
   "metadata": {},
   "source": [
    "## IPR_TYPE"
   ]
  },
  {
   "cell_type": "markdown",
   "metadata": {},
   "source": [
    "**Full name**: Type of intellectual property\n",
    "\n",
    "**Description**: Type of Intellectual Property Right\n",
    "\n",
    "**Format**: str, , 2ascii"
   ]
  },
  {
   "cell_type": "markdown",
   "metadata": {},
   "source": [
    "Note: Derived from `APPLN_KIND` (see p 169)\n",
    "    \n",
    "- PI: Patent of innovation \n",
    "- UM: Utility Model\n",
    "- DP: Design Patent"
   ]
  },
  {
   "cell_type": "markdown",
   "metadata": {},
   "source": [
    "<font color='orange'>*TODO*</font>: Query by year, auth and ipr_type only."
   ]
  },
  {
   "cell_type": "markdown",
   "metadata": {},
   "source": [
    "## <font color=grey>INTERNAT_APPLN_ID</font>"
   ]
  },
  {
   "cell_type": "markdown",
   "metadata": {},
   "source": [
    "<font color=grey>**Foreign key**\n",
    "\n",
    "**Full name**: Application identification of the earlier PCT international application for an application\n",
    "\n",
    "**Description**: Technical unique identifier without any business meaning\n",
    "\n",
    "**Format**: int, 0, 0 $\\ldots$ 999 999 999</font>"
   ]
  },
  {
   "cell_type": "markdown",
   "metadata": {},
   "source": [
    "# Route of the application"
   ]
  },
  {
   "cell_type": "markdown",
   "metadata": {},
   "source": [
    "<font color=orange>*TODO*</font>: \n",
    "\n",
    "- Summarize : http://www.wipo.int/pct/en/guide/ip03.html#_chapt3 and p 155 (5.07)\n",
    "- Funnel chart ? From national to international even if the route goes the other way round. Still don't know what to do with that info.\n"
   ]
  },
  {
   "cell_type": "markdown",
   "metadata": {},
   "source": [
    "## INT_PHASE"
   ]
  },
  {
   "cell_type": "markdown",
   "metadata": {},
   "source": [
    "**Full name**: Indicator whether the application is or has been in the international phase\n",
    "\n",
    "**Description**: Indicates that an application is or has been in the international phase.\n",
    "\n",
    "**Format**: bool, `False`, {`True`;`False`}"
   ]
  },
  {
   "cell_type": "markdown",
   "metadata": {},
   "source": [
    "Note: These indicators provide a somewhat *simplistic* approach to identify the route an application has taken. This is the result of interpretations and assumptions for which no responsibility whatsoever can be accepted.\n",
    "\n",
    "WARNING: These indicators only help to understand applications which actually exist in PATSTAT. It does not help to answer questions like “How many EP applications are valid in country x”, because not every office publishes patents which are validated / granted in their country. Consequently, there is no publication or application in PATSTAT for every granted patent. The same will apply for the Unitary Patents, if there is no publication for that (see p 154)."
   ]
  },
  {
   "cell_type": "markdown",
   "metadata": {},
   "source": [
    "## REG_PHASE"
   ]
  },
  {
   "cell_type": "markdown",
   "metadata": {},
   "source": [
    "**Full name**: Indicator whether the application is or has been in the regional phase\n",
    "\n",
    "**Description**: Indicates that an application is or has been in the regional phase.\n",
    "\n",
    "**Format**: bool, `False`, {`True`;`False`}"
   ]
  },
  {
   "cell_type": "markdown",
   "metadata": {},
   "source": [
    "## NAT_PHASE"
   ]
  },
  {
   "cell_type": "markdown",
   "metadata": {},
   "source": [
    "**Full name**: Indicator whether the application is or has been in the national phase\n",
    "\n",
    "**Description**: Indicates that an application is or has been in the national phase.\n",
    "\n",
    "**Format**: bool, `False`, {`True`;`False`}"
   ]
  },
  {
   "cell_type": "code",
   "execution_count": 368,
   "metadata": {},
   "outputs": [],
   "source": [
    "query=\"\"\"SELECT\n",
    "  year,\n",
    "  appln_auth,\n",
    "  int_phase,\n",
    "  reg_phase,\n",
    "  nat_phase,\n",
    "  COUNT(*) AS nb_phase\n",
    "FROM\n",
    "  raw.tls201_cp\n",
    "GROUP BY\n",
    "  year,\n",
    "  appln_auth,\n",
    "  int_phase,\n",
    "  reg_phase,\n",
    "  nat_phase\n",
    "ORDER BY\n",
    "  year,\n",
    "  appln_auth;\"\"\"\n",
    "\n",
    "client.query(query).to_dataframe().to_csv(views_path + '201_Phases.csv')"
   ]
  },
  {
   "cell_type": "code",
   "execution_count": 369,
   "metadata": {},
   "outputs": [],
   "source": [
    "df = pd.read_csv(views_path + '201_Phases.csv', index_col=0)"
   ]
  },
  {
   "cell_type": "code",
   "execution_count": 384,
   "metadata": {},
   "outputs": [
    {
     "data": {
      "text/html": [
       "<div>\n",
       "<style scoped>\n",
       "    .dataframe tbody tr th:only-of-type {\n",
       "        vertical-align: middle;\n",
       "    }\n",
       "\n",
       "    .dataframe tbody tr th {\n",
       "        vertical-align: top;\n",
       "    }\n",
       "\n",
       "    .dataframe thead th {\n",
       "        text-align: right;\n",
       "    }\n",
       "</style>\n",
       "<table border=\"1\" class=\"dataframe\">\n",
       "  <thead>\n",
       "    <tr style=\"text-align: right;\">\n",
       "      <th></th>\n",
       "      <th></th>\n",
       "      <th></th>\n",
       "      <th>nb_phase</th>\n",
       "    </tr>\n",
       "    <tr>\n",
       "      <th>int_phase</th>\n",
       "      <th>reg_phase</th>\n",
       "      <th>nat_phase</th>\n",
       "      <th></th>\n",
       "    </tr>\n",
       "  </thead>\n",
       "  <tbody>\n",
       "    <tr>\n",
       "      <th rowspan=\"4\" valign=\"top\">False</th>\n",
       "      <th rowspan=\"2\" valign=\"top\">False</th>\n",
       "      <th>False</th>\n",
       "      <td>5626</td>\n",
       "    </tr>\n",
       "    <tr>\n",
       "      <th>True</th>\n",
       "      <td>72110968</td>\n",
       "    </tr>\n",
       "    <tr>\n",
       "      <th rowspan=\"2\" valign=\"top\">True</th>\n",
       "      <th>False</th>\n",
       "      <td>1765314</td>\n",
       "    </tr>\n",
       "    <tr>\n",
       "      <th>True</th>\n",
       "      <td>1853271</td>\n",
       "    </tr>\n",
       "    <tr>\n",
       "      <th rowspan=\"4\" valign=\"top\">True</th>\n",
       "      <th rowspan=\"2\" valign=\"top\">False</th>\n",
       "      <th>False</th>\n",
       "      <td>2798628</td>\n",
       "    </tr>\n",
       "    <tr>\n",
       "      <th>True</th>\n",
       "      <td>4971398</td>\n",
       "    </tr>\n",
       "    <tr>\n",
       "      <th rowspan=\"2\" valign=\"top\">True</th>\n",
       "      <th>False</th>\n",
       "      <td>1399161</td>\n",
       "    </tr>\n",
       "    <tr>\n",
       "      <th>True</th>\n",
       "      <td>877567</td>\n",
       "    </tr>\n",
       "  </tbody>\n",
       "</table>\n",
       "</div>"
      ],
      "text/plain": [
       "                               nb_phase\n",
       "int_phase reg_phase nat_phase          \n",
       "False     False     False          5626\n",
       "                    True       72110968\n",
       "          True      False       1765314\n",
       "                    True        1853271\n",
       "True      False     False       2798628\n",
       "                    True        4971398\n",
       "          True      False       1399161\n",
       "                    True         877567"
      ]
     },
     "execution_count": 384,
     "metadata": {},
     "output_type": "execute_result"
    }
   ],
   "source": [
    "df.groupby(['int_phase', 'reg_phase', 'nat_phase']).sum()['nb_phase'].to_frame()"
   ]
  },
  {
   "cell_type": "code",
   "execution_count": 378,
   "metadata": {},
   "outputs": [
    {
     "data": {
      "text/html": [
       "<div>\n",
       "<style scoped>\n",
       "    .dataframe tbody tr th:only-of-type {\n",
       "        vertical-align: middle;\n",
       "    }\n",
       "\n",
       "    .dataframe tbody tr th {\n",
       "        vertical-align: top;\n",
       "    }\n",
       "\n",
       "    .dataframe thead th {\n",
       "        text-align: right;\n",
       "    }\n",
       "</style>\n",
       "<table border=\"1\" class=\"dataframe\">\n",
       "  <thead>\n",
       "    <tr style=\"text-align: right;\">\n",
       "      <th></th>\n",
       "      <th>year</th>\n",
       "      <th>nb_phase</th>\n",
       "    </tr>\n",
       "    <tr>\n",
       "      <th>int_phase</th>\n",
       "      <th></th>\n",
       "      <th></th>\n",
       "    </tr>\n",
       "  </thead>\n",
       "  <tbody>\n",
       "    <tr>\n",
       "      <th>False</th>\n",
       "      <td>14821520.0</td>\n",
       "      <td>75740125</td>\n",
       "    </tr>\n",
       "    <tr>\n",
       "      <th>True</th>\n",
       "      <td>8615728.0</td>\n",
       "      <td>10050063</td>\n",
       "    </tr>\n",
       "  </tbody>\n",
       "</table>\n",
       "</div>"
      ],
      "text/plain": [
       "                 year  nb_phase\n",
       "int_phase                      \n",
       "False      14821520.0  75740125\n",
       "True        8615728.0  10050063"
      ]
     },
     "execution_count": 378,
     "metadata": {},
     "output_type": "execute_result"
    }
   ],
   "source": [
    "df.groupby(['int_phase']).sum()"
   ]
  },
  {
   "cell_type": "code",
   "execution_count": 379,
   "metadata": {},
   "outputs": [
    {
     "data": {
      "text/html": [
       "<div>\n",
       "<style scoped>\n",
       "    .dataframe tbody tr th:only-of-type {\n",
       "        vertical-align: middle;\n",
       "    }\n",
       "\n",
       "    .dataframe tbody tr th {\n",
       "        vertical-align: top;\n",
       "    }\n",
       "\n",
       "    .dataframe thead th {\n",
       "        text-align: right;\n",
       "    }\n",
       "</style>\n",
       "<table border=\"1\" class=\"dataframe\">\n",
       "  <thead>\n",
       "    <tr style=\"text-align: right;\">\n",
       "      <th></th>\n",
       "      <th>year</th>\n",
       "      <th>int_phase</th>\n",
       "      <th>nb_phase</th>\n",
       "    </tr>\n",
       "    <tr>\n",
       "      <th>reg_phase</th>\n",
       "      <th></th>\n",
       "      <th></th>\n",
       "      <th></th>\n",
       "    </tr>\n",
       "  </thead>\n",
       "  <tbody>\n",
       "    <tr>\n",
       "      <th>False</th>\n",
       "      <td>21693742.0</td>\n",
       "      <td>3963.0</td>\n",
       "      <td>79888810</td>\n",
       "    </tr>\n",
       "    <tr>\n",
       "      <th>True</th>\n",
       "      <td>1509291.0</td>\n",
       "      <td>320.0</td>\n",
       "      <td>5895313</td>\n",
       "    </tr>\n",
       "  </tbody>\n",
       "</table>\n",
       "</div>"
      ],
      "text/plain": [
       "                 year  int_phase  nb_phase\n",
       "reg_phase                                 \n",
       "False      21693742.0     3963.0  79888810\n",
       "True        1509291.0      320.0   5895313"
      ]
     },
     "execution_count": 379,
     "metadata": {},
     "output_type": "execute_result"
    }
   ],
   "source": [
    "df.groupby(['reg_phase']).sum()"
   ]
  },
  {
   "cell_type": "code",
   "execution_count": 380,
   "metadata": {},
   "outputs": [
    {
     "data": {
      "text/html": [
       "<div>\n",
       "<style scoped>\n",
       "    .dataframe tbody tr th:only-of-type {\n",
       "        vertical-align: middle;\n",
       "    }\n",
       "\n",
       "    .dataframe tbody tr th {\n",
       "        vertical-align: top;\n",
       "    }\n",
       "\n",
       "    .dataframe thead th {\n",
       "        text-align: right;\n",
       "    }\n",
       "</style>\n",
       "<table border=\"1\" class=\"dataframe\">\n",
       "  <thead>\n",
       "    <tr style=\"text-align: right;\">\n",
       "      <th></th>\n",
       "      <th>year</th>\n",
       "      <th>int_phase</th>\n",
       "      <th>nb_phase</th>\n",
       "    </tr>\n",
       "    <tr>\n",
       "      <th>nat_phase</th>\n",
       "      <th></th>\n",
       "      <th></th>\n",
       "      <th></th>\n",
       "    </tr>\n",
       "  </thead>\n",
       "  <tbody>\n",
       "    <tr>\n",
       "      <th>False</th>\n",
       "      <td>4526514.0</td>\n",
       "      <td>2076.0</td>\n",
       "      <td>5968729</td>\n",
       "    </tr>\n",
       "    <tr>\n",
       "      <th>True</th>\n",
       "      <td>18860694.0</td>\n",
       "      <td>2254.0</td>\n",
       "      <td>79819269</td>\n",
       "    </tr>\n",
       "  </tbody>\n",
       "</table>\n",
       "</div>"
      ],
      "text/plain": [
       "                 year  int_phase  nb_phase\n",
       "nat_phase                                 \n",
       "False       4526514.0     2076.0   5968729\n",
       "True       18860694.0     2254.0  79819269"
      ]
     },
     "execution_count": 380,
     "metadata": {},
     "output_type": "execute_result"
    }
   ],
   "source": [
    "df.groupby(['nat_phase']).sum()"
   ]
  },
  {
   "cell_type": "markdown",
   "metadata": {},
   "source": [
    "# Data from priorities"
   ]
  },
  {
   "cell_type": "markdown",
   "metadata": {},
   "source": [
    "## <font color=grey>EARLIEST_FILING_DATE</font>"
   ]
  },
  {
   "cell_type": "markdown",
   "metadata": {},
   "source": [
    "<font color=grey>**Full name**: Date of the earliest filing\n",
    "\n",
    "**Description**: The earliest date of the filing dates of the application itself, its Paris Convention priority applications, the applications with which it is related via technical relations and its application continuations.\n",
    "\n",
    "**Format**: date, 9999-12-31, yyyy-mm-dd\n",
    "</font>"
   ]
  },
  {
   "cell_type": "markdown",
   "metadata": {},
   "source": [
    "<font color=grey>Note: Only directly related applications are considered; this is unlike the INPADOC family, where applications might also be indirectly related.</font>"
   ]
  },
  {
   "cell_type": "markdown",
   "metadata": {},
   "source": [
    "## EARLIEST_FILING_YEAR"
   ]
  },
  {
   "cell_type": "markdown",
   "metadata": {},
   "source": [
    "**Full name**: Year of the earliest filing date\n",
    "\n",
    "**Description**: Year of the earliest filing date\n",
    "\n",
    "**Format**: date, 9999, yyyy"
   ]
  },
  {
   "cell_type": "markdown",
   "metadata": {},
   "source": [
    "## <font color=grey>EARLIEST_FILING_ID</font>"
   ]
  },
  {
   "cell_type": "markdown",
   "metadata": {},
   "source": [
    "<font color=grey>**Foreign Key**\n",
    "\n",
    "**Full name**: Application ID of the earliest filing\n",
    "\n",
    "**Description**: The ID of the earliest application, considering the application itself, its Paris Convention priority applications, the applications with which it is related via technical relations and its application continuations.\n",
    "\n",
    "**Format**: int, , 0 $\\ldots$ 999 9999 999</font>"
   ]
  },
  {
   "cell_type": "markdown",
   "metadata": {},
   "source": [
    "<font color=grey>Note: If multiple applications have been filed on the earliest filing date, then conceptually any of these applications can be regarded as the earliest application. Nevertheless, the logic to determine the application which has been filed first is like this:\n",
    "\n",
    "1. If there is a PCT application which was filed on the earliest application date, then the APPLN_ID of this PCT application is taken as the EARLIEST_FILING_ID.\n",
    "2. Else: If there are 1 or more Paris convention priorities which were filed on the earliest application date, then the Paris convention priority with the smallest APPLN_ID is taken as the EARLIEST_FILING_ID.\n",
    "3. Else: the application which was filed on the earliest application date with the smallest APPLN_ID will be taken.\n",
    "</font>"
   ]
  },
  {
   "cell_type": "markdown",
   "metadata": {},
   "source": [
    "# Data from publications"
   ]
  },
  {
   "cell_type": "markdown",
   "metadata": {},
   "source": [
    "<font color=orange>TODO</font>: \n",
    "\n",
    "- count by YEAR and AUTH\n",
    "- avg(year) between EARLIEST_FILING_DATE and EARLIEST_PUBN_DATE"
   ]
  },
  {
   "cell_type": "markdown",
   "metadata": {},
   "source": [
    "## EARLIEST_PUBLN_DATE"
   ]
  },
  {
   "cell_type": "markdown",
   "metadata": {},
   "source": [
    "**Full name**: Date of earliest publication\n",
    "\n",
    "**Description**: Date of earliest publication\n",
    "\n",
    "**Format**: date, 9999-12-31, yyyy-mm-dd"
   ]
  },
  {
   "cell_type": "markdown",
   "metadata": {},
   "source": [
    "## EARLIEST_PUBLN_YEAR"
   ]
  },
  {
   "cell_type": "markdown",
   "metadata": {},
   "source": [
    "**Full name**: Year of earliest publication\n",
    "\n",
    "**Description**: Year of earliest publication\n",
    "\n",
    "**Format**: date, 9999, yyyy"
   ]
  },
  {
   "cell_type": "markdown",
   "metadata": {},
   "source": [
    "## EARLIEST_PAT_PUBLN_ID"
   ]
  },
  {
   "cell_type": "markdown",
   "metadata": {},
   "source": [
    "**Foreign Key**\n",
    "\n",
    "**Full name**: ID of the earliest publication\n",
    "\n",
    "**Description**: The ID of a publication published on the earliest publication date of an application\n",
    "\n",
    "**Format**: int, 0, 0 $\\ldots$ 999 999 999"
   ]
  },
  {
   "cell_type": "markdown",
   "metadata": {},
   "source": [
    "# Data derived from publications"
   ]
  },
  {
   "cell_type": "markdown",
   "metadata": {},
   "source": [
    "<font color=orange>TODO</font>: \n",
    "\n",
    "- count GRANTED by YEAR and AUTH"
   ]
  },
  {
   "cell_type": "markdown",
   "metadata": {},
   "source": [
    "## GRANTED"
   ]
  },
  {
   "cell_type": "markdown",
   "metadata": {},
   "source": [
    "**Full name**: \"Granted\" indicator\n",
    "\n",
    "**Description**: True if there exists a publication of the grant; False otherwise\n",
    "\n",
    "**Format**: bool, , {`True`, `False`}"
   ]
  },
  {
   "cell_type": "markdown",
   "metadata": {},
   "source": [
    "Note: This variable is the result of interpretations and assumptions for which no responsibility whatsoever can be accepted."
   ]
  },
  {
   "cell_type": "markdown",
   "metadata": {},
   "source": [
    "# Family data"
   ]
  },
  {
   "cell_type": "markdown",
   "metadata": {},
   "source": [
    "## DOCDB_FAMILY_ID"
   ]
  },
  {
   "cell_type": "markdown",
   "metadata": {},
   "source": [
    "**Foreign Key**\n",
    "\n",
    "**Full name**: Identifier of a DOCDB simple family\n",
    "\n",
    "**Description**: Means that *most probably* the applications share exactly the same priorities (Paris Convention or technical relation or others) as in table `TLS201_APPLN`, `TLS204_PRIOR_APPLN`, `TLS205_TECH_REL` and `TLS216_APPLN_CONTN`.\n",
    "\n",
    "**Format**: int, , 0 $\\ldots$ 999 999 999"
   ]
  },
  {
   "cell_type": "markdown",
   "metadata": {},
   "source": [
    "Note: 0 indicates that the application does not belong to any DOCDB family. This is only the case for the dummy application (APPLN_ID = 0) and for artificial applications (APPLN_ID ≥ 900 000 000). See more p 132."
   ]
  },
  {
   "cell_type": "markdown",
   "metadata": {},
   "source": [
    "## INPADOC_FAMILY_ID"
   ]
  },
  {
   "cell_type": "markdown",
   "metadata": {},
   "source": [
    "**Foreign Key**\n",
    "\n",
    "**Full name**: Identifier of an INPADOC *extended* priority family\n",
    "\n",
    "**Description**: Means that the applications share a priority directly or indirectly via a third application. A 'priority' in this case means a link shown between applications as in tables `TLS201_APPLN` (regional/national phase of a PCT application), `TLS204_APPLN_PRIOR` (PARIS convention priorities), `TLS205_TECH_REL` (patents which have been technically linked by patent examiners on the basis of similar content) and table `TLS216_APPLN_CONTN` (continuations, divisions etc.).\n",
    "\n",
    "**Format**: int, 0, 0 $\\ldots$ 999 999 999"
   ]
  },
  {
   "cell_type": "markdown",
   "metadata": {},
   "source": [
    "Note: Much patent research is affected by the “family” concepts. There are various definitions of how to link different patents into “families”. This INPADOC extended priority family was developed by the INPADOC organisation before it was integrated into the EPO."
   ]
  },
  {
   "cell_type": "markdown",
   "metadata": {},
   "source": [
    "## DOCDB_FAMILY_size"
   ]
  },
  {
   "cell_type": "markdown",
   "metadata": {},
   "source": [
    "**Full name**: Size of DOCDB simple family\n",
    "\n",
    "**Description**:  Size of DOCDB simple family\n",
    "\n",
    "**Format**: int, , 0 $\\ldots$ 200"
   ]
  },
  {
   "cell_type": "markdown",
   "metadata": {},
   "source": [
    "<font color=orange>TODO</font>: \n",
    "\n",
    "- distribution (requires external info to trace the earliest filing appn such as YEAR and AUTH)"
   ]
  },
  {
   "cell_type": "markdown",
   "metadata": {},
   "source": [
    "## NB_CITING_DOCDB_FAM"
   ]
  },
  {
   "cell_type": "markdown",
   "metadata": {},
   "source": [
    "**Full name**: Number of forward citations on family level\n",
    "\n",
    "**Description**: Number of distinct DOCDB simple families citing at least one of the publications or applications of the DOCDB simple family of the current application (search report citations from `TLS212_CITATION`)\n",
    "\n",
    "**Format**: int, , 0 $\\ldots$ 200"
   ]
  },
  {
   "cell_type": "markdown",
   "metadata": {},
   "source": [
    "<font color=orange>TODO</font>: \n",
    "\n",
    "- distribution (requires external info to trace de earliest filing appn such as YEAR and AUTH)\n",
    "- interactions between family size and nb_citing (dist plot) https://plot.ly/ipython-notebooks/2d-kernel-density-distributions/"
   ]
  },
  {
   "cell_type": "markdown",
   "metadata": {},
   "source": [
    "# Aggregated data"
   ]
  },
  {
   "cell_type": "markdown",
   "metadata": {},
   "source": [
    "## NB_APPLICANTS"
   ]
  },
  {
   "cell_type": "markdown",
   "metadata": {},
   "source": [
    "**Full name**: Number of applicants of an application\n",
    "\n",
    "**Description**: Number of applicants of an application *according to the most recent publication*\n",
    "\n",
    "**Format**: int, , 0 $\\ldots$ "
   ]
  },
  {
   "cell_type": "markdown",
   "metadata": {},
   "source": [
    "<font color=orange>TODO</font>: distribution + Think about longitudinal dimension (YEAR, AUTH)\n",
    "\n",
    "\n",
    "<font color=red>WARNING</font>: How to avoid duplicates ? -> Group by earliest_pat_publn_date, DOCD family."
   ]
  },
  {
   "cell_type": "markdown",
   "metadata": {},
   "source": [
    "## NB_INVENTORS"
   ]
  },
  {
   "cell_type": "markdown",
   "metadata": {},
   "source": [
    "**Full name**: Number of inventors of an application\n",
    "\n",
    "**Description**: Number of inventors of an application *according to the most recent publication*\n",
    "\n",
    "**Format**: int, , 0 $\\ldots$"
   ]
  },
  {
   "cell_type": "markdown",
   "metadata": {},
   "source": [
    "<font color=orange>TODO</font>: distribution + Think about longitudinal dimension (YEAR, AUTH)\n",
    "\n",
    "\n",
    "<font color=red>WARNING</font>: How to avoid duplicates ? -> Group by earliest_pat_publn_date, DOCD family."
   ]
  },
  {
   "cell_type": "markdown",
   "metadata": {},
   "source": [
    "# Time series of patent application"
   ]
  },
  {
   "cell_type": "markdown",
   "metadata": {},
   "source": [
    "# IPR type"
   ]
  },
  {
   "cell_type": "raw",
   "metadata": {},
   "source": []
  },
  {
   "cell_type": "raw",
   "metadata": {},
   "source": [
    "df_ipr.date = pd.DatetimeIndex(df_ipr.date).year\n",
    "df_ipr.to_csv(data_path + '/ipr_yr_auth.csv')"
   ]
  },
  {
   "cell_type": "code",
   "execution_count": 67,
   "metadata": {},
   "outputs": [],
   "source": [
    "df_ipr = pd.read_csv(data_path + '/ipr_yr_auth.csv', index_col=0)"
   ]
  },
  {
   "cell_type": "code",
   "execution_count": 72,
   "metadata": {},
   "outputs": [
    {
     "data": {
      "text/html": [
       "<div>\n",
       "<style scoped>\n",
       "    .dataframe tbody tr th:only-of-type {\n",
       "        vertical-align: middle;\n",
       "    }\n",
       "\n",
       "    .dataframe tbody tr th {\n",
       "        vertical-align: top;\n",
       "    }\n",
       "\n",
       "    .dataframe thead th {\n",
       "        text-align: right;\n",
       "    }\n",
       "</style>\n",
       "<table border=\"1\" class=\"dataframe\">\n",
       "  <thead>\n",
       "    <tr style=\"text-align: right;\">\n",
       "      <th></th>\n",
       "      <th>ipr_type</th>\n",
       "      <th>date</th>\n",
       "      <th>appln_auth</th>\n",
       "      <th>nb_ipr</th>\n",
       "    </tr>\n",
       "  </thead>\n",
       "  <tbody>\n",
       "    <tr>\n",
       "      <th>3524</th>\n",
       "      <td>UM</td>\n",
       "      <td>2015.0</td>\n",
       "      <td>FR</td>\n",
       "      <td>87</td>\n",
       "    </tr>\n",
       "    <tr>\n",
       "      <th>3525</th>\n",
       "      <td>PI</td>\n",
       "      <td>2015.0</td>\n",
       "      <td>FR</td>\n",
       "      <td>2292</td>\n",
       "    </tr>\n",
       "    <tr>\n",
       "      <th>3526</th>\n",
       "      <td>UM</td>\n",
       "      <td>2014.0</td>\n",
       "      <td>FR</td>\n",
       "      <td>297</td>\n",
       "    </tr>\n",
       "    <tr>\n",
       "      <th>3527</th>\n",
       "      <td>PI</td>\n",
       "      <td>2014.0</td>\n",
       "      <td>FR</td>\n",
       "      <td>12236</td>\n",
       "    </tr>\n",
       "    <tr>\n",
       "      <th>3528</th>\n",
       "      <td>UM</td>\n",
       "      <td>2013.0</td>\n",
       "      <td>FR</td>\n",
       "      <td>486</td>\n",
       "    </tr>\n",
       "  </tbody>\n",
       "</table>\n",
       "</div>"
      ],
      "text/plain": [
       "     ipr_type    date appln_auth  nb_ipr\n",
       "3524       UM  2015.0         FR      87\n",
       "3525       PI  2015.0         FR    2292\n",
       "3526       UM  2014.0         FR     297\n",
       "3527       PI  2014.0         FR   12236\n",
       "3528       UM  2013.0         FR     486"
      ]
     },
     "execution_count": 72,
     "metadata": {},
     "output_type": "execute_result"
    }
   ],
   "source": [
    "df_ipr.query('appln_auth ==\"FR\"').head()"
   ]
  },
  {
   "cell_type": "code",
   "execution_count": 146,
   "metadata": {},
   "outputs": [],
   "source": [
    "def plot_ipr_type(df: pd.DataFrame, cnt: str, path: str = None):\n",
    "    tmp = df_ipr.query('appln_auth == @cnt').dropna()\n",
    "    try:\n",
    "        cnt_name = pycountry.countries.get(alpha_2=cnt).name\n",
    "    except:\n",
    "        cnt_name = cnt_a2_name[cnt]\n",
    "    data = []\n",
    "    i = 0\n",
    "    for ipr in tmp.groupby('ipr_type').sum()[\"nb_ipr\"].sort_values(\n",
    "            ascending=False).index.unique():\n",
    "        data += [\n",
    "            go.Bar(\n",
    "                x=tmp.query('ipr_type == @ipr')[\"date\"].values,\n",
    "                y=tmp.query('ipr_type == @ipr')[\"nb_ipr\"].values,\n",
    "                name=ipr,\n",
    "                marker=dict(color=cl.flipper()['seq']['3']['Reds'][i], ))\n",
    "        ]\n",
    "        i += 1\n",
    "    layout = go.Layout(\n",
    "        barmode='stack',\n",
    "        title='Composition of patent applications in {}'.format(cnt_name))\n",
    "    fig = go.Figure(data=data, layout=layout)\n",
    "    pio.write_image(fig, path + '/{}_ts_patents.png'.format(cnt))\n",
    "    #py.iplot(fig, filename='stacked-bar', )"
   ]
  },
  {
   "cell_type": "code",
   "execution_count": 147,
   "metadata": {},
   "outputs": [],
   "source": [
    "no_match = []\n",
    "for cnt in df_ipr.appln_auth.unique():\n",
    "    if df_pat_yrcnt.query(\n",
    "            'appln_auth == @cnt')['nb_patents'].dropna().sum() > 1e5:\n",
    "        try:\n",
    "            plot_ipr_type(df_ipr, cnt, plots_path + 'ipr_type/')\n",
    "        except:\n",
    "            no_match += [cnt]\n",
    "    else:\n",
    "        pass"
   ]
  },
  {
   "cell_type": "markdown",
   "metadata": {},
   "source": [
    "# Granted "
   ]
  },
  {
   "cell_type": "raw",
   "metadata": {},
   "source": [
    "query = \"\"\"\n",
    "SELECT\n",
    "  granted,\n",
    "  year,\n",
    "  appln_auth,\n",
    "  COUNT(*) AS nb_grant\n",
    "FROM\n",
    "  raw.tls201_cp\n",
    "#WHERE\n",
    "#  date>'1900-01-01'\n",
    "GROUP BY\n",
    "  granted,\n",
    "  appln_auth,\n",
    "  year\n",
    "ORDER BY\n",
    "  granted,\n",
    "  year,\n",
    "  appln_auth\n",
    "  ;\"\"\"\n",
    "df_granted = client.query(query).to_dataframe()\n",
    "df_granted.to_csv(data_path + '/grant_yr_auth.csv')"
   ]
  },
  {
   "cell_type": "code",
   "execution_count": 154,
   "metadata": {},
   "outputs": [
    {
     "data": {
      "text/html": [
       "<div>\n",
       "<style scoped>\n",
       "    .dataframe tbody tr th:only-of-type {\n",
       "        vertical-align: middle;\n",
       "    }\n",
       "\n",
       "    .dataframe tbody tr th {\n",
       "        vertical-align: top;\n",
       "    }\n",
       "\n",
       "    .dataframe thead th {\n",
       "        text-align: right;\n",
       "    }\n",
       "</style>\n",
       "<table border=\"1\" class=\"dataframe\">\n",
       "  <thead>\n",
       "    <tr style=\"text-align: right;\">\n",
       "      <th></th>\n",
       "      <th>granted</th>\n",
       "      <th>year</th>\n",
       "      <th>appln_auth</th>\n",
       "      <th>nb_grant</th>\n",
       "    </tr>\n",
       "  </thead>\n",
       "  <tbody>\n",
       "    <tr>\n",
       "      <th>174</th>\n",
       "      <td>False</td>\n",
       "      <td>1844.0</td>\n",
       "      <td>FR</td>\n",
       "      <td>1</td>\n",
       "    </tr>\n",
       "    <tr>\n",
       "      <th>188</th>\n",
       "      <td>False</td>\n",
       "      <td>1858.0</td>\n",
       "      <td>FR</td>\n",
       "      <td>1</td>\n",
       "    </tr>\n",
       "    <tr>\n",
       "      <th>195</th>\n",
       "      <td>False</td>\n",
       "      <td>1861.0</td>\n",
       "      <td>FR</td>\n",
       "      <td>6</td>\n",
       "    </tr>\n",
       "    <tr>\n",
       "      <th>210</th>\n",
       "      <td>False</td>\n",
       "      <td>1866.0</td>\n",
       "      <td>FR</td>\n",
       "      <td>1</td>\n",
       "    </tr>\n",
       "    <tr>\n",
       "      <th>238</th>\n",
       "      <td>False</td>\n",
       "      <td>1875.0</td>\n",
       "      <td>FR</td>\n",
       "      <td>1</td>\n",
       "    </tr>\n",
       "  </tbody>\n",
       "</table>\n",
       "</div>"
      ],
      "text/plain": [
       "     granted    year appln_auth  nb_grant\n",
       "174    False  1844.0         FR         1\n",
       "188    False  1858.0         FR         1\n",
       "195    False  1861.0         FR         6\n",
       "210    False  1866.0         FR         1\n",
       "238    False  1875.0         FR         1"
      ]
     },
     "execution_count": 154,
     "metadata": {},
     "output_type": "execute_result"
    }
   ],
   "source": [
    "df_granted.dropna().query('appln_auth==\"FR\"').head()"
   ]
  },
  {
   "cell_type": "code",
   "execution_count": 184,
   "metadata": {},
   "outputs": [],
   "source": [
    "def plot_grant(df: pd.DataFrame, cnt: str, path: str = None):\n",
    "    tmp = df.query('appln_auth == @cnt').dropna()\n",
    "    try:\n",
    "        cnt_name = pycountry.countries.get(alpha_2=cnt).name\n",
    "    except:\n",
    "        cnt_name = cnt_a2_name[cnt]\n",
    "    data = []\n",
    "\n",
    "    for boo in [True, False]:\n",
    "        i = 0 if boo == False else -1\n",
    "        data += [\n",
    "            go.Bar(\n",
    "                x=tmp.query('granted == @boo')[\"year\"].values,\n",
    "                y=tmp.query('granted == @boo')[\"nb_grant\"].values,\n",
    "                name=boo,\n",
    "                marker=dict(color=cl.scales['3']['div']['RdBu'][i], ))\n",
    "        ]\n",
    "    layout = go.Layout(\n",
    "        barmode='stack', title='Patent grants in {}'.format(cnt_name))\n",
    "    fig = go.Figure(data=data, layout=layout)\n",
    "    pio.write_image(fig, path + '/{}_ts_grants.png'.format(cnt))\n"
   ]
  },
  {
   "cell_type": "code",
   "execution_count": 185,
   "metadata": {},
   "outputs": [],
   "source": [
    "no_match = []\n",
    "for cnt in df_granted.appln_auth.unique():\n",
    "    if df_pat_yrcnt.query(\n",
    "            'appln_auth == @cnt')['nb_patents'].dropna().sum() > 1e5:\n",
    "        try:\n",
    "            plot_grant(df_granted, cnt, plots_path + 'pat_grant/')\n",
    "        except:\n",
    "            no_match += [cnt]\n",
    "    else:\n",
    "        pass"
   ]
  },
  {
   "cell_type": "code",
   "execution_count": 174,
   "metadata": {},
   "outputs": [],
   "source": [
    "plot_grant(df_granted, \"FR\", plots_path + 'pat_grant/')"
   ]
  },
  {
   "cell_type": "markdown",
   "metadata": {},
   "source": [
    "There might be something wrong with the way the `granted` var is coded. Exhibits strange behaviors. Might be due to articificial applications. Check using appln_kind."
   ]
  },
  {
   "cell_type": "markdown",
   "metadata": {},
   "source": [
    "# Snippets"
   ]
  },
  {
   "cell_type": "markdown",
   "metadata": {},
   "source": [
    "## Stacked chart"
   ]
  },
  {
   "cell_type": "markdown",
   "metadata": {},
   "source": [
    "def get_trace(df: pd.DataFrame, cnt:str):\n",
    "    tmp = df.query('appln_auth == @cnt').sort_values('year')\n",
    "    return [go.Bar(\n",
    "            x=tmp['year'].values,\n",
    "            y=tmp['nb_patents'].values,\n",
    "            name = cnt)]\n",
    "            \n",
    "data = []\n",
    "for cnt in df_pat_yrcnt.appln_auth.unique():\n",
    "    data += get_trace(df_pat_yrcnt, cnt)\n",
    "\n",
    "#data = [trace for trace in trace.values()]\n",
    "layout = go.Layout(barmode='stack')\n",
    "\n",
    "fig = go.Figure(data=data, layout=layout)\n",
    "py.iplot(fig, filename='stacked-bar')"
   ]
  },
  {
   "cell_type": "code",
   "execution_count": 239,
   "metadata": {},
   "outputs": [],
   "source": []
  },
  {
   "cell_type": "code",
   "execution_count": 246,
   "metadata": {},
   "outputs": [],
   "source": []
  },
  {
   "cell_type": "code",
   "execution_count": null,
   "metadata": {},
   "outputs": [],
   "source": []
  }
 ],
 "metadata": {
  "kernelspec": {
   "display_name": "jupyter",
   "language": "python",
   "name": "jupyter"
  },
  "language_info": {
   "codemirror_mode": {
    "name": "ipython",
    "version": 3
   },
   "file_extension": ".py",
   "mimetype": "text/x-python",
   "name": "python",
   "nbconvert_exporter": "python",
   "pygments_lexer": "ipython3",
   "version": "3.7.0"
  },
  "latex_envs": {
   "LaTeX_envs_menu_present": true,
   "autoclose": false,
   "autocomplete": true,
   "bibliofile": "biblio.bib",
   "cite_by": "apalike",
   "current_citInitial": 1,
   "eqLabelWithNumbers": true,
   "eqNumInitial": 1,
   "hotkeys": {
    "equation": "Ctrl-E",
    "itemize": "Ctrl-I"
   },
   "labels_anchors": false,
   "latex_user_defs": false,
   "report_style_numbering": false,
   "user_envs_cfg": false
  },
  "toc": {
   "base_numbering": 1,
   "nav_menu": {},
   "number_sections": true,
   "sideBar": true,
   "skip_h1_title": false,
   "title_cell": "Table of Contents",
   "title_sidebar": "Contents",
   "toc_cell": false,
   "toc_position": {
    "height": "calc(100% - 180px)",
    "left": "10px",
    "top": "150px",
    "width": "191.1875px"
   },
   "toc_section_display": true,
   "toc_window_display": true
  }
 },
 "nbformat": 4,
 "nbformat_minor": 2
}
