{
 "cells": [
  {
   "cell_type": "code",
   "execution_count": 1,
   "metadata": {},
   "outputs": [],
   "source": [
    "%load_ext autoreload\n",
    "%autoreload 2"
   ]
  },
  {
   "cell_type": "code",
   "execution_count": 2,
   "metadata": {},
   "outputs": [],
   "source": [
    "from google.cloud import bigquery\n",
    "import pandas as pd\n",
    "import matplotlib\n",
    "import matplotlib.pyplot as plt\n",
    "%matplotlib inline\n",
    "import numpy as np\n",
    "from pathora.plots import stacked_bar_chart, bar_chart\n",
    "import plotly.plotly as py"
   ]
  },
  {
   "cell_type": "code",
   "execution_count": 3,
   "metadata": {},
   "outputs": [],
   "source": [
    "data_path = 'data/'\n",
    "plots_path = 'plots/'\n",
    "views_path = 'views/'"
   ]
  },
  {
   "cell_type": "code",
   "execution_count": 4,
   "metadata": {},
   "outputs": [],
   "source": [
    "client = bigquery.Client()"
   ]
  },
  {
   "cell_type": "markdown",
   "metadata": {},
   "source": [
    "**Date**: 11.10.2018\n",
    "\n",
    "**State**: Work in progress"
   ]
  },
  {
   "cell_type": "markdown",
   "metadata": {},
   "source": [
    "The purpose of this notebook is to provide insights on the geographical origins of applications. The geographical origin of an application is defined as the inventor's country. \n",
    "\n",
    "There can be more than one inventor per application. Thus, we have too choose how to assign an application to one or several countries. The straightest way to do it is to assign $\\frac{1}{nb\\_inventors}$ of a given application to the country of each inventor. However, the output is far from perfect. Depending on the authority and/or the period, the overall time series of applications is far from expected (see tls201 exploratory analysis). This is partly due to the `nb_inventors`  variable. For example, when the inventors are unknown, it is set to 0. Due to our attribution method, we have to exclude these samples although they can be significant at some point. There might be some other strange things happening. When we sum up the number of applications obtained with this method, although the applications with 0 inventors are excluded, we obtain more applications than the total number of applications actually in the database. \n",
    "\n",
    "A simple approach is to keep only the first inventor's (given by `invt_seq_nr`) country. That's what we do in `v3` *Note that the final analysis cannot rely on such a simplistic approach*. That being said, this results can be complemented by our analysis of the case when `nb_inventors` is 0. Put together, these two approaches seem to yield consistent time series. \n",
    "\n",
    "Research directions: \n",
    "\n",
    "1. replace `nb_inventors` by a `nb_occurences` variable. Such a variable will range in $\\mathbb{N}^*$ which solves our `Error: 0 denominator` issue. Moreover, applications whithout known inventors will be categorized in `na` without any additional step (thus minimizing the risk of making a mistake). \n",
    "2. Authorities with many missing inventors' locations should be complemented with external datasets (ex: scrapping)."
   ]
  },
  {
   "cell_type": "markdown",
   "metadata": {},
   "source": [
    "# Queries"
   ]
  },
  {
   "cell_type": "markdown",
   "metadata": {},
   "source": [
    "```python\n",
    "# v1\n",
    "query=\"\"\"\n",
    "SELECT\n",
    "  SUM(1/nb_inventors) AS nb_appln,\n",
    "  year,\n",
    "  appln_auth,\n",
    "  person_ctry_code\n",
    "FROM\n",
    "  raw.tls20167_cp\n",
    "WHERE\n",
    "  nb_inventors>0\n",
    "GROUP BY\n",
    "  year,\n",
    "  appln_auth,\n",
    "  person_ctry_code\n",
    "ORDER BY\n",
    "  year,\n",
    "  appln_auth,\n",
    "  person_ctry_code;\n",
    "\"\"\"\n",
    "client.query(query).to_dataframe().to_csv(views_path + '20167_ApplnAuth_byOriginYear.csv')\n",
    "```"
   ]
  },
  {
   "cell_type": "markdown",
   "metadata": {},
   "source": [
    "```python\n",
    "# v2\n",
    "query=\"\"\"\n",
    "SELECT\n",
    "  SUM(1/nb_applicants) AS nb_appln,\n",
    "  year,\n",
    "  appln_auth,\n",
    "  person_ctry_code\n",
    "FROM\n",
    "  raw.tls20167_cp\n",
    "WHERE\n",
    "  nb_applicants>0 # \n",
    "GROUP BY\n",
    "  year,\n",
    "  appln_auth,\n",
    "  person_ctry_code\n",
    "ORDER BY\n",
    "  year,\n",
    "  appln_auth,\n",
    "  person_ctry_code;\n",
    "\"\"\"\n",
    "client.query(query).to_dataframe().to_csv(views_path + '20167_ApplnAuth_byOriginYear_v2.csv')\n",
    "```"
   ]
  },
  {
   "cell_type": "markdown",
   "metadata": {},
   "source": [
    "```python\n",
    "# v3\n",
    "query=\"\"\"\n",
    "SELECT\n",
    "  COUNT(*) AS nb_appln,\n",
    "  year,\n",
    "  appln_auth,\n",
    "  person_ctry_code\n",
    "FROM\n",
    "  raw.tls20167_cp\n",
    "WHERE\n",
    "  invt_seq_nr=1\n",
    "GROUP BY\n",
    "  year,\n",
    "  appln_auth,\n",
    "  person_ctry_code\n",
    "ORDER BY\n",
    "  year,\n",
    "  appln_auth,\n",
    "  person_ctry_code;\n",
    "\"\"\"\n",
    "client.query(query).to_dataframe().to_csv(views_path + '20167_ApplnAuth_byOriginYear_v3.csv')\n",
    "```"
   ]
  },
  {
   "cell_type": "markdown",
   "metadata": {},
   "source": [
    "# Checks and exploratory analysis"
   ]
  },
  {
   "cell_type": "code",
   "execution_count": 5,
   "metadata": {},
   "outputs": [],
   "source": [
    "df_v1 = pd.read_csv(views_path + '20167_ApplnAuth_byOriginYear_v1.csv', index_col=0)\n",
    "df_v2 = pd.read_csv(views_path + '20167_ApplnAuth_byOriginYear_v2.csv', index_col=0)\n",
    "df_v3 = pd.read_csv(views_path + '20167_ApplnAuth_byOriginYear_v3.csv', index_col=0)"
   ]
  },
  {
   "cell_type": "markdown",
   "metadata": {},
   "source": [
    "## Checks"
   ]
  },
  {
   "cell_type": "code",
   "execution_count": 8,
   "metadata": {},
   "outputs": [
    {
     "name": "stdout",
     "output_type": "stream",
     "text": [
      "df_v1: 92496205.35466744\n",
      "df_v2: 172274724.7333502\n",
      "df_v3: 59110698\n"
     ]
    }
   ],
   "source": [
    "# Check\n",
    "i=0\n",
    "for tmp in [df_v1, df_v2, df_v3]:\n",
    "    i+=1\n",
    "    print('df_v{}: {}'.format(i, tmp.nb_appln.sum()))\n",
    "# Should be equal to the number of applications (ie approx 85.e6)"
   ]
  },
  {
   "cell_type": "markdown",
   "metadata": {},
   "source": [
    "## Exploratory analysis"
   ]
  },
  {
   "cell_type": "code",
   "execution_count": 18,
   "metadata": {},
   "outputs": [],
   "source": [
    "df = df_v3"
   ]
  },
  {
   "cell_type": "code",
   "execution_count": 19,
   "metadata": {},
   "outputs": [],
   "source": [
    "cnt_appln = \"DE\""
   ]
  },
  {
   "cell_type": "code",
   "execution_count": 14,
   "metadata": {},
   "outputs": [
    {
     "name": "stdout",
     "output_type": "stream",
     "text": [
      "High five! You successfully sent some data to your account on plotly. View your plot in your browser at https://plot.ly/~cverluise/0 or inside your plot.ly account where it is named 'test'\n"
     ]
    },
    {
     "data": {
      "text/html": [
       "<iframe id=\"igraph\" scrolling=\"no\" style=\"border:none;\" seamless=\"seamless\" src=\"https://plot.ly/~cverluise/0.embed\" height=\"525px\" width=\"100%\"></iframe>"
      ],
      "text/plain": [
       "<plotly.tools.PlotlyDisplay object>"
      ]
     },
     "execution_count": 14,
     "metadata": {},
     "output_type": "execute_result"
    }
   ],
   "source": [
    "tmp = df.dropna().query('appln_auth==@cnt_appln').copy()\n",
    "tmp['person_ctry_code'] = tmp['person_ctry_code'].replace('  ', 'na')\n",
    "top8 = tmp.groupby(['person_ctry_code']).sum()['nb_appln'].sort_values(ascending=False).index[:8]\n",
    "tmp.loc[~tmp['person_ctry_code'].isin(top8), \"person_ctry_code\"] = 'others'\n",
    "tmp = tmp.groupby(['person_ctry_code', 'year']).sum()['nb_appln'].reset_index('person_ctry_code')\n",
    "fig = stacked_bar_chart(tmp, 'person_ctry_code', 'nb_appln', ('div', 'Spectral'))\n",
    "py.iplot(fig, filename='test')"
   ]
  },
  {
   "cell_type": "markdown",
   "metadata": {},
   "source": [
    "Overall quite consistent with aggregate results BUT some pathological cases/periods. Ex: France, US, GB \n",
    "hypothese: l'information sur les inventeurs/ le nombre ou le premier disparait périodiquement"
   ]
  },
  {
   "cell_type": "markdown",
   "metadata": {},
   "source": [
    "# `nb_inventors` = 0"
   ]
  },
  {
   "cell_type": "markdown",
   "metadata": {},
   "source": [
    "when `nb_inventors`=0, there is no first inventor. Meaning that we miss the related applications in the previous query (v3). This application should however enter the `na` category. It seems that adding these applictaions gets us back to the proper time distributions of applications. "
   ]
  },
  {
   "cell_type": "markdown",
   "metadata": {},
   "source": [
    "```python\n",
    "query=\"\"\"SELECT\n",
    "  COUNT(*) AS count,\n",
    "  year,\n",
    "  appln_auth,\n",
    "  nb_inventors\n",
    "FROM\n",
    "  raw.tls201_cp\n",
    "GROUP BY\n",
    "  year,\n",
    "  appln_auth,\n",
    "  nb_inventors\n",
    "ORDER BY\n",
    "  year,\n",
    "  appln_auth,\n",
    "  nb_inventors;\"\"\"\n",
    "client.query(query).to_dataframe().to_csv(views_path + '201_nbInventors_byApplnAuthYear.csv')  \n",
    "```  "
   ]
  },
  {
   "cell_type": "code",
   "execution_count": 16,
   "metadata": {},
   "outputs": [],
   "source": [
    "df_nbi = pd.read_csv(views_path + '201_nbInventors_byApplnAuthYear.csv', index_col=0)"
   ]
  },
  {
   "cell_type": "code",
   "execution_count": 21,
   "metadata": {},
   "outputs": [
    {
     "name": "stdout",
     "output_type": "stream",
     "text": [
      "High five! You successfully sent some data to your account on plotly. View your plot in your browser at https://plot.ly/~cverluise/0 or inside your plot.ly account where it is named 'test'\n"
     ]
    },
    {
     "data": {
      "text/html": [
       "<iframe id=\"igraph\" scrolling=\"no\" style=\"border:none;\" seamless=\"seamless\" src=\"https://plot.ly/~cverluise/0.embed\" height=\"525px\" width=\"100%\"></iframe>"
      ],
      "text/plain": [
       "<plotly.tools.PlotlyDisplay object>"
      ]
     },
     "execution_count": 21,
     "metadata": {},
     "output_type": "execute_result"
    }
   ],
   "source": [
    "fig = bar_chart(df_nbi.dropna().query('appln_auth==@cnt_appln & nb_inventors==0').set_index('year')['freq'])\n",
    "py.iplot(fig, filename='test')"
   ]
  }
 ],
 "metadata": {
  "kernelspec": {
   "display_name": "jupyter",
   "language": "python",
   "name": "jupyter"
  },
  "language_info": {
   "codemirror_mode": {
    "name": "ipython",
    "version": 3
   },
   "file_extension": ".py",
   "mimetype": "text/x-python",
   "name": "python",
   "nbconvert_exporter": "python",
   "pygments_lexer": "ipython3",
   "version": "3.7.0"
  },
  "latex_envs": {
   "LaTeX_envs_menu_present": true,
   "autoclose": false,
   "autocomplete": true,
   "bibliofile": "biblio.bib",
   "cite_by": "apalike",
   "current_citInitial": 1,
   "eqLabelWithNumbers": true,
   "eqNumInitial": 1,
   "hotkeys": {
    "equation": "Ctrl-E",
    "itemize": "Ctrl-I"
   },
   "labels_anchors": false,
   "latex_user_defs": false,
   "report_style_numbering": false,
   "user_envs_cfg": false
  },
  "toc": {
   "base_numbering": 1,
   "nav_menu": {},
   "number_sections": true,
   "sideBar": true,
   "skip_h1_title": false,
   "title_cell": "Table of Contents",
   "title_sidebar": "Contents",
   "toc_cell": false,
   "toc_position": {},
   "toc_section_display": true,
   "toc_window_display": false
  }
 },
 "nbformat": 4,
 "nbformat_minor": 2
}
