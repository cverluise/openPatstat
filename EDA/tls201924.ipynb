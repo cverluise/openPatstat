{
 "cells": [
  {
   "cell_type": "code",
   "execution_count": 1,
   "metadata": {},
   "outputs": [],
   "source": [
    "%load_ext autoreload\n",
    "%autoreload 2"
   ]
  },
  {
   "cell_type": "markdown",
   "metadata": {},
   "source": [
    "**Import and meta**"
   ]
  },
  {
   "cell_type": "code",
   "execution_count": 2,
   "metadata": {},
   "outputs": [],
   "source": [
    "from google.cloud import bigquery\n",
    "from open_patstat.plots import bar_chart, stacked_bar_chart, pie_chart\n",
    "from open_patstat.documentation.shortdoc import ShortDoc, print_markdown, print_signature\n",
    "\n",
    "import plotly.plotly as py\n",
    "import plotly.graph_objs as go\n",
    "import plotly.io as pio\n",
    "import plotly.figure_factory as ff\n",
    "import pandas as pd\n",
    "import os\n",
    "import pycountry\n",
    "import colorlover as cl"
   ]
  },
  {
   "cell_type": "code",
   "execution_count": 3,
   "metadata": {},
   "outputs": [],
   "source": [
    "data_path = '../data/'\n",
    "plots_path = '../plots/'\n",
    "views_path = '../views/'"
   ]
  },
  {
   "cell_type": "markdown",
   "metadata": {},
   "source": [
    "[Credentials]:https://cloud.google.com/bigquery/docs/quickstarts/quickstart-client-libraries#client-libraries-install-python\n",
    "\n",
    "To instantiate your Client, you need to set the environment variable `GOOGLE_APPLICATION_CREDENTIALS` to the file path of the JSON file that contains your service account key. Follow the steps described [here][credentials] "
   ]
  },
  {
   "cell_type": "code",
   "execution_count": 4,
   "metadata": {},
   "outputs": [],
   "source": [
    "client = bigquery.Client()\n",
    "documentation = ShortDoc()\n",
    "techfield_df = pd.read_csv(data_path + 'tls901_part01_short.txt')\n",
    "ipcnace_df = pd.read_csv(data_path + 'tls902_part01_short.txt')"
   ]
  },
  {
   "cell_type": "markdown",
   "metadata": {},
   "source": [
    "---"
   ]
  },
  {
   "cell_type": "markdown",
   "metadata": {},
   "source": [
    "**What is this notebook for?**"
   ]
  },
  {
   "cell_type": "markdown",
   "metadata": {},
   "source": [
    "The classification tables (mainly `TLS_200_IPC` and `TLS_224_CPC`) classify patent applications in broad technological fields. This notebook documents the 101 of the PatStat classification tales.\n",
    "\n",
    "More precisely:\n",
    "\n",
    "- we report descriptions and encoding details from the `Data Catalog for Patstat` (5.07)\n",
    "- we provide summary statistics and visualizations (when relevant)"
   ]
  },
  {
   "cell_type": "markdown",
   "metadata": {},
   "source": [
    "**Data**"
   ]
  },
  {
   "cell_type": "code",
   "execution_count": 5,
   "metadata": {},
   "outputs": [
    {
     "data": {
      "text/markdown": [
       "**Author**: European patent office"
      ],
      "text/plain": [
       "<IPython.core.display.Markdown object>"
      ]
     },
     "metadata": {},
     "output_type": "display_data"
    },
    {
     "data": {
      "text/markdown": [
       "**Distribution**: Epo patstat customers"
      ],
      "text/plain": [
       "<IPython.core.display.Markdown object>"
      ]
     },
     "metadata": {},
     "output_type": "display_data"
    },
    {
     "data": {
      "text/markdown": [
       "**Patstat edition**: 2016 spring edition"
      ],
      "text/plain": [
       "<IPython.core.display.Markdown object>"
      ]
     },
     "metadata": {},
     "output_type": "display_data"
    },
    {
     "data": {
      "text/markdown": [
       "**Version**: 5.07"
      ],
      "text/plain": [
       "<IPython.core.display.Markdown object>"
      ]
     },
     "metadata": {},
     "output_type": "display_data"
    },
    {
     "data": {
      "text/markdown": [
       "**Date**: 01.04.2016"
      ],
      "text/plain": [
       "<IPython.core.display.Markdown object>"
      ]
     },
     "metadata": {},
     "output_type": "display_data"
    },
    {
     "data": {
      "text/html": [
       "<font color=#1F618D>WARNING: completeness is not guaranteed</font>"
      ],
      "text/plain": [
       "<IPython.core.display.HTML object>"
      ]
     },
     "metadata": {},
     "output_type": "display_data"
    }
   ],
   "source": [
    "print_markdown(documentation.version())"
   ]
  },
  {
   "cell_type": "markdown",
   "metadata": {},
   "source": [
    "**Output**"
   ]
  },
  {
   "cell_type": "markdown",
   "metadata": {},
   "source": [
    "[db-logo]: https://aem.dropbox.com/cms/content/dam/dropbox/www/en-us/branding/app-dropbox-windows@2x.png.transform/half-res/img.png\n",
    "[db]:https://www.dropbox.com/sh/b1gs90gtoduu02v/AABICBNYH2kysjX-4JTqee0Wa?dl=0\n",
    "\n",
    "`plots/` and `views/` are not available on our GitHub repository. However, interested readers can access those files on our dedicated dropbox. \n",
    "\n",
    "[![alt text][db-logo]][db]"
   ]
  },
  {
   "cell_type": "markdown",
   "metadata": {},
   "source": [
    "---"
   ]
  },
  {
   "cell_type": "markdown",
   "metadata": {},
   "source": [
    "**REMARKS**:\n",
    "\n",
    "- There are only 70e6 application with at least one IP classification. Nb: the difference might be partly explained by replenished appplications which are unlikely to be classified\n",
    "- Each application can be classified in several IP classifications\n",
    "- When a given application has more than one application we spread For the sake of simplicity, we allocate 1/nb_occurences to each of its IP classifications\n",
    "\n",
    "<font color=#1F618D>WARNING: for the sake of simplicity, we only consider the first 4 characters of the `ipc_class_symbol`. This leads to some (presumably minor) shortcuts. Future and more rigorous studies should not do so.</font> "
   ]
  },
  {
   "cell_type": "markdown",
   "metadata": {},
   "source": [
    "# International Patent Classification"
   ]
  },
  {
   "cell_type": "code",
   "execution_count": 6,
   "metadata": {},
   "outputs": [
    {
     "data": {
      "text/markdown": [
       "**Description**: Tls209_appln_ipc: international patent classification 5.8the table contains all international patent classifications linked to the applications. the set of classifications linked to a single application is a de-duplicated merge of all classifications of the various publication instances linked to the specific application. additionally only the latest version of the ipc classifications is used. this means that the user does not have to worry about reclassifications because older applications will always be classified according to the latest ipc version."
      ],
      "text/plain": [
       "<IPython.core.display.Markdown object>"
      ]
     },
     "metadata": {},
     "output_type": "display_data"
    },
    {
     "data": {
      "text/markdown": [
       "**Page**: 47"
      ],
      "text/plain": [
       "<IPython.core.display.Markdown object>"
      ]
     },
     "metadata": {},
     "output_type": "display_data"
    },
    {
     "data": {
      "text/html": [
       "<font color=#1F618D>WARNING: completeness is not guaranteed</font>"
      ],
      "text/plain": [
       "<IPython.core.display.HTML object>"
      ]
     },
     "metadata": {},
     "output_type": "display_data"
    }
   ],
   "source": [
    "print_markdown(documentation.desc_table('TLS209_APPLN_IPC'))"
   ]
  },
  {
   "cell_type": "code",
   "execution_count": 7,
   "metadata": {},
   "outputs": [
    {
     "data": {
      "text/html": [
       "<div>\n",
       "<style scoped>\n",
       "    .dataframe tbody tr th:only-of-type {\n",
       "        vertical-align: middle;\n",
       "    }\n",
       "\n",
       "    .dataframe tbody tr th {\n",
       "        vertical-align: top;\n",
       "    }\n",
       "\n",
       "    .dataframe thead th {\n",
       "        text-align: right;\n",
       "    }\n",
       "</style>\n",
       "<table border=\"1\" class=\"dataframe\">\n",
       "  <thead>\n",
       "    <tr style=\"text-align: right;\">\n",
       "      <th></th>\n",
       "      <th>Type</th>\n",
       "      <th>Mode</th>\n",
       "    </tr>\n",
       "    <tr>\n",
       "      <th>Name</th>\n",
       "      <th></th>\n",
       "      <th></th>\n",
       "    </tr>\n",
       "  </thead>\n",
       "  <tbody>\n",
       "    <tr>\n",
       "      <th>appln_id</th>\n",
       "      <td>INTEGER</td>\n",
       "      <td>REQUIRED</td>\n",
       "    </tr>\n",
       "    <tr>\n",
       "      <th>ipc_class_symbol</th>\n",
       "      <td>STRING</td>\n",
       "      <td>NULLABLE</td>\n",
       "    </tr>\n",
       "    <tr>\n",
       "      <th>ipc_class_level</th>\n",
       "      <td>STRING</td>\n",
       "      <td>NULLABLE</td>\n",
       "    </tr>\n",
       "    <tr>\n",
       "      <th>ipc_version</th>\n",
       "      <td>DATE</td>\n",
       "      <td>NULLABLE</td>\n",
       "    </tr>\n",
       "    <tr>\n",
       "      <th>ipc_value</th>\n",
       "      <td>STRING</td>\n",
       "      <td>NULLABLE</td>\n",
       "    </tr>\n",
       "    <tr>\n",
       "      <th>ipc_position</th>\n",
       "      <td>STRING</td>\n",
       "      <td>NULLABLE</td>\n",
       "    </tr>\n",
       "    <tr>\n",
       "      <th>ipc_gener_auth</th>\n",
       "      <td>STRING</td>\n",
       "      <td>NULLABLE</td>\n",
       "    </tr>\n",
       "  </tbody>\n",
       "</table>\n",
       "</div>"
      ],
      "text/plain": [
       "                     Type      Mode\n",
       "Name                               \n",
       "appln_id          INTEGER  REQUIRED\n",
       "ipc_class_symbol   STRING  NULLABLE\n",
       "ipc_class_level    STRING  NULLABLE\n",
       "ipc_version          DATE  NULLABLE\n",
       "ipc_value          STRING  NULLABLE\n",
       "ipc_position       STRING  NULLABLE\n",
       "ipc_gener_auth     STRING  NULLABLE"
      ]
     },
     "execution_count": 7,
     "metadata": {},
     "output_type": "execute_result"
    }
   ],
   "source": [
    "table_ref = client.dataset('raw').table('tls209')\n",
    "table = client.get_table(table_ref)\n",
    "schema = table.schema\n",
    "schema = [[schema[i].name, schema[i].field_type, schema[i].mode] for i in range(len(schema))]\n",
    "pd.DataFrame(schema, columns=['Name', 'Type', 'Mode']).set_index('Name')"
   ]
  },
  {
   "cell_type": "markdown",
   "metadata": {},
   "source": [
    "## IPC_CLASS_SYMBOL"
   ]
  },
  {
   "cell_type": "code",
   "execution_count": 8,
   "metadata": {},
   "outputs": [
    {
     "data": {
      "text/markdown": [
       "**Name**:  ipc classification symbol (ipc 8th edition) "
      ],
      "text/plain": [
       "<IPython.core.display.Markdown object>"
      ]
     },
     "metadata": {},
     "output_type": "display_data"
    },
    {
     "data": {
      "text/markdown": [
       "**Also known as**:  (ipc) class, (ipc) classification "
      ],
      "text/plain": [
       "<IPython.core.display.Markdown object>"
      ]
     },
     "metadata": {},
     "output_type": "display_data"
    },
    {
     "data": {
      "text/markdown": [
       "**Description**:  classification symbol according to the international patent classification, eights edition (entered into force january 1, 2006)\n"
      ],
      "text/plain": [
       "<IPython.core.display.Markdown object>"
      ]
     },
     "metadata": {},
     "output_type": "display_data"
    },
    {
     "data": {
      "text/markdown": [
       "**Domain**:  up to 15 characters (a-z, 0-9, /, space) as allowed by ipc; examples\n",
       "a61k\n",
       " h04q\n",
       " 7/32\n",
       " c07k\n",
       "14/00\n",
       " c07d 405/06\n",
       " h01m2220/20 note that spaces may be required on position 5-7, because the slash \"/\" is always on the 9th position. for more details see the table below. "
      ],
      "text/plain": [
       "<IPython.core.display.Markdown object>"
      ]
     },
     "metadata": {},
     "output_type": "display_data"
    },
    {
     "data": {
      "text/markdown": [
       "**Default value**:  n/a "
      ],
      "text/plain": [
       "<IPython.core.display.Markdown object>"
      ]
     },
     "metadata": {},
     "output_type": "display_data"
    },
    {
     "data": {
      "text/markdown": [
       "**Source database**:  docdb "
      ],
      "text/plain": [
       "<IPython.core.display.Markdown object>"
      ]
     },
     "metadata": {},
     "output_type": "display_data"
    },
    {
     "data": {
      "text/markdown": [
       "**Page**: 162"
      ],
      "text/plain": [
       "<IPython.core.display.Markdown object>"
      ]
     },
     "metadata": {},
     "output_type": "display_data"
    },
    {
     "data": {
      "text/html": [
       "<font color=#1F618D>WARNING: completeness is not guaranteed</font>"
      ],
      "text/plain": [
       "<IPython.core.display.HTML object>"
      ]
     },
     "metadata": {},
     "output_type": "display_data"
    }
   ],
   "source": [
    "print_markdown(documentation.desc_variable('IPC_CLASS_SYMBOL'))"
   ]
  },
  {
   "cell_type": "markdown",
   "metadata": {},
   "source": [
    "<font color='orange'>*TODO*:\n",
    "\n",
    "- Extend analysis to NACE2 (use `ipcnace_df`)\n",
    "- Extend analysis at the country level (country specific patterns are likely) </font>"
   ]
  },
  {
   "cell_type": "markdown",
   "metadata": {},
   "source": [
    "```python\n",
    "query = \"\"\"\n",
    "SELECT\n",
    "  SUM(1/nb_occurences) AS nb,\n",
    "  SAFE.SUBSTR(ipc_class_symbol, 0, 4) as short_ipc_symbol,\n",
    "  appln_auth,\n",
    "  year\n",
    "FROM\n",
    "  `raw.tls2019_cp`\n",
    "GROUP BY\n",
    "  short_ipc_symbol,\n",
    "  appln_auth,\n",
    "  year;\n",
    "\"\"\"\n",
    "client.query(query).to_dataframe().to_csv(views_path + '2019_ipcClassSymbol_byAuthYr.csv')\n",
    "```"
   ]
  },
  {
   "cell_type": "code",
   "execution_count": 9,
   "metadata": {
    "scrolled": true
   },
   "outputs": [
    {
     "name": "stderr",
     "output_type": "stream",
     "text": [
      "/Users/cyrilverluise/.virtualenvs/test/lib/python3.7/site-packages/numpy/lib/arraysetops.py:522: FutureWarning:\n",
      "\n",
      "elementwise comparison failed; returning scalar instead, but in the future will perform elementwise comparison\n",
      "\n"
     ]
    }
   ],
   "source": [
    "df = pd.read_csv(views_path + '2019_ipcClassSymbol_byAuthYr.csv', index_col=0)\n",
    "df = df.merge(techfield_df, how='left', left_on='short_ipc_symbol', right_on='ipc_maingroup_symbol')"
   ]
  },
  {
   "cell_type": "code",
   "execution_count": 10,
   "metadata": {},
   "outputs": [],
   "source": [
    "# dist techsect\n",
    "fig = pie_chart(df.groupby('techn_sector').sum().max(1), title='Applications by technical sector')\n",
    "pio.write_image(fig, plots_path + '2019_technSector.png')"
   ]
  },
  {
   "cell_type": "code",
   "execution_count": 11,
   "metadata": {
    "scrolled": false
   },
   "outputs": [],
   "source": [
    "# ts techsect\n",
    "for techsect in df['techn_sector'].unique():\n",
    "    fig = bar_chart(df.groupby(['techn_sector', 'year']).sum().\\\n",
    "                    dropna().query('techn_sector==@techsect').\\\n",
    "                    reset_index('techn_sector')['nb'],\n",
    "                   title='Applications in {} (sector)'.format(techsect))\n",
    "    pio.write_image(fig, plots_path +\\\n",
    "                    '2019_technSector_byYr/2019_{}_technSector_byYr.png'.format(str(techsect).replace(' ','')))\n",
    "#py.iplot(fig)"
   ]
  },
  {
   "cell_type": "code",
   "execution_count": 12,
   "metadata": {},
   "outputs": [],
   "source": [
    "# ts techfield\n",
    "for techfield in df['techn_field'].unique():\n",
    "    fig = bar_chart(df.groupby(['techn_field', 'year']).sum().\\\n",
    "                    dropna().query('techn_field==@techfield').\\\n",
    "                    reset_index('techn_field')['nb'],\n",
    "                   title='Applications in {} (field)'.format(techfield))\n",
    "    pio.write_image(fig, plots_path +\\\n",
    "                    '2019_technField_byYr/2019_{}_technField_byYr.png'.format(str(techfield).replace(' ','')))\n",
    "#py.iplot(fig)"
   ]
  },
  {
   "cell_type": "code",
   "execution_count": 13,
   "metadata": {},
   "outputs": [],
   "source": [
    "# ts techsect by techfield\n",
    "for techsect in df['techn_sector'].unique():\n",
    "    tmp = df.query('techn_sector==@techsect').set_index('year')[['techn_field','nb']]\n",
    "    tmp_top = tmp.groupby('techn_field').sum().sort_values('nb', ascending=False)\n",
    "    if len(tmp_top)>11:\n",
    "        top10 = tmp_top.index[:10]\n",
    "        tmp.loc[~tmp['techn_field'].isin(top10), \"techn_field\"] = 'others'\n",
    "    tmp = tmp.groupby(['techn_field', 'year']).sum().reset_index('techn_field')\n",
    "    tmp = tmp.merge(tmp.groupby('year').sum(), how='left',\n",
    "              left_on='year', right_on='year', suffixes=('','_yr'))\n",
    "    tmp['share'] = tmp['nb']/tmp['nb_yr']\n",
    "    fig = stacked_bar_chart(tmp, clusters='techn_field', values='share', colors=('div', 'Spectral'), \n",
    "                            title='Applications in {} by field'.format(techsect),\n",
    "                            legend=dict(orientation=\"h\"), width=900, height=900)\n",
    "    #py.iplot(fig)  \n",
    "    pio.write_image(fig, plots_path + '2019_technField_byYr/2019_{}_technSectorField_byYr.png'.format(str(techsect).replace(' ','')))\n",
    "    "
   ]
  },
  {
   "cell_type": "markdown",
   "metadata": {},
   "source": [
    "## IPC_CLASS_LEVEL"
   ]
  },
  {
   "cell_type": "code",
   "execution_count": 14,
   "metadata": {},
   "outputs": [
    {
     "data": {
      "text/markdown": [
       "**Name**:  ipc classification level indicator "
      ],
      "text/plain": [
       "<IPython.core.display.Markdown object>"
      ]
     },
     "metadata": {},
     "output_type": "display_data"
    },
    {
     "data": {
      "text/markdown": [
       "**Also known as**:  n/a "
      ],
      "text/plain": [
       "<IPython.core.display.Markdown object>"
      ]
     },
     "metadata": {},
     "output_type": "display_data"
    },
    {
     "data": {
      "text/markdown": [
       "**Description**:  denotes whether an authority classified either in the full ipc, in main groups or in sub classes only. "
      ],
      "text/plain": [
       "<IPython.core.display.Markdown object>"
      ]
     },
     "metadata": {},
     "output_type": "display_data"
    },
    {
     "data": {
      "text/markdown": [
       "**Domain**:  1 character\n",
       " a = classification in the full ipc\n",
       "e.g. 'h04q\n",
       " 7/32', 'c07k\n",
       "14/00'\n",
       "c = classification in main groups only e.g. 'h04h\n",
       " 1/00', 'a61k\n",
       "31/00'\n",
       "s = classification in subclasses only e. g. 'h04h', 'a61k'\n"
      ],
      "text/plain": [
       "<IPython.core.display.Markdown object>"
      ]
     },
     "metadata": {},
     "output_type": "display_data"
    },
    {
     "data": {
      "text/markdown": [
       "**Default value**:  n/a "
      ],
      "text/plain": [
       "<IPython.core.display.Markdown object>"
      ]
     },
     "metadata": {},
     "output_type": "display_data"
    },
    {
     "data": {
      "text/markdown": [
       "**Source database**:  docdb "
      ],
      "text/plain": [
       "<IPython.core.display.Markdown object>"
      ]
     },
     "metadata": {},
     "output_type": "display_data"
    },
    {
     "data": {
      "text/markdown": [
       "**Source field name**:  <classifications-ipcr>\n",
       "<classification-ipcr sequence=\"1\">\n",
       " <text>a43c\n",
       "11/00\n",
       "\n",
       "\n",
       "\n",
       "20060101cfi20070118bhus\n",
       "\n",
       "\n",
       "\n",
       "</text>\n",
       "</classification-ipcr>\n",
       "<classification-ipcr sequence=\"2\">\n",
       " <text>a43c\n",
       "11/00\n",
       "\n",
       "\n",
       "\n",
       "20060101afi20070118bhus\n",
       "\n",
       "\n",
       "\n",
       "</text>\n",
       "</classification-ipcr> </classifications-ipcr> source sub-field identifier positions 28 of the source-field\n",
       "......12345678901234567890123456789012345678901234567890 <text>a43c\n",
       "11/00\n",
       "\n",
       "\n",
       "\n",
       "20060101cfi20070118bhus\n",
       "\n",
       "\n",
       "\n",
       "</text>\n",
       "these text strings are all 50 bytes long. see wipo st.8. take byte 28 as the value of ipc_class_level.\n",
       " source sub-field identifier position 28 "
      ],
      "text/plain": [
       "<IPython.core.display.Markdown object>"
      ]
     },
     "metadata": {},
     "output_type": "display_data"
    },
    {
     "data": {
      "text/markdown": [
       "**Comments**:  see the description of table tls209_appln_ipc on how the ipc symbols, which are allocated in docdb to publications, are de-duplicated and assigned to applications in patstat.\n"
      ],
      "text/plain": [
       "<IPython.core.display.Markdown object>"
      ]
     },
     "metadata": {},
     "output_type": "display_data"
    },
    {
     "data": {
      "text/markdown": [
       "**Page**: 161"
      ],
      "text/plain": [
       "<IPython.core.display.Markdown object>"
      ]
     },
     "metadata": {},
     "output_type": "display_data"
    },
    {
     "data": {
      "text/html": [
       "<font color=#1F618D>WARNING: completeness is not guaranteed</font>"
      ],
      "text/plain": [
       "<IPython.core.display.HTML object>"
      ]
     },
     "metadata": {},
     "output_type": "display_data"
    }
   ],
   "source": [
    "print_markdown(documentation.desc_variable('IPC_CLASS_LEVEL'))"
   ]
  },
  {
   "cell_type": "markdown",
   "metadata": {},
   "source": [
    "```python\n",
    "query = \"\"\"\n",
    "SELECT\n",
    "  SUM(1/nb_occurences) AS nb,\n",
    "  ipc_class_level,\n",
    "  appln_auth,\n",
    "  year\n",
    "FROM\n",
    "  `raw.tls2019_cp`\n",
    "GROUP BY\n",
    "  ipc_class_level,\n",
    "  appln_auth,\n",
    "  year;\n",
    "\"\"\"\n",
    "client.query(query).to_dataframe().to_csv(views_path + '2019_ipcClassLevel_byAuthYr.csv')\n",
    "```"
   ]
  },
  {
   "cell_type": "code",
   "execution_count": 15,
   "metadata": {},
   "outputs": [],
   "source": [
    "df = pd.read_csv(views_path + '2019_ipcClassLevel_byAuthYr.csv', index_col=0)"
   ]
  },
  {
   "cell_type": "code",
   "execution_count": 16,
   "metadata": {},
   "outputs": [],
   "source": [
    "for cnt in df['appln_auth'].unique():\n",
    "    if df.query('appln_auth==@cnt').dropna()['nb'].sum()>1e6:\n",
    "        fig = stacked_bar_chart(df.query('appln_auth==@cnt').dropna().set_index('year'),\n",
    "                      clusters='ipc_class_level', values='nb', \n",
    "                      title='IPC class Levels in {}'.format(cnt))\n",
    "        pio.write_image(fig, plots_path + '2019_ipcLevel_byYrAuth/2019_{}_ipcClassLevel_byAuthYr.png'.format(cnt))\n",
    "    else:\n",
    "        pass"
   ]
  },
  {
   "cell_type": "markdown",
   "metadata": {},
   "source": [
    "## IPC_VERSION"
   ]
  },
  {
   "cell_type": "code",
   "execution_count": 17,
   "metadata": {},
   "outputs": [
    {
     "data": {
      "text/markdown": [
       "**Name**:  ipc version "
      ],
      "text/plain": [
       "<IPython.core.display.Markdown object>"
      ]
     },
     "metadata": {},
     "output_type": "display_data"
    },
    {
     "data": {
      "text/markdown": [
       "**Also known as**:  n/a "
      ],
      "text/plain": [
       "<IPython.core.display.Markdown object>"
      ]
     },
     "metadata": {},
     "output_type": "display_data"
    },
    {
     "data": {
      "text/markdown": [
       "**Description**:  version of the ipc "
      ],
      "text/plain": [
       "<IPython.core.display.Markdown object>"
      ]
     },
     "metadata": {},
     "output_type": "display_data"
    },
    {
     "data": {
      "text/markdown": [
       "**Domain**:  date between '2006-01-01' and current date "
      ],
      "text/plain": [
       "<IPython.core.display.Markdown object>"
      ]
     },
     "metadata": {},
     "output_type": "display_data"
    },
    {
     "data": {
      "text/markdown": [
       "**Default value**:  n/a "
      ],
      "text/plain": [
       "<IPython.core.display.Markdown object>"
      ]
     },
     "metadata": {},
     "output_type": "display_data"
    },
    {
     "data": {
      "text/markdown": [
       "**Source database**:  docdb "
      ],
      "text/plain": [
       "<IPython.core.display.Markdown object>"
      ]
     },
     "metadata": {},
     "output_type": "display_data"
    },
    {
     "data": {
      "text/markdown": [
       "**Source field name**: \n",
       "<classifications-ipcr>\n",
       "<classification-ipcr sequence=\"1\">\n",
       " <text>a43c\n",
       "11/00\n",
       "\n",
       "\n",
       "\n",
       "20060101cfi20070118bhus\n",
       "\n",
       "\n",
       "\n",
       "</text>\n",
       "</classification-ipcr>\n",
       "<classification-ipcr sequence=\"2\">\n",
       " <text>a43c\n",
       "11/00\n",
       "\n",
       "\n",
       "\n",
       "20060101afi20070118bhus\n",
       "\n",
       "\n",
       "\n",
       "</text>\n",
       "</classification-ipcr> </classifications-ipcr> source sub-field identifier 20 to 27 version indicator yyyymmdd date format\n"
      ],
      "text/plain": [
       "<IPython.core.display.Markdown object>"
      ]
     },
     "metadata": {},
     "output_type": "display_data"
    },
    {
     "data": {
      "text/markdown": [
       "**Comments**:  see wipo st.8 for an explanation.\n",
       "see the description of table tls209_appln_ipc on how the ipc symbols, which are allocated in docdb to publications, are de-duplicated and assigned to applications in patstat.\n"
      ],
      "text/plain": [
       "<IPython.core.display.Markdown object>"
      ]
     },
     "metadata": {},
     "output_type": "display_data"
    },
    {
     "data": {
      "text/markdown": [
       "**Page**: 168"
      ],
      "text/plain": [
       "<IPython.core.display.Markdown object>"
      ]
     },
     "metadata": {},
     "output_type": "display_data"
    },
    {
     "data": {
      "text/html": [
       "<font color=#1F618D>WARNING: completeness is not guaranteed</font>"
      ],
      "text/plain": [
       "<IPython.core.display.HTML object>"
      ]
     },
     "metadata": {},
     "output_type": "display_data"
    }
   ],
   "source": [
    "print_markdown(documentation.desc_variable('IPC_VERSION'))"
   ]
  },
  {
   "cell_type": "markdown",
   "metadata": {},
   "source": [
    "## IPC_VALUE"
   ]
  },
  {
   "cell_type": "code",
   "execution_count": 18,
   "metadata": {},
   "outputs": [
    {
     "data": {
      "text/markdown": [
       "**Name**:  classification value "
      ],
      "text/plain": [
       "<IPython.core.display.Markdown object>"
      ]
     },
     "metadata": {},
     "output_type": "display_data"
    },
    {
     "data": {
      "text/markdown": [
       "**Also known as**:  invention / additional; inventive/non-inventive\n"
      ],
      "text/plain": [
       "<IPython.core.display.Markdown object>"
      ]
     },
     "metadata": {},
     "output_type": "display_data"
    },
    {
     "data": {
      "text/markdown": [
       "**Description**:  indication of the value of the classification i.e. is the class symbol relating to the invention or to aspects not related to the invention (but in the application). "
      ],
      "text/plain": [
       "<IPython.core.display.Markdown object>"
      ]
     },
     "metadata": {},
     "output_type": "display_data"
    },
    {
     "data": {
      "text/markdown": [
       "**Domain**:  1 character i=invention, n=additional (non-invention) "
      ],
      "text/plain": [
       "<IPython.core.display.Markdown object>"
      ]
     },
     "metadata": {},
     "output_type": "display_data"
    },
    {
     "data": {
      "text/markdown": [
       "**Default value**:  n/a "
      ],
      "text/plain": [
       "<IPython.core.display.Markdown object>"
      ]
     },
     "metadata": {},
     "output_type": "display_data"
    },
    {
     "data": {
      "text/markdown": [
       "**Source database**:  docdb "
      ],
      "text/plain": [
       "<IPython.core.display.Markdown object>"
      ]
     },
     "metadata": {},
     "output_type": "display_data"
    },
    {
     "data": {
      "text/markdown": [
       "**Source field name**: \n",
       "<classifications-ipcr>\n",
       "<classification-ipcr sequence=\"1\">\n",
       " <text>a43c\n",
       "11/00\n",
       "\n",
       "\n",
       "\n",
       "20060101cfi20070118bhus\n",
       "\n",
       "\n",
       "\n",
       "</text>\n",
       "</classification-ipcr>\n",
       "<classification-ipcr sequence=\"2\">\n",
       " <text>a43c\n",
       "11/00\n",
       "\n",
       "\n",
       "\n",
       "20060101afi20070118bhus\n",
       "\n",
       "\n",
       "\n",
       "</text>\n",
       "</classification-ipcr> </classifications-ipcr> source sub-field identifier 30 classification value (inventive or non-inventive) i, n "
      ],
      "text/plain": [
       "<IPython.core.display.Markdown object>"
      ]
     },
     "metadata": {},
     "output_type": "display_data"
    },
    {
     "data": {
      "text/markdown": [
       "**Comments**:  see wipo st.8 for an explanation.\n",
       "see the description of table tls209_appln_ipc on how the ipc symbols, which are allocated in docdb to publications, are de-duplicated and assigned to applications in patstat.\n",
       "invention related ipc symbols are printed bold on the front page of patent documents, according to wipo standard st.10/c.\n"
      ],
      "text/plain": [
       "<IPython.core.display.Markdown object>"
      ]
     },
     "metadata": {},
     "output_type": "display_data"
    },
    {
     "data": {
      "text/markdown": [
       "**Page**: 167"
      ],
      "text/plain": [
       "<IPython.core.display.Markdown object>"
      ]
     },
     "metadata": {},
     "output_type": "display_data"
    },
    {
     "data": {
      "text/html": [
       "<font color=#1F618D>WARNING: completeness is not guaranteed</font>"
      ],
      "text/plain": [
       "<IPython.core.display.HTML object>"
      ]
     },
     "metadata": {},
     "output_type": "display_data"
    }
   ],
   "source": [
    "print_markdown(documentation.desc_variable('IPC_VALUE'))"
   ]
  },
  {
   "cell_type": "markdown",
   "metadata": {},
   "source": [
    "```python\n",
    "query = \"\"\"\n",
    "SELECT\n",
    "  SUM(1/nb_occurences) AS nb,\n",
    "  ipc_value,\n",
    "  appln_auth,\n",
    "  year\n",
    "FROM\n",
    "  `raw.tls2019_cp`\n",
    "GROUP BY\n",
    "  ipc_value,\n",
    "  appln_auth,\n",
    "  year;\n",
    "\"\"\"\n",
    "client.query(query).to_dataframe().to_csv(views_path + '2019_ipcValue_byAuthYr.csv')\n",
    "```"
   ]
  },
  {
   "cell_type": "code",
   "execution_count": 19,
   "metadata": {},
   "outputs": [],
   "source": [
    "df = pd.read_csv(views_path + '2019_ipcValue_byAuthYr.csv', index_col=0)"
   ]
  },
  {
   "cell_type": "code",
   "execution_count": 20,
   "metadata": {},
   "outputs": [],
   "source": [
    "for cnt in df['appln_auth'].unique():\n",
    "    if df.query('appln_auth==@cnt').dropna()['nb'].sum()>1e6:\n",
    "        fig = stacked_bar_chart(df.query('appln_auth==@cnt').dropna().set_index('year'),\n",
    "                      clusters='ipc_value', values='nb', \n",
    "                      title='IPC value in {}'.format(cnt))\n",
    "        pio.write_image(fig, plots_path + '2019_ipcValue_byYrAuth/2019_{}_ipcValue_byYr.png'.format(cnt))\n",
    "    else:\n",
    "        pass"
   ]
  },
  {
   "cell_type": "markdown",
   "metadata": {},
   "source": [
    "## <font color='grey'>IPC_POSITION</font>"
   ]
  },
  {
   "cell_type": "code",
   "execution_count": 21,
   "metadata": {},
   "outputs": [
    {
     "data": {
      "text/markdown": [
       "**Name**:  first or later position of symbol "
      ],
      "text/plain": [
       "<IPython.core.display.Markdown object>"
      ]
     },
     "metadata": {},
     "output_type": "display_data"
    },
    {
     "data": {
      "text/markdown": [
       "**Also known as**:  n/a "
      ],
      "text/plain": [
       "<IPython.core.display.Markdown object>"
      ]
     },
     "metadata": {},
     "output_type": "display_data"
    },
    {
     "data": {
      "text/markdown": [
       "**Description**:  indicates the position of the class symbol in the sequence of classes that form the classification "
      ],
      "text/plain": [
       "<IPython.core.display.Markdown object>"
      ]
     },
     "metadata": {},
     "output_type": "display_data"
    },
    {
     "data": {
      "text/markdown": [
       "**Domain**:  1 character f=first, l=later. space =unidentified "
      ],
      "text/plain": [
       "<IPython.core.display.Markdown object>"
      ]
     },
     "metadata": {},
     "output_type": "display_data"
    },
    {
     "data": {
      "text/markdown": [
       "**Default value**:  space "
      ],
      "text/plain": [
       "<IPython.core.display.Markdown object>"
      ]
     },
     "metadata": {},
     "output_type": "display_data"
    },
    {
     "data": {
      "text/markdown": [
       "**Source database**:  docdb "
      ],
      "text/plain": [
       "<IPython.core.display.Markdown object>"
      ]
     },
     "metadata": {},
     "output_type": "display_data"
    },
    {
     "data": {
      "text/markdown": [
       "**Source field name**: \n",
       "<classifications-ipcr>\n",
       "<classification-ipcr sequence=\"1\">\n",
       " <text>a43c\n",
       "11/00\n",
       "\n",
       "\n",
       "\n",
       "20060101cfi20070118bhus\n",
       "\n",
       "\n",
       "\n",
       "</text>\n",
       "</classification-ipcr>\n",
       "<classification-ipcr sequence=\"2\">\n",
       " <text>a43c\n",
       "11/00\n",
       "\n",
       "\n",
       "\n",
       "20060101afi20070118bhus\n",
       "\n",
       "\n",
       "\n",
       "</text>\n",
       "</classification-ipcr> </classifications-ipcr>\n",
       "if there is a space in <classification-ipcr> in position 29, then record a space in patstat in ipc_position.\n",
       "source sub-field identifier 29 first or later position of symbol f, l "
      ],
      "text/plain": [
       "<IPython.core.display.Markdown object>"
      ]
     },
     "metadata": {},
     "output_type": "display_data"
    },
    {
     "data": {
      "text/markdown": [
       "**Comments**:  see wipo st.8 for an explanation.\n",
       "for patent authorities (e. g. uspto) where the law entails the concept of \"first\" class, the first class symbol in a list of class symbols is the main class. for other authorities, like the epo, there is no meaning in the position - classes may be quoted in alphabetical order for instance. some researchers use a weighting technique to analyse by ipc.\n"
      ],
      "text/plain": [
       "<IPython.core.display.Markdown object>"
      ]
     },
     "metadata": {},
     "output_type": "display_data"
    },
    {
     "data": {
      "text/markdown": [
       "**Page**: 166"
      ],
      "text/plain": [
       "<IPython.core.display.Markdown object>"
      ]
     },
     "metadata": {},
     "output_type": "display_data"
    },
    {
     "data": {
      "text/html": [
       "<font color=#1F618D>WARNING: completeness is not guaranteed</font>"
      ],
      "text/plain": [
       "<IPython.core.display.HTML object>"
      ]
     },
     "metadata": {},
     "output_type": "display_data"
    }
   ],
   "source": [
    "print_markdown(documentation.desc_variable('IPC_POSITION'))"
   ]
  },
  {
   "cell_type": "markdown",
   "metadata": {},
   "source": [
    "## <font color='grey'>IPC_GENER_AUTH</font>"
   ]
  },
  {
   "cell_type": "code",
   "execution_count": 22,
   "metadata": {},
   "outputs": [
    {
     "data": {
      "text/markdown": [
       "**Name**:  ipc generating authority "
      ],
      "text/plain": [
       "<IPython.core.display.Markdown object>"
      ]
     },
     "metadata": {},
     "output_type": "display_data"
    },
    {
     "data": {
      "text/markdown": [
       "**Also known as**:  n/a "
      ],
      "text/plain": [
       "<IPython.core.display.Markdown object>"
      ]
     },
     "metadata": {},
     "output_type": "display_data"
    },
    {
     "data": {
      "text/markdown": [
       "**Description**:  patent office that generated the ipc classification of the application concerned "
      ],
      "text/plain": [
       "<IPython.core.display.Markdown object>"
      ]
     },
     "metadata": {},
     "output_type": "display_data"
    },
    {
     "data": {
      "text/markdown": [
       "**Domain**:  2 ascii characters (a-z), according to wipo st.3\n"
      ],
      "text/plain": [
       "<IPython.core.display.Markdown object>"
      ]
     },
     "metadata": {},
     "output_type": "display_data"
    },
    {
     "data": {
      "text/markdown": [
       "**Default value**:  n/a "
      ],
      "text/plain": [
       "<IPython.core.display.Markdown object>"
      ]
     },
     "metadata": {},
     "output_type": "display_data"
    },
    {
     "data": {
      "text/markdown": [
       "**Source database**:  docdb "
      ],
      "text/plain": [
       "<IPython.core.display.Markdown object>"
      ]
     },
     "metadata": {},
     "output_type": "display_data"
    },
    {
     "data": {
      "text/markdown": [
       "**Source field name**:  <classifications-ipcr>\n",
       "<classification-ipcr sequence=\"1\">\n",
       " <text>a43c\n",
       "11/00\n",
       "\n",
       "\n",
       "\n",
       "20060101cfi20070118bhus\n",
       "\n",
       "\n",
       "\n",
       "</text>\n",
       "</classification-ipcr>\n",
       "<classification-ipcr sequence=\"2\">\n",
       " <text>a43c\n",
       "11/00\n",
       "\n",
       "\n",
       "\n",
       "20060101afi20070118bhus\n",
       "\n",
       "\n",
       "\n",
       "</text>\n",
       "</classification-ipcr> </classifications-ipcr> source sub-field identifier 41-42 generating office aa, zz (st.3) "
      ],
      "text/plain": [
       "<IPython.core.display.Markdown object>"
      ]
     },
     "metadata": {},
     "output_type": "display_data"
    },
    {
     "data": {
      "text/markdown": [
       "**Comments**:  see wipo st.8. see the description of table tls209_appln_ipc on how the ipc symbols, which are allocated in docdb to publications, are de-duplicated and assigned to applications in patstat.\n"
      ],
      "text/plain": [
       "<IPython.core.display.Markdown object>"
      ]
     },
     "metadata": {},
     "output_type": "display_data"
    },
    {
     "data": {
      "text/markdown": [
       "**Page**: 164"
      ],
      "text/plain": [
       "<IPython.core.display.Markdown object>"
      ]
     },
     "metadata": {},
     "output_type": "display_data"
    },
    {
     "data": {
      "text/html": [
       "<font color=#1F618D>WARNING: completeness is not guaranteed</font>"
      ],
      "text/plain": [
       "<IPython.core.display.HTML object>"
      ]
     },
     "metadata": {},
     "output_type": "display_data"
    }
   ],
   "source": [
    "print_markdown(documentation.desc_variable('IPC_GENER_AUTH'))"
   ]
  },
  {
   "cell_type": "markdown",
   "metadata": {},
   "source": [
    "# Cooperative Patent Classification"
   ]
  },
  {
   "cell_type": "code",
   "execution_count": 23,
   "metadata": {},
   "outputs": [
    {
     "data": {
      "text/markdown": [
       "**Description**: Tls224_appln_cpc: cooperative patent classification 5.20the table contains all cooperative patent classifications linked to the applications. the set of classifications linked to a single application is a de-duplicated merge of all classifications of the various publication instances linked to the specific application.\n",
       "from a statistical point of view it is important to remember that cpc codes are propagated to all members of the same docdb family (simple family)."
      ],
      "text/plain": [
       "<IPython.core.display.Markdown object>"
      ]
     },
     "metadata": {},
     "output_type": "display_data"
    },
    {
     "data": {
      "text/markdown": [
       "**Page**: 64"
      ],
      "text/plain": [
       "<IPython.core.display.Markdown object>"
      ]
     },
     "metadata": {},
     "output_type": "display_data"
    },
    {
     "data": {
      "text/html": [
       "<font color=#1F618D>WARNING: completeness is not guaranteed</font>"
      ],
      "text/plain": [
       "<IPython.core.display.HTML object>"
      ]
     },
     "metadata": {},
     "output_type": "display_data"
    }
   ],
   "source": [
    "print_markdown(documentation.desc_table('TLS224_APPLN_CPC'))"
   ]
  },
  {
   "cell_type": "code",
   "execution_count": 24,
   "metadata": {},
   "outputs": [
    {
     "data": {
      "text/html": [
       "<div>\n",
       "<style scoped>\n",
       "    .dataframe tbody tr th:only-of-type {\n",
       "        vertical-align: middle;\n",
       "    }\n",
       "\n",
       "    .dataframe tbody tr th {\n",
       "        vertical-align: top;\n",
       "    }\n",
       "\n",
       "    .dataframe thead th {\n",
       "        text-align: right;\n",
       "    }\n",
       "</style>\n",
       "<table border=\"1\" class=\"dataframe\">\n",
       "  <thead>\n",
       "    <tr style=\"text-align: right;\">\n",
       "      <th></th>\n",
       "      <th>Type</th>\n",
       "      <th>Mode</th>\n",
       "    </tr>\n",
       "    <tr>\n",
       "      <th>Name</th>\n",
       "      <th></th>\n",
       "      <th></th>\n",
       "    </tr>\n",
       "  </thead>\n",
       "  <tbody>\n",
       "    <tr>\n",
       "      <th>appln_id</th>\n",
       "      <td>INTEGER</td>\n",
       "      <td>REQUIRED</td>\n",
       "    </tr>\n",
       "    <tr>\n",
       "      <th>cpc_class_symbol</th>\n",
       "      <td>STRING</td>\n",
       "      <td>NULLABLE</td>\n",
       "    </tr>\n",
       "    <tr>\n",
       "      <th>cpc_scheme</th>\n",
       "      <td>STRING</td>\n",
       "      <td>NULLABLE</td>\n",
       "    </tr>\n",
       "    <tr>\n",
       "      <th>cpc_version</th>\n",
       "      <td>DATE</td>\n",
       "      <td>NULLABLE</td>\n",
       "    </tr>\n",
       "    <tr>\n",
       "      <th>cpc_value</th>\n",
       "      <td>STRING</td>\n",
       "      <td>NULLABLE</td>\n",
       "    </tr>\n",
       "    <tr>\n",
       "      <th>cpc_position</th>\n",
       "      <td>STRING</td>\n",
       "      <td>NULLABLE</td>\n",
       "    </tr>\n",
       "    <tr>\n",
       "      <th>cpc_gener_auth</th>\n",
       "      <td>STRING</td>\n",
       "      <td>NULLABLE</td>\n",
       "    </tr>\n",
       "  </tbody>\n",
       "</table>\n",
       "</div>"
      ],
      "text/plain": [
       "                     Type      Mode\n",
       "Name                               \n",
       "appln_id          INTEGER  REQUIRED\n",
       "cpc_class_symbol   STRING  NULLABLE\n",
       "cpc_scheme         STRING  NULLABLE\n",
       "cpc_version          DATE  NULLABLE\n",
       "cpc_value          STRING  NULLABLE\n",
       "cpc_position       STRING  NULLABLE\n",
       "cpc_gener_auth     STRING  NULLABLE"
      ]
     },
     "execution_count": 24,
     "metadata": {},
     "output_type": "execute_result"
    }
   ],
   "source": [
    "table_ref = client.dataset('raw').table('tls224')\n",
    "table = client.get_table(table_ref)\n",
    "schema = table.schema\n",
    "schema = [[schema[i].name, schema[i].field_type, schema[i].mode] for i in range(len(schema))]\n",
    "pd.DataFrame(schema, columns=['Name', 'Type', 'Mode']).set_index('Name')"
   ]
  },
  {
   "cell_type": "markdown",
   "metadata": {},
   "source": [
    "## <font color='grey'>CPC_CLASS_SYMBOL<font>"
   ]
  },
  {
   "cell_type": "code",
   "execution_count": 25,
   "metadata": {},
   "outputs": [
    {
     "data": {
      "text/markdown": [
       "**Name**:  cpc classification symbol "
      ],
      "text/plain": [
       "<IPython.core.display.Markdown object>"
      ]
     },
     "metadata": {},
     "output_type": "display_data"
    },
    {
     "data": {
      "text/markdown": [
       "**Also known as**:  cpc class, cpc classification, cpc symbol "
      ],
      "text/plain": [
       "<IPython.core.display.Markdown object>"
      ]
     },
     "metadata": {},
     "output_type": "display_data"
    },
    {
     "data": {
      "text/markdown": [
       "**Description**:  classification symbol according to the cooperative patent classification "
      ],
      "text/plain": [
       "<IPython.core.display.Markdown object>"
      ]
     },
     "metadata": {},
     "output_type": "display_data"
    },
    {
     "data": {
      "text/markdown": [
       "**Domain**:  up to 19 characters (a-z, 0-9, /, space);\n",
       "all values which are allowed by the cpc;\n",
       "corresponds to position 1 - 19\n",
       "(i.e. section, class, subclass, main group, subgroup) of the 50 character long text string as defined by wipo st.8\n",
       "with trailing spaces removed.\n",
       "examples\n",
       "a61k\n",
       " h04q\n",
       " 7/32\n",
       " c07k\n",
       "14/00\n",
       " c07d 405/06\n",
       " h01m2220/20 note that spaces may be required on position 5-7, because the slash \"/\" is always on the 9th position. for more details see the table below. "
      ],
      "text/plain": [
       "<IPython.core.display.Markdown object>"
      ]
     },
     "metadata": {},
     "output_type": "display_data"
    },
    {
     "data": {
      "text/markdown": [
       "**Default value**:  n/a "
      ],
      "text/plain": [
       "<IPython.core.display.Markdown object>"
      ]
     },
     "metadata": {},
     "output_type": "display_data"
    },
    {
     "data": {
      "text/markdown": [
       "**Source database**:  docdb "
      ],
      "text/plain": [
       "<IPython.core.display.Markdown object>"
      ]
     },
     "metadata": {},
     "output_type": "display_data"
    },
    {
     "data": {
      "text/markdown": [
       "**Page**: 122"
      ],
      "text/plain": [
       "<IPython.core.display.Markdown object>"
      ]
     },
     "metadata": {},
     "output_type": "display_data"
    },
    {
     "data": {
      "text/html": [
       "<font color=#1F618D>WARNING: completeness is not guaranteed</font>"
      ],
      "text/plain": [
       "<IPython.core.display.HTML object>"
      ]
     },
     "metadata": {},
     "output_type": "display_data"
    }
   ],
   "source": [
    "print_markdown(documentation.desc_variable('CPC_CLASS_SYMBOL'))"
   ]
  },
  {
   "cell_type": "markdown",
   "metadata": {},
   "source": [
    "## <font color='grey'>CPC_SCHEME<font>"
   ]
  },
  {
   "cell_type": "code",
   "execution_count": 26,
   "metadata": {},
   "outputs": [
    {
     "data": {
      "text/markdown": [
       "**Name**:  classification scheme "
      ],
      "text/plain": [
       "<IPython.core.display.Markdown object>"
      ]
     },
     "metadata": {},
     "output_type": "display_data"
    },
    {
     "data": {
      "text/markdown": [
       "**Also known as**:  n/a "
      ],
      "text/plain": [
       "<IPython.core.display.Markdown object>"
      ]
     },
     "metadata": {},
     "output_type": "display_data"
    },
    {
     "data": {
      "text/markdown": [
       "**Description**: \n",
       "the two schemes are cpc\n",
       " - cpc symbol allocated by the epo or the uspto cpcno\n",
       "- cpc symbol allocated by the national office "
      ],
      "text/plain": [
       "<IPython.core.display.Markdown object>"
      ]
     },
     "metadata": {},
     "output_type": "display_data"
    },
    {
     "data": {
      "text/markdown": [
       "**Domain**:  up to 5 ascii characters; cpc or cpcno "
      ],
      "text/plain": [
       "<IPython.core.display.Markdown object>"
      ]
     },
     "metadata": {},
     "output_type": "display_data"
    },
    {
     "data": {
      "text/markdown": [
       "**Default value**:  n/a "
      ],
      "text/plain": [
       "<IPython.core.display.Markdown object>"
      ]
     },
     "metadata": {},
     "output_type": "display_data"
    },
    {
     "data": {
      "text/markdown": [
       "**Source database**:  docdb "
      ],
      "text/plain": [
       "<IPython.core.display.Markdown object>"
      ]
     },
     "metadata": {},
     "output_type": "display_data"
    },
    {
     "data": {
      "text/markdown": [
       "**Source field name**:  <patent-classification sequence=\"1\">\n",
       "<classification-scheme office=\"ep\" scheme=\"cpc\">\n",
       " <date>20130101</date>\n",
       "</classification-scheme>\n",
       "<classification-symbol>g06f 17/30233 </classification-symbol>\n",
       "<symbol-position>f</symbol-position>\n",
       "<classification-value>i</classification-value>\n",
       "<classification-status>b</classification-status>\n",
       "<classification-data-source>h</classification-data-source>\n",
       "<action-date>\n",
       " <date>20130101</date>\n",
       "</action-date> </patent-classification> <patent-classification sequence=\"2\">\n",
       "<classification-scheme office=\"ep\" scheme=\"cpcno\">\n",
       " <date>20130101</date>\n",
       "</classification-scheme>\n",
       "<classification-symbol>g06f 9/06 </classification-symbol>\n",
       "<classification-value>i</classification-value>\n",
       "<classification-status>b</classification-status>\n",
       "<classification-data-source>h</classification-data-source>\n",
       "<generating-office>gb</generating-office>\n",
       "<action-date>\n",
       " <date>20130101</date>\n",
       "</action-date> </patent-classification>\n",
       "source sub-field identifier n/a "
      ],
      "text/plain": [
       "<IPython.core.display.Markdown object>"
      ]
     },
     "metadata": {},
     "output_type": "display_data"
    },
    {
     "data": {
      "text/markdown": [
       "**Comments**:  "
      ],
      "text/plain": [
       "<IPython.core.display.Markdown object>"
      ]
     },
     "metadata": {},
     "output_type": "display_data"
    },
    {
     "data": {
      "text/markdown": [
       "**Page**: 127"
      ],
      "text/plain": [
       "<IPython.core.display.Markdown object>"
      ]
     },
     "metadata": {},
     "output_type": "display_data"
    },
    {
     "data": {
      "text/html": [
       "<font color=#1F618D>WARNING: completeness is not guaranteed</font>"
      ],
      "text/plain": [
       "<IPython.core.display.HTML object>"
      ]
     },
     "metadata": {},
     "output_type": "display_data"
    }
   ],
   "source": [
    "print_markdown(documentation.desc_variable('CPC_SCHEME'))"
   ]
  },
  {
   "cell_type": "markdown",
   "metadata": {},
   "source": [
    "## <font color='grey'>CPC_VERSION<font>"
   ]
  },
  {
   "cell_type": "code",
   "execution_count": 27,
   "metadata": {},
   "outputs": [
    {
     "data": {
      "text/markdown": [
       "**Name**:  cpc version "
      ],
      "text/plain": [
       "<IPython.core.display.Markdown object>"
      ]
     },
     "metadata": {},
     "output_type": "display_data"
    },
    {
     "data": {
      "text/markdown": [
       "**Also known as**:  n/a "
      ],
      "text/plain": [
       "<IPython.core.display.Markdown object>"
      ]
     },
     "metadata": {},
     "output_type": "display_data"
    },
    {
     "data": {
      "text/markdown": [
       "**Description**:  version of the cpc "
      ],
      "text/plain": [
       "<IPython.core.display.Markdown object>"
      ]
     },
     "metadata": {},
     "output_type": "display_data"
    },
    {
     "data": {
      "text/markdown": [
       "**Domain**:  date between '2013-01-01' and current date "
      ],
      "text/plain": [
       "<IPython.core.display.Markdown object>"
      ]
     },
     "metadata": {},
     "output_type": "display_data"
    },
    {
     "data": {
      "text/markdown": [
       "**Default value**:  n/a "
      ],
      "text/plain": [
       "<IPython.core.display.Markdown object>"
      ]
     },
     "metadata": {},
     "output_type": "display_data"
    },
    {
     "data": {
      "text/markdown": [
       "**Source database**:  docdb "
      ],
      "text/plain": [
       "<IPython.core.display.Markdown object>"
      ]
     },
     "metadata": {},
     "output_type": "display_data"
    },
    {
     "data": {
      "text/markdown": [
       "**Source field name**: \n",
       "<patent-classifications>\n",
       "<patent-classification sequence=\"1\">\n",
       " <classification-scheme office=\"ep\" scheme=\"cpc\">\n",
       "\n",
       "<date>20130101</date>\n",
       " </classification-scheme>\n",
       " <classification-symbol>b60v\n",
       " 1/16\n",
       "\n",
       "\n",
       "\n",
       "</classification-symbol>\n",
       " <classification-value>i</classification-value>\n",
       " <classification-status>b</classification-status>\n",
       " <classification-data-source>h</classification-data-source>\n",
       " <action-date>\n",
       "\n",
       "<date>20130101</date>\n",
       " </action-date>\n",
       "</patent-classification> source sub-field identifier n/a "
      ],
      "text/plain": [
       "<IPython.core.display.Markdown object>"
      ]
     },
     "metadata": {},
     "output_type": "display_data"
    },
    {
     "data": {
      "text/markdown": [
       "**Comments**: \n",
       "see the description of table tls224_appln_cpc on how the cpc symbols, which are allocated in docdb to publications, are de-duplicated and assigned to applications in patstat.\n"
      ],
      "text/plain": [
       "<IPython.core.display.Markdown object>"
      ]
     },
     "metadata": {},
     "output_type": "display_data"
    },
    {
     "data": {
      "text/markdown": [
       "**Page**: 129"
      ],
      "text/plain": [
       "<IPython.core.display.Markdown object>"
      ]
     },
     "metadata": {},
     "output_type": "display_data"
    },
    {
     "data": {
      "text/html": [
       "<font color=#1F618D>WARNING: completeness is not guaranteed</font>"
      ],
      "text/plain": [
       "<IPython.core.display.HTML object>"
      ]
     },
     "metadata": {},
     "output_type": "display_data"
    }
   ],
   "source": [
    "print_markdown(documentation.desc_variable('CPC_VERSION'))"
   ]
  },
  {
   "cell_type": "markdown",
   "metadata": {},
   "source": [
    "## <font color='grey'>CPC_VALUE<font>"
   ]
  },
  {
   "cell_type": "code",
   "execution_count": 28,
   "metadata": {},
   "outputs": [
    {
     "data": {
      "text/markdown": [
       "**Name**:  classification value "
      ],
      "text/plain": [
       "<IPython.core.display.Markdown object>"
      ]
     },
     "metadata": {},
     "output_type": "display_data"
    },
    {
     "data": {
      "text/markdown": [
       "**Also known as**:  invention / additional "
      ],
      "text/plain": [
       "<IPython.core.display.Markdown object>"
      ]
     },
     "metadata": {},
     "output_type": "display_data"
    },
    {
     "data": {
      "text/markdown": [
       "**Description**:  indication of the value of the classification i.e. is the class symbol relating to the invention or to aspects not related to the invention (but in the application). "
      ],
      "text/plain": [
       "<IPython.core.display.Markdown object>"
      ]
     },
     "metadata": {},
     "output_type": "display_data"
    },
    {
     "data": {
      "text/markdown": [
       "**Domain**:  1 character; i=invention a=additional (non-invention)\n"
      ],
      "text/plain": [
       "<IPython.core.display.Markdown object>"
      ]
     },
     "metadata": {},
     "output_type": "display_data"
    },
    {
     "data": {
      "text/markdown": [
       "**Default value**:  n/a "
      ],
      "text/plain": [
       "<IPython.core.display.Markdown object>"
      ]
     },
     "metadata": {},
     "output_type": "display_data"
    },
    {
     "data": {
      "text/markdown": [
       "**Source database**:  docdb "
      ],
      "text/plain": [
       "<IPython.core.display.Markdown object>"
      ]
     },
     "metadata": {},
     "output_type": "display_data"
    },
    {
     "data": {
      "text/markdown": [
       "**Source field name**: \n",
       "<patent-classifications>\n",
       "<patent-classification sequence=\"1\">\n",
       " <classification-scheme office=\"ep\" scheme=\"cpc\">\n",
       "\n",
       "<date>20130101</date>\n",
       " </classification-scheme>\n",
       " <classification-symbol>b60v\n",
       " 1/16\n",
       "\n",
       "\n",
       "\n",
       "</classification-symbol>\n",
       " <classification-value>i</classification-value>\n",
       " <classification-status>b</classification-status>\n",
       " <classification-data-source>h</classification-data-source>\n",
       " <action-date>\n",
       "\n",
       "<date>20130101</date>\n",
       " </action-date>\n",
       "</patent-classification> source sub-field identifier n/a "
      ],
      "text/plain": [
       "<IPython.core.display.Markdown object>"
      ]
     },
     "metadata": {},
     "output_type": "display_data"
    },
    {
     "data": {
      "text/markdown": [
       "**Comments**:  see the description of table tls224_appln_cpc on how the cpc symbols, which are allocated in docdb to publications, are de-duplicated and assigned to applications in patstat.\n",
       " "
      ],
      "text/plain": [
       "<IPython.core.display.Markdown object>"
      ]
     },
     "metadata": {},
     "output_type": "display_data"
    },
    {
     "data": {
      "text/markdown": [
       "**Page**: 128"
      ],
      "text/plain": [
       "<IPython.core.display.Markdown object>"
      ]
     },
     "metadata": {},
     "output_type": "display_data"
    },
    {
     "data": {
      "text/html": [
       "<font color=#1F618D>WARNING: completeness is not guaranteed</font>"
      ],
      "text/plain": [
       "<IPython.core.display.HTML object>"
      ]
     },
     "metadata": {},
     "output_type": "display_data"
    }
   ],
   "source": [
    "print_markdown(documentation.desc_variable('CPC_VALUE'))"
   ]
  },
  {
   "cell_type": "markdown",
   "metadata": {},
   "source": [
    "## <font color='grey'>CPC_POSITION</font>"
   ]
  },
  {
   "cell_type": "code",
   "execution_count": 29,
   "metadata": {},
   "outputs": [
    {
     "data": {
      "text/markdown": [
       "**Name**:  first or later position of cpc symbol "
      ],
      "text/plain": [
       "<IPython.core.display.Markdown object>"
      ]
     },
     "metadata": {},
     "output_type": "display_data"
    },
    {
     "data": {
      "text/markdown": [
       "**Also known as**:  n/a "
      ],
      "text/plain": [
       "<IPython.core.display.Markdown object>"
      ]
     },
     "metadata": {},
     "output_type": "display_data"
    },
    {
     "data": {
      "text/markdown": [
       "**Description**:  indicates the position of the class symbol in the sequence of classes that form the classification. first / later indications are only available for cpc symbols allocated by the epo or uspto. "
      ],
      "text/plain": [
       "<IPython.core.display.Markdown object>"
      ]
     },
     "metadata": {},
     "output_type": "display_data"
    },
    {
     "data": {
      "text/markdown": [
       "**Domain**:  1 character; f = first, l = later, space = unidentified\n"
      ],
      "text/plain": [
       "<IPython.core.display.Markdown object>"
      ]
     },
     "metadata": {},
     "output_type": "display_data"
    },
    {
     "data": {
      "text/markdown": [
       "**Default value**:  space "
      ],
      "text/plain": [
       "<IPython.core.display.Markdown object>"
      ]
     },
     "metadata": {},
     "output_type": "display_data"
    },
    {
     "data": {
      "text/markdown": [
       "**Source database**:  docdb <patent-classifications>\n",
       "<patent-classification sequence=\"1\">\n",
       " <classification-scheme office=\"ep\" scheme=\"cpc\">\n",
       "\n",
       "<date>20130101</date>\n",
       " </classification-scheme>\n",
       " <classification-symbol>b60v\n",
       " 1/16\n",
       "\n",
       "\n",
       "\n",
       "</classification-symbol>\n",
       " <classification-value>i</classification-value>\n",
       " <symbol_position>l</symbol_position>\n",
       " <classification-status>b</classification-status>\n",
       " <classification-data-source>h</classification-data-source>\n",
       " <action-date>\n",
       "\n",
       "<date>20130101</date>\n",
       " </action-date>\n",
       "</patent-classification>\n"
      ],
      "text/plain": [
       "<IPython.core.display.Markdown object>"
      ]
     },
     "metadata": {},
     "output_type": "display_data"
    },
    {
     "data": {
      "text/markdown": [
       "**Source field name**: \n",
       "<symbol_position>l</symbol_position> this field is only available for scheme \"cpc\". this field is not used with scheme \"cpcno\".\n",
       "source sub-field identifier n/a\n"
      ],
      "text/plain": [
       "<IPython.core.display.Markdown object>"
      ]
     },
     "metadata": {},
     "output_type": "display_data"
    },
    {
     "data": {
      "text/markdown": [
       "**Page**: 125"
      ],
      "text/plain": [
       "<IPython.core.display.Markdown object>"
      ]
     },
     "metadata": {},
     "output_type": "display_data"
    },
    {
     "data": {
      "text/html": [
       "<font color=#1F618D>WARNING: completeness is not guaranteed</font>"
      ],
      "text/plain": [
       "<IPython.core.display.HTML object>"
      ]
     },
     "metadata": {},
     "output_type": "display_data"
    }
   ],
   "source": [
    "print_markdown(documentation.desc_variable('CPC_POSITION'))"
   ]
  },
  {
   "cell_type": "markdown",
   "metadata": {},
   "source": [
    "## <font color='grey'>CPC_GENER_AUTH</font>"
   ]
  },
  {
   "cell_type": "code",
   "execution_count": 30,
   "metadata": {},
   "outputs": [
    {
     "data": {
      "text/markdown": [
       "**Name**:  cpc generating authority "
      ],
      "text/plain": [
       "<IPython.core.display.Markdown object>"
      ]
     },
     "metadata": {},
     "output_type": "display_data"
    },
    {
     "data": {
      "text/markdown": [
       "**Also known as**:  n/a "
      ],
      "text/plain": [
       "<IPython.core.display.Markdown object>"
      ]
     },
     "metadata": {},
     "output_type": "display_data"
    },
    {
     "data": {
      "text/markdown": [
       "**Description**:  patent office that classified the application with a cpc symbol\n"
      ],
      "text/plain": [
       "<IPython.core.display.Markdown object>"
      ]
     },
     "metadata": {},
     "output_type": "display_data"
    },
    {
     "data": {
      "text/markdown": [
       "**Domain**:  up to 2 characters (a-z) or spaces;\n",
       "- empty/spaces (when scheme is cpc, i.e. ep / us are assigning the cpc symbols)\n",
       "- values according to wipo st.3\n",
       "(when scheme is cpcno) default value n/a "
      ],
      "text/plain": [
       "<IPython.core.display.Markdown object>"
      ]
     },
     "metadata": {},
     "output_type": "display_data"
    },
    {
     "data": {
      "text/markdown": [
       "**Source database**:  docdb\n",
       "<patent-classification sequence=\"2\">\n",
       " <classification-scheme office=\"ep\" scheme=\"cpcno\">\n",
       "\n",
       "<date>20130101</date>\n",
       " </classification-scheme>\n",
       " <classification-symbol>b60v\n",
       " 1/16\n",
       "\n",
       "\n",
       "\n",
       "</classification-symbol>\n",
       " <classification-value>i</classification-value>\n",
       " <classification-status>b</classification-status>\n",
       " <classification-data-source>h</classification-data-source>\n",
       " <generating-office>gb</generating-office>\n",
       " <action-date>\n",
       "\n",
       "<date>20130101</date>\n",
       " </action-date>\n",
       "</patent-classification>\n"
      ],
      "text/plain": [
       "<IPython.core.display.Markdown object>"
      ]
     },
     "metadata": {},
     "output_type": "display_data"
    },
    {
     "data": {
      "text/markdown": [
       "**Source field name**: \n",
       " <generating-office>gb</generating-office>\n",
       "this field is only used for scheme \"cpcno\". this field is not used with scheme \"cpc\".\n",
       "source sub-field identifier n/a "
      ],
      "text/plain": [
       "<IPython.core.display.Markdown object>"
      ]
     },
     "metadata": {},
     "output_type": "display_data"
    },
    {
     "data": {
      "text/markdown": [
       "**Comments**:  see the description of table tls224_appln_cpc on how the cpc symbols, which are allocated in docdb to publications, are de-duplicated and assigned to applications in patstat\n",
       "application. this should be the authority of this application.\n"
      ],
      "text/plain": [
       "<IPython.core.display.Markdown object>"
      ]
     },
     "metadata": {},
     "output_type": "display_data"
    },
    {
     "data": {
      "text/markdown": [
       "**Page**: 124"
      ],
      "text/plain": [
       "<IPython.core.display.Markdown object>"
      ]
     },
     "metadata": {},
     "output_type": "display_data"
    },
    {
     "data": {
      "text/html": [
       "<font color=#1F618D>WARNING: completeness is not guaranteed</font>"
      ],
      "text/plain": [
       "<IPython.core.display.HTML object>"
      ]
     },
     "metadata": {},
     "output_type": "display_data"
    }
   ],
   "source": [
    "print_markdown(documentation.desc_variable('CPC_GENER_AUTH'))"
   ]
  }
 ],
 "metadata": {
  "kernelspec": {
   "display_name": "test-env",
   "language": "python",
   "name": "test"
  },
  "language_info": {
   "codemirror_mode": {
    "name": "ipython",
    "version": 3
   },
   "file_extension": ".py",
   "mimetype": "text/x-python",
   "name": "python",
   "nbconvert_exporter": "python",
   "pygments_lexer": "ipython3",
   "version": "3.7.0"
  },
  "latex_envs": {
   "LaTeX_envs_menu_present": true,
   "autoclose": false,
   "autocomplete": true,
   "bibliofile": "biblio.bib",
   "cite_by": "apalike",
   "current_citInitial": 1,
   "eqLabelWithNumbers": true,
   "eqNumInitial": 1,
   "hotkeys": {
    "equation": "Ctrl-E",
    "itemize": "Ctrl-I"
   },
   "labels_anchors": false,
   "latex_user_defs": false,
   "report_style_numbering": false,
   "user_envs_cfg": false
  },
  "toc": {
   "base_numbering": 1,
   "nav_menu": {},
   "number_sections": true,
   "sideBar": true,
   "skip_h1_title": false,
   "title_cell": "Table of Contents",
   "title_sidebar": "Contents",
   "toc_cell": false,
   "toc_position": {},
   "toc_section_display": true,
   "toc_window_display": true
  }
 },
 "nbformat": 4,
 "nbformat_minor": 2
}
