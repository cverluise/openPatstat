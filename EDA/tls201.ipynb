{
 "cells": [
  {
   "cell_type": "code",
   "execution_count": 1,
   "metadata": {},
   "outputs": [],
   "source": [
    "%load_ext autoreload\n",
    "%autoreload 2"
   ]
  },
  {
   "cell_type": "markdown",
   "metadata": {},
   "source": [
    "**Import and meta**"
   ]
  },
  {
   "cell_type": "code",
   "execution_count": 2,
   "metadata": {},
   "outputs": [],
   "source": [
    "from google.cloud import bigquery\n",
    "from open_patstat.plots import bar_chart, stacked_bar_chart\n",
    "from open_patstat.documentation.shortdoc import ShortDoc, print_markdown, print_signature\n",
    "\n",
    "import plotly.plotly as py\n",
    "import plotly.graph_objs as go\n",
    "import plotly.io as pio\n",
    "import plotly.figure_factory as ff\n",
    "import pandas as pd\n",
    "import os\n",
    "import pycountry\n",
    "import colorlover as cl"
   ]
  },
  {
   "cell_type": "code",
   "execution_count": 3,
   "metadata": {},
   "outputs": [],
   "source": [
    "data_path = '../data/'\n",
    "plots_path = '../plots/'\n",
    "views_path = '../views/'"
   ]
  },
  {
   "cell_type": "markdown",
   "metadata": {},
   "source": [
    "[Credentials]:https://cloud.google.com/bigquery/docs/quickstarts/quickstart-client-libraries#client-libraries-install-python\n",
    "\n",
    "To instantiate your Client, you need to set the environment variable `GOOGLE_APPLICATION_CREDENTIALS` to the file path of the JSON file that contains your service account key. Follow the steps described [here][credentials]. \n",
    "\n",
    "Readers only interested in existing output can comment the `client` instantiation and execute the rest of the notebook using the aggregate data provided in `/views`."
   ]
  },
  {
   "cell_type": "code",
   "execution_count": 4,
   "metadata": {},
   "outputs": [],
   "source": [
    "documentation = ShortDoc()\n",
    "client = bigquery.Client()"
   ]
  },
  {
   "cell_type": "markdown",
   "metadata": {},
   "source": [
    "----"
   ]
  },
  {
   "cell_type": "markdown",
   "metadata": {},
   "source": [
    "**What is this notebook for?**"
   ]
  },
  {
   "cell_type": "markdown",
   "metadata": {},
   "source": [
    "The Application table (`TLS201_APPLN`) is PATSTAT's central table. It contains the key bibliographical data elements relevant to identify the patent application. Most of the elements in this table can be found on the first page of a printed patent document. It also links to many other database tables.\n",
    "\n",
    "This notebook documents the 101 of the Patstat \"Application\" table (aka `TLS201_APPLN`, `PATSTAT2016a`).\n",
    "\n",
    "More precisely:\n",
    "\n",
    "- we report variable descriptions and encoding details from the `Data Catalog for Patstat`(5.07)\n",
    "- we provide summary statistics and visualizations (when relevant)"
   ]
  },
  {
   "cell_type": "markdown",
   "metadata": {},
   "source": [
    "**Data**"
   ]
  },
  {
   "cell_type": "code",
   "execution_count": 5,
   "metadata": {
    "scrolled": true
   },
   "outputs": [
    {
     "data": {
      "text/markdown": [
       "**Author**: European patent office"
      ],
      "text/plain": [
       "<IPython.core.display.Markdown object>"
      ]
     },
     "metadata": {},
     "output_type": "display_data"
    },
    {
     "data": {
      "text/markdown": [
       "**Distribution**: Epo patstat customers"
      ],
      "text/plain": [
       "<IPython.core.display.Markdown object>"
      ]
     },
     "metadata": {},
     "output_type": "display_data"
    },
    {
     "data": {
      "text/markdown": [
       "**Patstat edition**: 2016 spring edition"
      ],
      "text/plain": [
       "<IPython.core.display.Markdown object>"
      ]
     },
     "metadata": {},
     "output_type": "display_data"
    },
    {
     "data": {
      "text/markdown": [
       "**Version**: 5.07"
      ],
      "text/plain": [
       "<IPython.core.display.Markdown object>"
      ]
     },
     "metadata": {},
     "output_type": "display_data"
    },
    {
     "data": {
      "text/markdown": [
       "**Date**: 01.04.2016"
      ],
      "text/plain": [
       "<IPython.core.display.Markdown object>"
      ]
     },
     "metadata": {},
     "output_type": "display_data"
    },
    {
     "data": {
      "text/html": [
       "<font color=#1F618D>WARNING: completeness is not guaranteed</font>"
      ],
      "text/plain": [
       "<IPython.core.display.HTML object>"
      ]
     },
     "metadata": {},
     "output_type": "display_data"
    }
   ],
   "source": [
    "print_markdown(documentation.version())"
   ]
  },
  {
   "cell_type": "markdown",
   "metadata": {},
   "source": [
    "**Output**"
   ]
  },
  {
   "cell_type": "markdown",
   "metadata": {},
   "source": [
    "[db-logo]: https://aem.dropbox.com/cms/content/dam/dropbox/www/en-us/branding/app-dropbox-windows@2x.png.transform/half-res/img.png\n",
    "[db]:https://www.dropbox.com/sh/b1gs90gtoduu02v/AABICBNYH2kysjX-4JTqee0Wa?dl=0\n",
    "\n",
    "`plots/` and `views/` are not available on our GitHub repository. However, interested readers can access those files on our dedicated dropbox. \n",
    "\n",
    "[![alt text][db-logo]][db]"
   ]
  },
  {
   "cell_type": "markdown",
   "metadata": {},
   "source": [
    "----"
   ]
  },
  {
   "cell_type": "markdown",
   "metadata": {},
   "source": [
    "**TLS201_APPLN Schema**"
   ]
  },
  {
   "cell_type": "code",
   "execution_count": 6,
   "metadata": {},
   "outputs": [
    {
     "data": {
      "text/markdown": [
       "**Description**: Tls201_appln: application 5.1contains the key bibliographical data elements relevant to identify the patent application. most of the elements in this table can be found on the first page of a printed patent document. e. g.: application authority, application number and application filing date.\n",
       "from a database structure point of view, this table is very important because it links to many other database tables via the application id attribute.\n",
       "note: the following attributes have been renamed in the 2015 spring edition:\n",
       "prior_earliest_date\n",
       " earliest_filing_date\n",
       "prior_earliest_year\n",
       " earliest_filing_year\n",
       "publn_earliest_date\n",
       " earliest_publn_date\n",
       "publn_earliest_year"
      ],
      "text/plain": [
       "<IPython.core.display.Markdown object>"
      ]
     },
     "metadata": {},
     "output_type": "display_data"
    },
    {
     "data": {
      "text/markdown": [
       "**Page**: 37"
      ],
      "text/plain": [
       "<IPython.core.display.Markdown object>"
      ]
     },
     "metadata": {},
     "output_type": "display_data"
    },
    {
     "data": {
      "text/html": [
       "<font color=#1F618D>WARNING: completeness is not guaranteed</font>"
      ],
      "text/plain": [
       "<IPython.core.display.HTML object>"
      ]
     },
     "metadata": {},
     "output_type": "display_data"
    }
   ],
   "source": [
    "print_markdown(documentation.desc_table('TLS201_APPLN'))"
   ]
  },
  {
   "cell_type": "code",
   "execution_count": 7,
   "metadata": {},
   "outputs": [],
   "source": [
    "table_ref = client.dataset('raw').table('tls201_cp')\n",
    "table = client.get_table(table_ref)\n",
    "schema = table.schema\n",
    "schema = [[schema[i].name, schema[i].field_type, schema[i].mode] for i in range(len(schema))]"
   ]
  },
  {
   "cell_type": "code",
   "execution_count": 8,
   "metadata": {},
   "outputs": [
    {
     "data": {
      "text/html": [
       "<div>\n",
       "<style scoped>\n",
       "    .dataframe tbody tr th:only-of-type {\n",
       "        vertical-align: middle;\n",
       "    }\n",
       "\n",
       "    .dataframe tbody tr th {\n",
       "        vertical-align: top;\n",
       "    }\n",
       "\n",
       "    .dataframe thead th {\n",
       "        text-align: right;\n",
       "    }\n",
       "</style>\n",
       "<table border=\"1\" class=\"dataframe\">\n",
       "  <thead>\n",
       "    <tr style=\"text-align: right;\">\n",
       "      <th></th>\n",
       "      <th>Type</th>\n",
       "      <th>Mode</th>\n",
       "    </tr>\n",
       "    <tr>\n",
       "      <th>Name</th>\n",
       "      <th></th>\n",
       "      <th></th>\n",
       "    </tr>\n",
       "  </thead>\n",
       "  <tbody>\n",
       "    <tr>\n",
       "      <th>appln_id</th>\n",
       "      <td>INTEGER</td>\n",
       "      <td>NULLABLE</td>\n",
       "    </tr>\n",
       "    <tr>\n",
       "      <th>appln_auth</th>\n",
       "      <td>STRING</td>\n",
       "      <td>NULLABLE</td>\n",
       "    </tr>\n",
       "    <tr>\n",
       "      <th>appln_nr</th>\n",
       "      <td>STRING</td>\n",
       "      <td>NULLABLE</td>\n",
       "    </tr>\n",
       "    <tr>\n",
       "      <th>appln_kind</th>\n",
       "      <td>STRING</td>\n",
       "      <td>NULLABLE</td>\n",
       "    </tr>\n",
       "    <tr>\n",
       "      <th>appln_filing_date</th>\n",
       "      <td>DATE</td>\n",
       "      <td>NULLABLE</td>\n",
       "    </tr>\n",
       "    <tr>\n",
       "      <th>appln_filing_year</th>\n",
       "      <td>INTEGER</td>\n",
       "      <td>NULLABLE</td>\n",
       "    </tr>\n",
       "    <tr>\n",
       "      <th>appln_nr_epodoc</th>\n",
       "      <td>STRING</td>\n",
       "      <td>NULLABLE</td>\n",
       "    </tr>\n",
       "    <tr>\n",
       "      <th>appln_nr_original</th>\n",
       "      <td>STRING</td>\n",
       "      <td>NULLABLE</td>\n",
       "    </tr>\n",
       "    <tr>\n",
       "      <th>ipr_type</th>\n",
       "      <td>STRING</td>\n",
       "      <td>NULLABLE</td>\n",
       "    </tr>\n",
       "    <tr>\n",
       "      <th>internat_appln_id</th>\n",
       "      <td>INTEGER</td>\n",
       "      <td>NULLABLE</td>\n",
       "    </tr>\n",
       "    <tr>\n",
       "      <th>int_phase</th>\n",
       "      <td>BOOLEAN</td>\n",
       "      <td>NULLABLE</td>\n",
       "    </tr>\n",
       "    <tr>\n",
       "      <th>reg_phase</th>\n",
       "      <td>BOOLEAN</td>\n",
       "      <td>NULLABLE</td>\n",
       "    </tr>\n",
       "    <tr>\n",
       "      <th>nat_phase</th>\n",
       "      <td>BOOLEAN</td>\n",
       "      <td>NULLABLE</td>\n",
       "    </tr>\n",
       "    <tr>\n",
       "      <th>earliest_filing_date</th>\n",
       "      <td>DATE</td>\n",
       "      <td>NULLABLE</td>\n",
       "    </tr>\n",
       "    <tr>\n",
       "      <th>earliest_filing_year</th>\n",
       "      <td>INTEGER</td>\n",
       "      <td>NULLABLE</td>\n",
       "    </tr>\n",
       "    <tr>\n",
       "      <th>earliest_filing_id</th>\n",
       "      <td>INTEGER</td>\n",
       "      <td>NULLABLE</td>\n",
       "    </tr>\n",
       "    <tr>\n",
       "      <th>earliest_publn_date</th>\n",
       "      <td>DATE</td>\n",
       "      <td>NULLABLE</td>\n",
       "    </tr>\n",
       "    <tr>\n",
       "      <th>earliest_publn_year</th>\n",
       "      <td>INTEGER</td>\n",
       "      <td>NULLABLE</td>\n",
       "    </tr>\n",
       "    <tr>\n",
       "      <th>earliest_pat_publn_id</th>\n",
       "      <td>INTEGER</td>\n",
       "      <td>NULLABLE</td>\n",
       "    </tr>\n",
       "    <tr>\n",
       "      <th>granted</th>\n",
       "      <td>BOOLEAN</td>\n",
       "      <td>NULLABLE</td>\n",
       "    </tr>\n",
       "    <tr>\n",
       "      <th>docdb_family_id</th>\n",
       "      <td>INTEGER</td>\n",
       "      <td>NULLABLE</td>\n",
       "    </tr>\n",
       "    <tr>\n",
       "      <th>inpadoc_family_id</th>\n",
       "      <td>INTEGER</td>\n",
       "      <td>NULLABLE</td>\n",
       "    </tr>\n",
       "    <tr>\n",
       "      <th>docdb_family_size</th>\n",
       "      <td>INTEGER</td>\n",
       "      <td>NULLABLE</td>\n",
       "    </tr>\n",
       "    <tr>\n",
       "      <th>nb_citing_docdb_fam</th>\n",
       "      <td>INTEGER</td>\n",
       "      <td>NULLABLE</td>\n",
       "    </tr>\n",
       "    <tr>\n",
       "      <th>nb_applicants</th>\n",
       "      <td>INTEGER</td>\n",
       "      <td>NULLABLE</td>\n",
       "    </tr>\n",
       "    <tr>\n",
       "      <th>nb_inventors</th>\n",
       "      <td>INTEGER</td>\n",
       "      <td>NULLABLE</td>\n",
       "    </tr>\n",
       "    <tr>\n",
       "      <th>date</th>\n",
       "      <td>DATE</td>\n",
       "      <td>NULLABLE</td>\n",
       "    </tr>\n",
       "    <tr>\n",
       "      <th>year</th>\n",
       "      <td>INTEGER</td>\n",
       "      <td>NULLABLE</td>\n",
       "    </tr>\n",
       "  </tbody>\n",
       "</table>\n",
       "</div>"
      ],
      "text/plain": [
       "                          Type      Mode\n",
       "Name                                    \n",
       "appln_id               INTEGER  NULLABLE\n",
       "appln_auth              STRING  NULLABLE\n",
       "appln_nr                STRING  NULLABLE\n",
       "appln_kind              STRING  NULLABLE\n",
       "appln_filing_date         DATE  NULLABLE\n",
       "appln_filing_year      INTEGER  NULLABLE\n",
       "appln_nr_epodoc         STRING  NULLABLE\n",
       "appln_nr_original       STRING  NULLABLE\n",
       "ipr_type                STRING  NULLABLE\n",
       "internat_appln_id      INTEGER  NULLABLE\n",
       "int_phase              BOOLEAN  NULLABLE\n",
       "reg_phase              BOOLEAN  NULLABLE\n",
       "nat_phase              BOOLEAN  NULLABLE\n",
       "earliest_filing_date      DATE  NULLABLE\n",
       "earliest_filing_year   INTEGER  NULLABLE\n",
       "earliest_filing_id     INTEGER  NULLABLE\n",
       "earliest_publn_date       DATE  NULLABLE\n",
       "earliest_publn_year    INTEGER  NULLABLE\n",
       "earliest_pat_publn_id  INTEGER  NULLABLE\n",
       "granted                BOOLEAN  NULLABLE\n",
       "docdb_family_id        INTEGER  NULLABLE\n",
       "inpadoc_family_id      INTEGER  NULLABLE\n",
       "docdb_family_size      INTEGER  NULLABLE\n",
       "nb_citing_docdb_fam    INTEGER  NULLABLE\n",
       "nb_applicants          INTEGER  NULLABLE\n",
       "nb_inventors           INTEGER  NULLABLE\n",
       "date                      DATE  NULLABLE\n",
       "year                   INTEGER  NULLABLE"
      ]
     },
     "execution_count": 8,
     "metadata": {},
     "output_type": "execute_result"
    }
   ],
   "source": [
    "pd.DataFrame(schema, columns=['Name', 'Type', 'Mode']).set_index('Name')"
   ]
  },
  {
   "cell_type": "markdown",
   "metadata": {},
   "source": [
    "----"
   ]
  },
  {
   "cell_type": "markdown",
   "metadata": {},
   "source": [
    "# Technical identifier"
   ]
  },
  {
   "cell_type": "markdown",
   "metadata": {},
   "source": [
    "## APPLN_ID"
   ]
  },
  {
   "cell_type": "code",
   "execution_count": 9,
   "metadata": {},
   "outputs": [
    {
     "data": {
      "text/markdown": [
       "**Name**:  application identification "
      ],
      "text/plain": [
       "<IPython.core.display.Markdown object>"
      ]
     },
     "metadata": {},
     "output_type": "display_data"
    },
    {
     "data": {
      "text/markdown": [
       "**Also known as**:  n/a "
      ],
      "text/plain": [
       "<IPython.core.display.Markdown object>"
      ]
     },
     "metadata": {},
     "output_type": "display_data"
    },
    {
     "data": {
      "text/markdown": [
       "**Description**:  surrogate key technical unique identifier without any business meaning "
      ],
      "text/plain": [
       "<IPython.core.display.Markdown object>"
      ]
     },
     "metadata": {},
     "output_type": "display_data"
    },
    {
     "data": {
      "text/markdown": [
       "**Domain**:  9 999 999 "
      ],
      "text/plain": [
       "<IPython.core.display.Markdown object>"
      ]
     },
     "metadata": {},
     "output_type": "display_data"
    },
    {
     "data": {
      "text/markdown": [
       "**Default value**:  n/a "
      ],
      "text/plain": [
       "<IPython.core.display.Markdown object>"
      ]
     },
     "metadata": {},
     "output_type": "display_data"
    },
    {
     "data": {
      "text/markdown": [
       "**Source database**:  docdb (range 1), patstat (ranges 2, 3, 4) "
      ],
      "text/plain": [
       "<IPython.core.display.Markdown object>"
      ]
     },
     "metadata": {},
     "output_type": "display_data"
    },
    {
     "data": {
      "text/markdown": [
       "**Source field name**: \n",
       " for range 1 (see below for definition of ranges)\n",
       "<application-reference is-representative=\"yes\" doc-id=\"11607218\" data-format=\"docdb\">\n",
       "<document-id>\n",
       "\n",
       "<country>de</country>\n",
       "\n",
       "<doc-number>8909720</doc-number>\n",
       "\n",
       "<kind>u</kind>\n",
       "\n",
       "<date>19890812</date>\n",
       "</document-id>\n",
       "for ranges 2, 3 and 4 appln_id is set as described in section 4.4 \"application replenishment\".\n",
       "source sub-field identifier n/a source codes\n",
       "for range 1 <application-reference is-representative=\"yes\" doc-id=\"11607218\" data-format=\"docdb\">\n"
      ],
      "text/plain": [
       "<IPython.core.display.Markdown object>"
      ]
     },
     "metadata": {},
     "output_type": "display_data"
    },
    {
     "data": {
      "text/markdown": [
       "**Page**: 88"
      ],
      "text/plain": [
       "<IPython.core.display.Markdown object>"
      ]
     },
     "metadata": {},
     "output_type": "display_data"
    },
    {
     "data": {
      "text/html": [
       "<font color=#1F618D>WARNING: completeness is not guaranteed</font>"
      ],
      "text/plain": [
       "<IPython.core.display.HTML object>"
      ]
     },
     "metadata": {},
     "output_type": "display_data"
    }
   ],
   "source": [
    "print_markdown(documentation.desc_variable('APPLN_ID'))"
   ]
  },
  {
   "cell_type": "markdown",
   "metadata": {},
   "source": [
    "Note: \n",
    "\n",
    "1. Range 1: 1 to 900 000 000. Filed applications which have a related publication in DOCDB. UNique but not sequential.\n",
    "2. Range 2: from 900 000 001 to 930 000 000. Artificial applications which are created in PATSTAT for prior applications, claimed as *priorities*, which do not have an application-reference in DOCDB.\n",
    "3. Range 3: 930 000 001 to 960 000 000. Artificial filing applications with kind code `D2` which are created in PATSTAT for those artificial publications which are also created in PATSTAT because these *publications* are cited, but do not have a publication-reference in DOCDB.\n",
    "3. Range 4: 960 000 001 to 999 999 999. Artificial filing applications with kind code `D3` which are created in PATSTAT because these *applications* are cited. "
   ]
  },
  {
   "cell_type": "markdown",
   "metadata": {},
   "source": [
    "```python\n",
    "query = \"\"\"\n",
    "SELECT\n",
    "  year,\n",
    "  appln_auth,\n",
    "  COUNT(*) AS nb_range,\n",
    "  CASE\n",
    "    WHEN appln_id BETWEEN 1 AND 900000000 THEN \"range_1\"\n",
    "    WHEN appln_id BETWEEN 900000001 AND 930000000 THEN \"range_2\"\n",
    "    WHEN appln_id BETWEEN 930000001 AND 960000000 THEN \"range_3\"\n",
    "    WHEN appln_id BETWEEN 960000001 AND 999000000 THEN \"range_4\"\n",
    "  END AS range\n",
    "FROM\n",
    "  raw.tls201_cp\n",
    "GROUP BY\n",
    "  year,\n",
    "  appln_auth,\n",
    "  nb_range\n",
    "ORDER BY\n",
    "  year,\n",
    "  appln_auth;\"\"\"\n",
    "\n",
    "client.query(query=query).to_dataframe().to_csv(views_path + '201_ApplnId_byRange.csv')\n",
    "```"
   ]
  },
  {
   "cell_type": "code",
   "execution_count": 10,
   "metadata": {},
   "outputs": [],
   "source": [
    "df = pd.read_csv(views_path + '201_ApplnId_byRange.csv', index_col=0)"
   ]
  },
  {
   "cell_type": "code",
   "execution_count": 12,
   "metadata": {},
   "outputs": [],
   "source": [
    "# Overall range distribution\n",
    "tmp = df.groupby(['range']).sum()['nb_range']\n",
    "\n",
    "fig = bar_chart(tmp, title='ApplicationId by Range')\n",
    "pio.write_image(fig, plots_path + '/201_ApplnId_byRange.png')\n",
    "#py.iplot(fig, filename='201_ApplnId_byRange')"
   ]
  },
  {
   "cell_type": "code",
   "execution_count": 13,
   "metadata": {},
   "outputs": [],
   "source": [
    "# Range distribution by year\n",
    "tmp = df.groupby(['year', 'range']).sum()['nb_range'].to_frame().reset_index('range')\n",
    "fig = stacked_bar_chart(tmp, 'range', 'nb_range', title='ApplnId by range and year')\n",
    "pio.write_image(fig, plots_path + '/201_ApplnId_byRangeYear.png', width=1200, height=800)\n",
    "#py.iplot(fig, filename='201_ApplnId_byRange')"
   ]
  },
  {
   "cell_type": "markdown",
   "metadata": {},
   "source": [
    "# Business identifiers"
   ]
  },
  {
   "cell_type": "markdown",
   "metadata": {},
   "source": [
    "## APPLN_AUTH"
   ]
  },
  {
   "cell_type": "code",
   "execution_count": 14,
   "metadata": {},
   "outputs": [
    {
     "data": {
      "text/markdown": [
       "**Name**:  application authority "
      ],
      "text/plain": [
       "<IPython.core.display.Markdown object>"
      ]
     },
     "metadata": {},
     "output_type": "display_data"
    },
    {
     "data": {
      "text/markdown": [
       "**Also known as**:  country, state. receiving office in case of pct application "
      ],
      "text/plain": [
       "<IPython.core.display.Markdown object>"
      ]
     },
     "metadata": {},
     "output_type": "display_data"
    },
    {
     "data": {
      "text/markdown": [
       "**Description**:  patent authority where the national, international or regional application was filed "
      ],
      "text/plain": [
       "<IPython.core.display.Markdown object>"
      ]
     },
     "metadata": {},
     "output_type": "display_data"
    },
    {
     "data": {
      "text/markdown": [
       "**Domain**:  up to 2 ascii characters (a-z), according to wipo st.3 and including rh (south rhodesia) "
      ],
      "text/plain": [
       "<IPython.core.display.Markdown object>"
      ]
     },
     "metadata": {},
     "output_type": "display_data"
    },
    {
     "data": {
      "text/markdown": [
       "**Default value**:  n/a "
      ],
      "text/plain": [
       "<IPython.core.display.Markdown object>"
      ]
     },
     "metadata": {},
     "output_type": "display_data"
    },
    {
     "data": {
      "text/markdown": [
       "**Source database**:  docdb "
      ],
      "text/plain": [
       "<IPython.core.display.Markdown object>"
      ]
     },
     "metadata": {},
     "output_type": "display_data"
    },
    {
     "data": {
      "text/markdown": [
       "**Page**: 83"
      ],
      "text/plain": [
       "<IPython.core.display.Markdown object>"
      ]
     },
     "metadata": {},
     "output_type": "display_data"
    },
    {
     "data": {
      "text/html": [
       "<font color=#1F618D>WARNING: completeness is not guaranteed</font>"
      ],
      "text/plain": [
       "<IPython.core.display.HTML object>"
      ]
     },
     "metadata": {},
     "output_type": "display_data"
    }
   ],
   "source": [
    "print_markdown(documentation.desc_variable('APPLN_AUTH'))"
   ]
  },
  {
   "cell_type": "markdown",
   "metadata": {},
   "source": [
    "```python\n",
    "\n",
    "query = \"\"\"\n",
    "SELECT \n",
    "    appln_auth,\n",
    "    year,\n",
    "    count(appln_auth) as nb_patents\n",
    "FROM\n",
    "    raw.tls201_cp\n",
    "GROUP BY \n",
    "    appln_auth,\n",
    "    year\n",
    "ORDER BY\n",
    "    appln_auth,\n",
    "    year;\"\"\"\n",
    "\n",
    "client.query(query=query).to_dataframe().to_csv(views_path + '201_ApplnAuth_byYear.csv')\n",
    "```"
   ]
  },
  {
   "cell_type": "code",
   "execution_count": 15,
   "metadata": {},
   "outputs": [],
   "source": [
    "tmp_path = '/201_ApplnAuth_byYearAuth'"
   ]
  },
  {
   "cell_type": "code",
   "execution_count": 16,
   "metadata": {},
   "outputs": [],
   "source": [
    "df_org = pd.read_csv(data_path + 'tls801_part01.txt')\n",
    "df = pd.read_csv(views_path + '/201_ApplnAuth_byYear.csv', index_col=0)"
   ]
  },
  {
   "cell_type": "code",
   "execution_count": 17,
   "metadata": {},
   "outputs": [],
   "source": [
    "# Overall applications by auth since the 1970s\n",
    "threshold = 1970\n",
    "tmp = df.query('year>=@threshold').groupby('appln_auth').sum().merge(df_org, how='left',\n",
    "                                                                     left_index=True, right_on=['ctry_code']).set_index(\n",
    "    'st3_name')\n",
    "fig = bar_chart(tmp['nb_patents'].sort_values(ascending=False).iloc[:15],\n",
    "                title='Number of Applications by ApplnAuth since {}'.format(threshold))\n",
    "pio.write_image(fig, plots_path + '/201_ApplnAuth_byAuth70s.png', width=1200, height=800)\n",
    "#  py.iplot(fig)\n"
   ]
  },
  {
   "cell_type": "code",
   "execution_count": 18,
   "metadata": {},
   "outputs": [],
   "source": [
    "# Application by auth over time\n",
    "for cnt_code in df.appln_auth.unique():\n",
    "    try:  # some organizations don't have names ...\n",
    "        cnt_name = df_org.query('ctry_code == @cnt_code')[\"st3_name\"].values[0]\n",
    "    except:\n",
    "        pass\n",
    "    tmp = df.dropna().set_index('year').query('appln_auth==@cnt_code')['nb_patents']\n",
    "    # be careful; there is a large number of year=nan for some countries (ex: DE, CA)\n",
    "    if sum(tmp) > 1e6:\n",
    "        fig = bar_chart(tmp, title='Applications by year in {}'.format(cnt_name))\n",
    "        pio.write_image(fig,\n",
    "                        plots_path + tmp_path + '/201_ApplnAuth_{}_byYear.png'.format(cnt_code),\n",
    "                        width=1200, height=800)\n"
   ]
  },
  {
   "cell_type": "markdown",
   "metadata": {},
   "source": [
    "## APPLN_NR"
   ]
  },
  {
   "cell_type": "code",
   "execution_count": 19,
   "metadata": {},
   "outputs": [
    {
     "data": {
      "text/markdown": [
       "**Name**:  application number "
      ],
      "text/plain": [
       "<IPython.core.display.Markdown object>"
      ]
     },
     "metadata": {},
     "output_type": "display_data"
    },
    {
     "data": {
      "text/markdown": [
       "**Also known as**:  \"dossier number\" in case of ep applications "
      ],
      "text/plain": [
       "<IPython.core.display.Markdown object>"
      ]
     },
     "metadata": {},
     "output_type": "display_data"
    },
    {
     "data": {
      "text/markdown": [
       "**Description**:  number issued by the patent authority where the national, international or regional application was filed "
      ],
      "text/plain": [
       "<IPython.core.display.Markdown object>"
      ]
     },
     "metadata": {},
     "output_type": "display_data"
    },
    {
     "data": {
      "text/markdown": [
       "**Domain**:  up to 15 ascii characters this attribute must be unique in combination with appln_auth & appln_kind. the last character is either numeric or a, d, k, t or x. the docdb administrators make the application numbers end with a d, t or x to create \"dummy\" application numbers that are present because the number is mandatory but the actual number is not known. a - data errors d - dummy application; the publication number is put in front of the d k\n",
       "special type of older brazilian application (number format 11nnnnnk ) t - dummy technical priority x - dummy pre-1970 derived priority "
      ],
      "text/plain": [
       "<IPython.core.display.Markdown object>"
      ]
     },
     "metadata": {},
     "output_type": "display_data"
    },
    {
     "data": {
      "text/markdown": [
       "**Default value**:  empty string "
      ],
      "text/plain": [
       "<IPython.core.display.Markdown object>"
      ]
     },
     "metadata": {},
     "output_type": "display_data"
    },
    {
     "data": {
      "text/markdown": [
       "**Source database**:  docdb\n"
      ],
      "text/plain": [
       "<IPython.core.display.Markdown object>"
      ]
     },
     "metadata": {},
     "output_type": "display_data"
    },
    {
     "data": {
      "text/markdown": [
       "**Page**: 92"
      ],
      "text/plain": [
       "<IPython.core.display.Markdown object>"
      ]
     },
     "metadata": {},
     "output_type": "display_data"
    },
    {
     "data": {
      "text/html": [
       "<font color=#1F618D>WARNING: completeness is not guaranteed</font>"
      ],
      "text/plain": [
       "<IPython.core.display.HTML object>"
      ]
     },
     "metadata": {},
     "output_type": "display_data"
    }
   ],
   "source": [
    "print_markdown(documentation.desc_variable('APPLN_NR'))"
   ]
  },
  {
   "cell_type": "markdown",
   "metadata": {},
   "source": [
    "Note: Ends with A, D, K, T or X to create \"dummy\" application numbers that are present because the number is mandatory but the actual number is not known.\n",
    "\n",
    "- A: data errors\n",
    "- D: dummy application; the publication number is put in front of the D\n",
    "- K: special type of older Brazilian application (number format 11nnnnnK )\n",
    "- T: dummy technical priority\n",
    "- X: dummy pre-1970 derived priority\n",
    "\n"
   ]
  },
  {
   "cell_type": "markdown",
   "metadata": {},
   "source": [
    "```python\n",
    "query = \"\"\"\n",
    "SELECT\n",
    "  #  year,\n",
    "  COUNT(*) AS nb_dummy,\n",
    "  CASE\n",
    "    WHEN SUBSTR(appln_nr, -1)=\"A\" THEN \"data errors\"\n",
    "    WHEN SUBSTR(appln_nr, -1)=\"D\" THEN \"dummy application\"\n",
    "    WHEN SUBSTR(appln_nr, -1)=\"T\" THEN \"technical priority\"\n",
    "    WHEN SUBSTR(appln_nr, -1)=\"X\" THEN \"pre-1970 derived priority\"\n",
    "    ELSE \"no dummy\"\n",
    "  END AS dummy\n",
    "FROM\n",
    "  raw.tls201_cp\n",
    "GROUP BY\n",
    "  #  year,\n",
    "  #  appln_auth,\n",
    "  dummy;\n",
    "  #ORDER BY\n",
    "  #  year;\n",
    "  #  appln_auth;\"\"\"\n",
    "# feel-free to uncomment to get year and appln_auth details\n",
    "client.query(query=query).to_dataframe().to_csv(views_path + '201_ApplnNR_byDummy.csv')\n",
    "```"
   ]
  },
  {
   "cell_type": "code",
   "execution_count": 20,
   "metadata": {},
   "outputs": [],
   "source": [
    "df = pd.read_csv(views_path + '201_ApplnNR_byDummy.csv', index_col=0)"
   ]
  },
  {
   "cell_type": "code",
   "execution_count": 21,
   "metadata": {},
   "outputs": [],
   "source": [
    "tmp = df.set_index('dummy')['nb_dummy'].sort_values(ascending=False)\n",
    "fig = bar_chart(tmp, title='ApplnNr by Dummy')\n",
    "pio.write_image(fig, plots_path + '201_ApplnNR_byDummy.png')"
   ]
  },
  {
   "cell_type": "markdown",
   "metadata": {},
   "source": [
    "## APPLN_KIND"
   ]
  },
  {
   "cell_type": "code",
   "execution_count": 22,
   "metadata": {},
   "outputs": [
    {
     "data": {
      "text/markdown": [
       "**Name**:  kind of application "
      ],
      "text/plain": [
       "<IPython.core.display.Markdown object>"
      ]
     },
     "metadata": {},
     "output_type": "display_data"
    },
    {
     "data": {
      "text/markdown": [
       "**Also known as**:  n/a "
      ],
      "text/plain": [
       "<IPython.core.display.Markdown object>"
      ]
     },
     "metadata": {},
     "output_type": "display_data"
    },
    {
     "data": {
      "text/markdown": [
       "**Description**:  specification of the kind of application "
      ],
      "text/plain": [
       "<IPython.core.display.Markdown object>"
      ]
     },
     "metadata": {},
     "output_type": "display_data"
    },
    {
     "data": {
      "text/markdown": [
       "**Domain**:  up to 2 ascii characters a,b,c,d,d2, d3, e,f,h,i,k,l,m,n,o,p,q,t,u,w and others\n",
       "a patent\n",
       " u utility model\n",
       "f design patent\n",
       "p provisional application\n",
       "w pct application (in the international phase)\n",
       "t used by some offices (e. g. at, de, dk, es, gr, hr, pl, pt, si, sm, tr)\n",
       " for applications which are \"translations\" of granted pct or ep applications\n",
       "d2, d3 artificial applications\n",
       "d,k,l,m,n dummy for de-duplicating\n",
       "other values are used temporarily to resolve minor problems that would otherwise have prevented the application to be recorded in docdb. see also section 4.4 \"application replenishment\".\n"
      ],
      "text/plain": [
       "<IPython.core.display.Markdown object>"
      ]
     },
     "metadata": {},
     "output_type": "display_data"
    },
    {
     "data": {
      "text/markdown": [
       "**Default value**:  n/a "
      ],
      "text/plain": [
       "<IPython.core.display.Markdown object>"
      ]
     },
     "metadata": {},
     "output_type": "display_data"
    },
    {
     "data": {
      "text/markdown": [
       "**Source database**:  docdb "
      ],
      "text/plain": [
       "<IPython.core.display.Markdown object>"
      ]
     },
     "metadata": {},
     "output_type": "display_data"
    },
    {
     "data": {
      "text/markdown": [
       "**Page**: 90"
      ],
      "text/plain": [
       "<IPython.core.display.Markdown object>"
      ]
     },
     "metadata": {},
     "output_type": "display_data"
    },
    {
     "data": {
      "text/html": [
       "<font color=#1F618D>WARNING: completeness is not guaranteed</font>"
      ],
      "text/plain": [
       "<IPython.core.display.HTML object>"
      ]
     },
     "metadata": {},
     "output_type": "display_data"
    }
   ],
   "source": [
    "print_markdown(documentation.desc_variable('APPLN_KIND'))"
   ]
  },
  {
   "cell_type": "markdown",
   "metadata": {},
   "source": [
    "Note:\n",
    "\n",
    "- A: patent\n",
    "- U: utility model\n",
    "- F: design patent\n",
    "- P: provisional application\n",
    "- W: PCT application (in the international phase)\n",
    "- T: used by some offices (e. g. AT, DE, DK, ES, GR, HR, PL, PT, SI, SM, TR) for applications which are \"translations\" of granted PCT or EP applications\n",
    "- D2, D3: artificial applications\n",
    "- D,K,L,M,N: dummy for de-duplicating\n",
    "- Other values are used temporarily to resolve minor problems that would otherwise have prevented the application to be recorded in DOCDB"
   ]
  },
  {
   "cell_type": "markdown",
   "metadata": {},
   "source": [
    "```python\n",
    "query = \"\"\"SELECT\n",
    "  year,\n",
    "  appln_auth,\n",
    "  count(*) AS nb_kind,\n",
    "  CASE\n",
    "    WHEN appln_kind=\"A \" THEN \"Patent\"\n",
    "    WHEN appln_kind=\"U \" THEN \"Utility model\"\n",
    "    WHEN appln_kind=\"F \" THEN \"Design patent\"\n",
    "    WHEN appln_kind=\"P \" THEN \"Provisional application\"\n",
    "    WHEN appln_kind=\"W \" THEN \"PCT application\"\n",
    "    WHEN appln_kind=\"T \" THEN \"Translation\"\n",
    "    WHEN appln_kind=\"D2\" OR appln_kind=\"D3\" THEN \"Translation\"\n",
    "    WHEN appln_kind=\"D \"\n",
    "  OR appln_kind=\"K \"\n",
    "  OR appln_kind=\"L \"\n",
    "  OR appln_kind=\"M \"\n",
    "  OR appln_kind=\"N \" THEN \"Dummy\"\n",
    "    ELSE \"Temp\"\n",
    "  END AS kind\n",
    "FROM\n",
    "  raw.tls201_cp\n",
    "GROUP BY\n",
    "  year,\n",
    "  appln_auth,\n",
    "  kind\n",
    "ORDER BY\n",
    "  year,\n",
    "  appln_auth,\n",
    "  kind;\"\"\"\n",
    "client.query(query).to_dataframe().to_csv(views_path+'201_ApplnKind_byYearAuth.csv')\n",
    "```"
   ]
  },
  {
   "cell_type": "code",
   "execution_count": 23,
   "metadata": {},
   "outputs": [],
   "source": [
    "df = pd.read_csv(views_path + '201_ApplnKind_byYearAuth.csv',\n",
    "                 index_col=0)\n"
   ]
  },
  {
   "cell_type": "code",
   "execution_count": 25,
   "metadata": {},
   "outputs": [],
   "source": [
    "# Overall ApplnKind\n",
    "tmp = df.groupby('kind').sum()['nb_kind'].sort_values(ascending=False)\n",
    "fig = bar_chart(tmp, title='Appln kind')\n",
    "pio.write_image(fig, plots_path + '201_ApplnKind.png')\n"
   ]
  },
  {
   "cell_type": "code",
   "execution_count": 26,
   "metadata": {},
   "outputs": [],
   "source": [
    "# ApplnKind by Year\n",
    "tmp = df.dropna().set_index('year')\n",
    "fig = stacked_bar_chart(tmp, 'kind', 'nb_kind', title='Appln kind by year')\n",
    "pio.write_image(fig, plots_path + '201_ApplnKind_byYear.png',\n",
    "                width=1200, height=800)\n"
   ]
  },
  {
   "cell_type": "markdown",
   "metadata": {},
   "source": [
    "<font color=#1F618D>PC: Could look by cnt as well.</font>"
   ]
  },
  {
   "cell_type": "markdown",
   "metadata": {},
   "source": [
    "## <font color=grey>APPLN_FILING_DATE</font>"
   ]
  },
  {
   "cell_type": "code",
   "execution_count": 27,
   "metadata": {},
   "outputs": [
    {
     "data": {
      "text/markdown": [
       "**Name**:  application filing date "
      ],
      "text/plain": [
       "<IPython.core.display.Markdown object>"
      ]
     },
     "metadata": {},
     "output_type": "display_data"
    },
    {
     "data": {
      "text/markdown": [
       "**Also known as**:  date of receipt "
      ],
      "text/plain": [
       "<IPython.core.display.Markdown object>"
      ]
     },
     "metadata": {},
     "output_type": "display_data"
    },
    {
     "data": {
      "text/markdown": [
       "**Description**:  date on which the application was physically received at the patent authority "
      ],
      "text/plain": [
       "<IPython.core.display.Markdown object>"
      ]
     },
     "metadata": {},
     "output_type": "display_data"
    },
    {
     "data": {
      "text/markdown": [
       "**Domain**:  date (up to 9999-12-31) "
      ],
      "text/plain": [
       "<IPython.core.display.Markdown object>"
      ]
     },
     "metadata": {},
     "output_type": "display_data"
    },
    {
     "data": {
      "text/markdown": [
       "**Default value**:  9999-12-31 "
      ],
      "text/plain": [
       "<IPython.core.display.Markdown object>"
      ]
     },
     "metadata": {},
     "output_type": "display_data"
    },
    {
     "data": {
      "text/markdown": [
       "**Source database**:  docdb\n"
      ],
      "text/plain": [
       "<IPython.core.display.Markdown object>"
      ]
     },
     "metadata": {},
     "output_type": "display_data"
    },
    {
     "data": {
      "text/markdown": [
       "**Page**: 85"
      ],
      "text/plain": [
       "<IPython.core.display.Markdown object>"
      ]
     },
     "metadata": {},
     "output_type": "display_data"
    },
    {
     "data": {
      "text/html": [
       "<font color=#1F618D>WARNING: completeness is not guaranteed</font>"
      ],
      "text/plain": [
       "<IPython.core.display.HTML object>"
      ]
     },
     "metadata": {},
     "output_type": "display_data"
    }
   ],
   "source": [
    "print_markdown(documentation.desc_variable('APPLN_FILING_DATE'))"
   ]
  },
  {
   "cell_type": "markdown",
   "metadata": {},
   "source": [
    "##  APPLN_FILING_YEAR"
   ]
  },
  {
   "cell_type": "code",
   "execution_count": 28,
   "metadata": {},
   "outputs": [
    {
     "data": {
      "text/markdown": [
       "**Name**:  year of the application filing date\n"
      ],
      "text/plain": [
       "<IPython.core.display.Markdown object>"
      ]
     },
     "metadata": {},
     "output_type": "display_data"
    },
    {
     "data": {
      "text/markdown": [
       "**Also known as**:  n/a "
      ],
      "text/plain": [
       "<IPython.core.display.Markdown object>"
      ]
     },
     "metadata": {},
     "output_type": "display_data"
    },
    {
     "data": {
      "text/markdown": [
       "**Description**: \n"
      ],
      "text/plain": [
       "<IPython.core.display.Markdown object>"
      ]
     },
     "metadata": {},
     "output_type": "display_data"
    },
    {
     "data": {
      "text/markdown": [
       "**Domain**:  4 digits in the form yyyy (e. g. 2015) "
      ],
      "text/plain": [
       "<IPython.core.display.Markdown object>"
      ]
     },
     "metadata": {},
     "output_type": "display_data"
    },
    {
     "data": {
      "text/markdown": [
       "**Default value**:  n/a "
      ],
      "text/plain": [
       "<IPython.core.display.Markdown object>"
      ]
     },
     "metadata": {},
     "output_type": "display_data"
    },
    {
     "data": {
      "text/markdown": [
       "**Source database**:  patstat "
      ],
      "text/plain": [
       "<IPython.core.display.Markdown object>"
      ]
     },
     "metadata": {},
     "output_type": "display_data"
    },
    {
     "data": {
      "text/markdown": [
       "**Source field name**:  derived from attribute appln_filing_date of table tls201_appln computed as\n",
       " format(appln_filing_date, 'yyyy')\n",
       "source sub-field identifier n/a "
      ],
      "text/plain": [
       "<IPython.core.display.Markdown object>"
      ]
     },
     "metadata": {},
     "output_type": "display_data"
    },
    {
     "data": {
      "text/markdown": [
       "**Comments**:  n/a\n"
      ],
      "text/plain": [
       "<IPython.core.display.Markdown object>"
      ]
     },
     "metadata": {},
     "output_type": "display_data"
    },
    {
     "data": {
      "text/markdown": [
       "**Page**: 87"
      ],
      "text/plain": [
       "<IPython.core.display.Markdown object>"
      ]
     },
     "metadata": {},
     "output_type": "display_data"
    },
    {
     "data": {
      "text/html": [
       "<font color=#1F618D>WARNING: completeness is not guaranteed</font>"
      ],
      "text/plain": [
       "<IPython.core.display.HTML object>"
      ]
     },
     "metadata": {},
     "output_type": "display_data"
    }
   ],
   "source": [
    "print_markdown(documentation.desc_variable('APPLN_FILING_YEAR'))"
   ]
  },
  {
   "cell_type": "markdown",
   "metadata": {},
   "source": [
    "<font color=#1F618D>PC: Partitioning is derived from the `APPLN_FILING_YEAR`. Many prior queries can help us retrieve the distribution of patents per year at 0 cost.</font>"
   ]
  },
  {
   "cell_type": "code",
   "execution_count": 29,
   "metadata": {},
   "outputs": [],
   "source": [
    "df = pd.read_csv(views_path + '/201_ApplnAuth_byYear.csv', index_col=0)"
   ]
  },
  {
   "cell_type": "code",
   "execution_count": 30,
   "metadata": {},
   "outputs": [],
   "source": [
    "tmp = df.groupby('year').sum()['nb_patents']\n",
    "fig = bar_chart(tmp, title='Appln filing by Year')\n",
    "pio.write_image(fig, plots_path + '201_ApplnFilingYear_byYear.png',\n",
    "               width=1200, height=800)"
   ]
  },
  {
   "cell_type": "markdown",
   "metadata": {},
   "source": [
    "## <font color=grey>APPLN_NR_EPODOC</font>"
   ]
  },
  {
   "cell_type": "code",
   "execution_count": 31,
   "metadata": {},
   "outputs": [
    {
     "data": {
      "text/markdown": [
       "**Name**:  application number in epodoc format "
      ],
      "text/plain": [
       "<IPython.core.display.Markdown object>"
      ]
     },
     "metadata": {},
     "output_type": "display_data"
    },
    {
     "data": {
      "text/markdown": [
       "**Also known as**:  epodoc application number "
      ],
      "text/plain": [
       "<IPython.core.display.Markdown object>"
      ]
     },
     "metadata": {},
     "output_type": "display_data"
    },
    {
     "data": {
      "text/markdown": [
       "**Description**:  number in epodoc format (containing letters and digits) which, if present - will uniquely identify an application. the number is created by the epo based on the docdb application number, application authority and application kind. "
      ],
      "text/plain": [
       "<IPython.core.display.Markdown object>"
      ]
     },
     "metadata": {},
     "output_type": "display_data"
    },
    {
     "data": {
      "text/markdown": [
       "**Domain**:  up to 20 ascii characters (typically, 13 - 14 characters)\n",
       "explanation of the format, according to annex xi of the \"exchange format\" document of docdb, version 2.4.3 from 01.01.2013 basic structure of application and priority-numbers in data-format=\"epodoc\" is\n",
       "country\n",
       "number\n",
       "ccyy - century/year derived from application- or priority-date\n",
       "nnnnnnn - serial number, leading zeroes when required\n",
       "kind-code, when kind-code not = 'a'\n",
       "extended structure for a number of countries\n",
       "country [ \"wo\" when kind-code in data-format=\"docdb\" is \"w\" ]\n",
       "number\n",
       "ccyy  century/year derived from application- or priority-date\n",
       "xx  \"other data\"\n",
       "nnnnn  serial number, leading zeroes when required\n",
       "kind-code, when kind-code not = 'a'\n",
       "\"other data\" may be\n",
       "regional office, e.g. 'mi' when country = 'it' and regional office = milan\n",
       "filing country, e.g. 'us' when country = 'wo' and filing country = us\n",
       "...\n",
       "length of the concatenated string is generally fixed at 13 characters or 14 when the kind-code is appended. strings exceeding a total of 13 or 14 may occur, when the number of significant digits exceeds the number of digits reserved for the serial number, e.g. de.\n",
       "a special format applies to numbers that in data-format=\"docdb\" have been suffixed with letters 'd' or 't' or\n",
       " country\n",
       "'d' or 't' or 'x'\n",
       "number\n",
       "kind-code, when kind-code not = 'a' "
      ],
      "text/plain": [
       "<IPython.core.display.Markdown object>"
      ]
     },
     "metadata": {},
     "output_type": "display_data"
    },
    {
     "data": {
      "text/markdown": [
       "**Default value**:  empty (if not provided by docdb due to formatting issues) "
      ],
      "text/plain": [
       "<IPython.core.display.Markdown object>"
      ]
     },
     "metadata": {},
     "output_type": "display_data"
    },
    {
     "data": {
      "text/markdown": [
       "**Source database**:  docdb\n"
      ],
      "text/plain": [
       "<IPython.core.display.Markdown object>"
      ]
     },
     "metadata": {},
     "output_type": "display_data"
    },
    {
     "data": {
      "text/markdown": [
       "**Page**: 94"
      ],
      "text/plain": [
       "<IPython.core.display.Markdown object>"
      ]
     },
     "metadata": {},
     "output_type": "display_data"
    },
    {
     "data": {
      "text/html": [
       "<font color=#1F618D>WARNING: completeness is not guaranteed</font>"
      ],
      "text/plain": [
       "<IPython.core.display.HTML object>"
      ]
     },
     "metadata": {},
     "output_type": "display_data"
    }
   ],
   "source": [
    "print_markdown(documentation.desc_variable('APPLN_NR_EPODOC'))"
   ]
  },
  {
   "cell_type": "markdown",
   "metadata": {},
   "source": [
    "<font color=#1F618D>PC: can be used to retrieve other variables (see p 96)</font>"
   ]
  },
  {
   "cell_type": "markdown",
   "metadata": {},
   "source": [
    "## <font color=grey>APPLN_NR_ORIGINAL<font>"
   ]
  },
  {
   "cell_type": "code",
   "execution_count": 32,
   "metadata": {},
   "outputs": [
    {
     "data": {
      "text/markdown": [
       "**Name**:  application number in original format "
      ],
      "text/plain": [
       "<IPython.core.display.Markdown object>"
      ]
     },
     "metadata": {},
     "output_type": "display_data"
    },
    {
     "data": {
      "text/markdown": [
       "**Also known as**:  original application number "
      ],
      "text/plain": [
       "<IPython.core.display.Markdown object>"
      ]
     },
     "metadata": {},
     "output_type": "display_data"
    },
    {
     "data": {
      "text/markdown": [
       "**Description**:  application number in original format as provided by the supplier. it is assumed that the number is as printed on the respective publications.\n",
       "typically these numbers do not contain the country code. in about 10% of the applications no original application number is known.\n"
      ],
      "text/plain": [
       "<IPython.core.display.Markdown object>"
      ]
     },
     "metadata": {},
     "output_type": "display_data"
    },
    {
     "data": {
      "text/markdown": [
       "**Domain**:  up to 100 characters\n"
      ],
      "text/plain": [
       "<IPython.core.display.Markdown object>"
      ]
     },
     "metadata": {},
     "output_type": "display_data"
    },
    {
     "data": {
      "text/markdown": [
       "**Default value**:  empty "
      ],
      "text/plain": [
       "<IPython.core.display.Markdown object>"
      ]
     },
     "metadata": {},
     "output_type": "display_data"
    },
    {
     "data": {
      "text/markdown": [
       "**Source database**:  docdb\n"
      ],
      "text/plain": [
       "<IPython.core.display.Markdown object>"
      ]
     },
     "metadata": {},
     "output_type": "display_data"
    },
    {
     "data": {
      "text/markdown": [
       "**Source field name**: \n",
       "1) source for the standard (= non-artificial) applications <exchapplication-reference data-format=\"original\">\n",
       "<document-id>\n",
       " <doc-number>11137814</doc-number>\n",
       "</document-id> </exchapplication-reference>\n",
       "if docdb does not provide an original application number in any of the publications of an application, then appln_nr_original will contain an empty string.\n",
       "if docdb provides multiple conflicting original application numbers for the same application, then only one (= any of the conflicting) original application numbers should be stored. (note this is supposed to not happen, but may still occur due to data errors)\n",
       "ep publications published after 2013-03-13, the application number is published in docdb with a check digit, i.e. 04801606.7. for sake of consistency with previous original application numbers, the check digit is removed in patstat.\n",
       " 2) for all artificial applications the attribute appln_nr_original will contain an empty string.\n",
       "source sub-field identifier data-format=\"original\" source codes n/a "
      ],
      "text/plain": [
       "<IPython.core.display.Markdown object>"
      ]
     },
     "metadata": {},
     "output_type": "display_data"
    },
    {
     "data": {
      "text/markdown": [
       "**Comments**:  this attribute is useful to combine application data of patstat with other databases which also contains the original application number. the original application number is not necessarily unique within the same appln_auth and the same appln_kind (e.g. for patents and utility models). for example, the offices of us, jp, fr, ch, cs, it, su seem to have re-used their application numbers at least in some periods of time.\n"
      ],
      "text/plain": [
       "<IPython.core.display.Markdown object>"
      ]
     },
     "metadata": {},
     "output_type": "display_data"
    },
    {
     "data": {
      "text/markdown": [
       "**Page**: 96"
      ],
      "text/plain": [
       "<IPython.core.display.Markdown object>"
      ]
     },
     "metadata": {},
     "output_type": "display_data"
    },
    {
     "data": {
      "text/html": [
       "<font color=#1F618D>WARNING: completeness is not guaranteed</font>"
      ],
      "text/plain": [
       "<IPython.core.display.HTML object>"
      ]
     },
     "metadata": {},
     "output_type": "display_data"
    }
   ],
   "source": [
    "print_markdown(documentation.desc_variable('APPLN_NR_ORIGINAL'))"
   ]
  },
  {
   "cell_type": "markdown",
   "metadata": {},
   "source": [
    "Note: Typically these numbers do not contain the country code. In about 10% of the applications no original application number is known.\n",
    "\n",
    "Comment: This attribute is useful to combine application data of PATSTAT with other databases which also contains the original application number."
   ]
  },
  {
   "cell_type": "markdown",
   "metadata": {},
   "source": [
    "## IPR_TYPE"
   ]
  },
  {
   "cell_type": "code",
   "execution_count": 33,
   "metadata": {},
   "outputs": [
    {
     "data": {
      "text/markdown": [
       "**Name**:  type of intellectual property right "
      ],
      "text/plain": [
       "<IPython.core.display.Markdown object>"
      ]
     },
     "metadata": {},
     "output_type": "display_data"
    },
    {
     "data": {
      "text/markdown": [
       "**Also known as**:  n/a "
      ],
      "text/plain": [
       "<IPython.core.display.Markdown object>"
      ]
     },
     "metadata": {},
     "output_type": "display_data"
    },
    {
     "data": {
      "text/markdown": [
       "**Description**:  type of intellectual property right "
      ],
      "text/plain": [
       "<IPython.core.display.Markdown object>"
      ]
     },
     "metadata": {},
     "output_type": "display_data"
    },
    {
     "data": {
      "text/markdown": [
       "**Domain**:  2 ascii characters pi, um, dp;\n",
       "pi - patent of invention um - utility model dp - design patent "
      ],
      "text/plain": [
       "<IPython.core.display.Markdown object>"
      ]
     },
     "metadata": {},
     "output_type": "display_data"
    },
    {
     "data": {
      "text/markdown": [
       "**Default value**:  n/a "
      ],
      "text/plain": [
       "<IPython.core.display.Markdown object>"
      ]
     },
     "metadata": {},
     "output_type": "display_data"
    },
    {
     "data": {
      "text/markdown": [
       "**Source database**:  patstat "
      ],
      "text/plain": [
       "<IPython.core.display.Markdown object>"
      ]
     },
     "metadata": {},
     "output_type": "display_data"
    },
    {
     "data": {
      "text/markdown": [
       "**Source field name**:  appln_auth, appln_kind, publn_kind source sub-field identifier n/a source codes if , or (appln_auth = 'fr' and appl_kind = 'a' and at least one related publications has a publn_kind = 'a3' or 'a4' or 'a7' or a8') then ipr_type = 'um' for utility model else if appln_kind = 'f ' and appln_auth is not 'fr' then ipr_type = 'dp' for design patent. for all other values of appln_kind, set ipr_type to 'pi' for patent of invention. note that in america, a patent of invention is known as a utility patent. this rule applies to all instances of appln_kind, whether it is derived from application-reference or a priority-reference.\n"
      ],
      "text/plain": [
       "<IPython.core.display.Markdown object>"
      ]
     },
     "metadata": {},
     "output_type": "display_data"
    },
    {
     "data": {
      "text/markdown": [
       "**Comments**:  the rule to compute utility models and design patents does cover all major, but not necessarily all cases. the rule may be improved in the future. "
      ],
      "text/plain": [
       "<IPython.core.display.Markdown object>"
      ]
     },
     "metadata": {},
     "output_type": "display_data"
    },
    {
     "data": {
      "text/markdown": [
       "**Page**: 169"
      ],
      "text/plain": [
       "<IPython.core.display.Markdown object>"
      ]
     },
     "metadata": {},
     "output_type": "display_data"
    },
    {
     "data": {
      "text/html": [
       "<font color=#1F618D>WARNING: completeness is not guaranteed</font>"
      ],
      "text/plain": [
       "<IPython.core.display.HTML object>"
      ]
     },
     "metadata": {},
     "output_type": "display_data"
    }
   ],
   "source": [
    "print_markdown(documentation.desc_variable('IPR_TYPE'))"
   ]
  },
  {
   "cell_type": "markdown",
   "metadata": {},
   "source": [
    "Note: Derived from `APPLN_KIND` (see p 169)\n",
    "    \n",
    "- PI: Patent of innovation \n",
    "- UM: Utility Model\n",
    "- DP: Design Patent"
   ]
  },
  {
   "cell_type": "markdown",
   "metadata": {},
   "source": [
    "<font color='orange'>*TODO*</font>: \n",
    "\n",
    "- Query by year, auth and ipr_type only.\n",
    "- Clean code"
   ]
  },
  {
   "cell_type": "code",
   "execution_count": 35,
   "metadata": {},
   "outputs": [],
   "source": [
    "df_ipr = pd.read_csv(views_path + '/ipr_yr_auth.csv', index_col=0)"
   ]
  },
  {
   "cell_type": "code",
   "execution_count": 36,
   "metadata": {},
   "outputs": [
    {
     "data": {
      "text/html": [
       "<div>\n",
       "<style scoped>\n",
       "    .dataframe tbody tr th:only-of-type {\n",
       "        vertical-align: middle;\n",
       "    }\n",
       "\n",
       "    .dataframe tbody tr th {\n",
       "        vertical-align: top;\n",
       "    }\n",
       "\n",
       "    .dataframe thead th {\n",
       "        text-align: right;\n",
       "    }\n",
       "</style>\n",
       "<table border=\"1\" class=\"dataframe\">\n",
       "  <thead>\n",
       "    <tr style=\"text-align: right;\">\n",
       "      <th></th>\n",
       "      <th>ipr_type</th>\n",
       "      <th>date</th>\n",
       "      <th>appln_auth</th>\n",
       "      <th>nb_ipr</th>\n",
       "    </tr>\n",
       "  </thead>\n",
       "  <tbody>\n",
       "    <tr>\n",
       "      <th>3524</th>\n",
       "      <td>UM</td>\n",
       "      <td>2015.0</td>\n",
       "      <td>FR</td>\n",
       "      <td>87</td>\n",
       "    </tr>\n",
       "    <tr>\n",
       "      <th>3525</th>\n",
       "      <td>PI</td>\n",
       "      <td>2015.0</td>\n",
       "      <td>FR</td>\n",
       "      <td>2292</td>\n",
       "    </tr>\n",
       "    <tr>\n",
       "      <th>3526</th>\n",
       "      <td>UM</td>\n",
       "      <td>2014.0</td>\n",
       "      <td>FR</td>\n",
       "      <td>297</td>\n",
       "    </tr>\n",
       "    <tr>\n",
       "      <th>3527</th>\n",
       "      <td>PI</td>\n",
       "      <td>2014.0</td>\n",
       "      <td>FR</td>\n",
       "      <td>12236</td>\n",
       "    </tr>\n",
       "    <tr>\n",
       "      <th>3528</th>\n",
       "      <td>UM</td>\n",
       "      <td>2013.0</td>\n",
       "      <td>FR</td>\n",
       "      <td>486</td>\n",
       "    </tr>\n",
       "  </tbody>\n",
       "</table>\n",
       "</div>"
      ],
      "text/plain": [
       "     ipr_type    date appln_auth  nb_ipr\n",
       "3524       UM  2015.0         FR      87\n",
       "3525       PI  2015.0         FR    2292\n",
       "3526       UM  2014.0         FR     297\n",
       "3527       PI  2014.0         FR   12236\n",
       "3528       UM  2013.0         FR     486"
      ]
     },
     "execution_count": 36,
     "metadata": {},
     "output_type": "execute_result"
    }
   ],
   "source": [
    "df_ipr.query('appln_auth ==\"FR\"').head()"
   ]
  },
  {
   "cell_type": "code",
   "execution_count": 37,
   "metadata": {},
   "outputs": [],
   "source": [
    "def plot_ipr_type(df: pd.DataFrame, cnt: str, path: str = None):\n",
    "    tmp = df_ipr.query('appln_auth == @cnt').dropna()\n",
    "    try:\n",
    "        cnt_name = pycountry.countries.get(alpha_2=cnt).name\n",
    "    except:\n",
    "        cnt_name = cnt_a2_name[cnt]\n",
    "    data = []\n",
    "    i = 0\n",
    "    for ipr in tmp.groupby('ipr_type').sum()[\"nb_ipr\"].sort_values(\n",
    "            ascending=False).index.unique():\n",
    "        data += [\n",
    "            go.Bar(\n",
    "                x=tmp.query('ipr_type == @ipr')[\"date\"].values,\n",
    "                y=tmp.query('ipr_type == @ipr')[\"nb_ipr\"].values,\n",
    "                name=ipr,\n",
    "                marker=dict(color=cl.flipper()['seq']['3']['Reds'][i], ))\n",
    "        ]\n",
    "        i += 1\n",
    "    layout = go.Layout(\n",
    "        barmode='stack',\n",
    "        title='Composition of patent applications in {}'.format(cnt_name))\n",
    "    fig = go.Figure(data=data, layout=layout)\n",
    "    pio.write_image(fig, path + '/{}_ts_patents.png'.format(cnt))\n",
    "    #py.iplot(fig, filename='stacked-bar', )"
   ]
  },
  {
   "cell_type": "raw",
   "metadata": {},
   "source": [
    "no_match = []\n",
    "for cnt in df_ipr.appln_auth.unique():\n",
    "    if df_pat_yrcnt.query(\n",
    "            'appln_auth == @cnt')['nb_patents'].dropna().sum() > 1e5:\n",
    "        try:\n",
    "            plot_ipr_type(df_ipr, cnt, plots_path + 'ipr_type/')\n",
    "        except:\n",
    "            no_match += [cnt]\n",
    "    else:\n",
    "        pass"
   ]
  },
  {
   "cell_type": "markdown",
   "metadata": {},
   "source": [
    "## <font color=grey>INTERNAT_APPLN_ID</font>"
   ]
  },
  {
   "cell_type": "code",
   "execution_count": 39,
   "metadata": {},
   "outputs": [
    {
     "data": {
      "text/markdown": [
       "**Name**:  application identification of the earlier pct international application for an application. "
      ],
      "text/plain": [
       "<IPython.core.display.Markdown object>"
      ]
     },
     "metadata": {},
     "output_type": "display_data"
    },
    {
     "data": {
      "text/markdown": [
       "**Also known as**:  n/a "
      ],
      "text/plain": [
       "<IPython.core.display.Markdown object>"
      ]
     },
     "metadata": {},
     "output_type": "display_data"
    },
    {
     "data": {
      "text/markdown": [
       "**Description**:  technical unique identifier without any business meaning\n"
      ],
      "text/plain": [
       "<IPython.core.display.Markdown object>"
      ]
     },
     "metadata": {},
     "output_type": "display_data"
    },
    {
     "data": {
      "text/markdown": [
       "**Domain**:  9 999 999 "
      ],
      "text/plain": [
       "<IPython.core.display.Markdown object>"
      ]
     },
     "metadata": {},
     "output_type": "display_data"
    },
    {
     "data": {
      "text/markdown": [
       "**Default value**:  0 "
      ],
      "text/plain": [
       "<IPython.core.display.Markdown object>"
      ]
     },
     "metadata": {},
     "output_type": "display_data"
    },
    {
     "data": {
      "text/markdown": [
       "**Source database**:  docdb, patstat "
      ],
      "text/plain": [
       "<IPython.core.display.Markdown object>"
      ]
     },
     "metadata": {},
     "output_type": "display_data"
    },
    {
     "data": {
      "text/markdown": [
       "**Page**: 156"
      ],
      "text/plain": [
       "<IPython.core.display.Markdown object>"
      ]
     },
     "metadata": {},
     "output_type": "display_data"
    },
    {
     "data": {
      "text/html": [
       "<font color=#1F618D>WARNING: completeness is not guaranteed</font>"
      ],
      "text/plain": [
       "<IPython.core.display.HTML object>"
      ]
     },
     "metadata": {},
     "output_type": "display_data"
    }
   ],
   "source": [
    "print_markdown(documentation.desc_variable('INTERNAT_APPLN_ID'))"
   ]
  },
  {
   "cell_type": "markdown",
   "metadata": {},
   "source": [
    "# Route of the application"
   ]
  },
  {
   "cell_type": "markdown",
   "metadata": {},
   "source": [
    "<font color=orange>*TODO*</font>: \n",
    "\n",
    "- Summarize : http://www.wipo.int/pct/en/guide/ip03.html#_chapt3 and p 155 (5.07)\n",
    "- Funnel chart ? From national to international even if the route goes the other way round. Still don't know what to do with that info.\n"
   ]
  },
  {
   "cell_type": "markdown",
   "metadata": {},
   "source": [
    "```python\n",
    "query=\"\"\"SELECT\n",
    "  year,\n",
    "  appln_auth,\n",
    "  int_phase,\n",
    "  reg_phase,\n",
    "  nat_phase,\n",
    "  COUNT(*) AS nb_phase\n",
    "FROM\n",
    "  raw.tls201_cp\n",
    "GROUP BY\n",
    "  year,\n",
    "  appln_auth,\n",
    "  int_phase,\n",
    "  reg_phase,\n",
    "  nat_phase\n",
    "ORDER BY\n",
    "  year,\n",
    "  appln_auth;\"\"\"\n",
    "\n",
    "client.query(query).to_dataframe().to_csv(views_path + '201_Phases.csv')\n",
    "```"
   ]
  },
  {
   "cell_type": "code",
   "execution_count": 40,
   "metadata": {},
   "outputs": [],
   "source": [
    "df = pd.read_csv(views_path + '201_Phases.csv', index_col=0)"
   ]
  },
  {
   "cell_type": "code",
   "execution_count": 41,
   "metadata": {},
   "outputs": [
    {
     "data": {
      "text/html": [
       "<div>\n",
       "<style scoped>\n",
       "    .dataframe tbody tr th:only-of-type {\n",
       "        vertical-align: middle;\n",
       "    }\n",
       "\n",
       "    .dataframe tbody tr th {\n",
       "        vertical-align: top;\n",
       "    }\n",
       "\n",
       "    .dataframe thead th {\n",
       "        text-align: right;\n",
       "    }\n",
       "</style>\n",
       "<table border=\"1\" class=\"dataframe\">\n",
       "  <thead>\n",
       "    <tr style=\"text-align: right;\">\n",
       "      <th></th>\n",
       "      <th></th>\n",
       "      <th></th>\n",
       "      <th>nb_phase</th>\n",
       "    </tr>\n",
       "    <tr>\n",
       "      <th>int_phase</th>\n",
       "      <th>reg_phase</th>\n",
       "      <th>nat_phase</th>\n",
       "      <th></th>\n",
       "    </tr>\n",
       "  </thead>\n",
       "  <tbody>\n",
       "    <tr>\n",
       "      <th rowspan=\"4\" valign=\"top\">False</th>\n",
       "      <th rowspan=\"2\" valign=\"top\">False</th>\n",
       "      <th>False</th>\n",
       "      <td>5626</td>\n",
       "    </tr>\n",
       "    <tr>\n",
       "      <th>True</th>\n",
       "      <td>72110968</td>\n",
       "    </tr>\n",
       "    <tr>\n",
       "      <th rowspan=\"2\" valign=\"top\">True</th>\n",
       "      <th>False</th>\n",
       "      <td>1765314</td>\n",
       "    </tr>\n",
       "    <tr>\n",
       "      <th>True</th>\n",
       "      <td>1853271</td>\n",
       "    </tr>\n",
       "    <tr>\n",
       "      <th rowspan=\"4\" valign=\"top\">True</th>\n",
       "      <th rowspan=\"2\" valign=\"top\">False</th>\n",
       "      <th>False</th>\n",
       "      <td>2798628</td>\n",
       "    </tr>\n",
       "    <tr>\n",
       "      <th>True</th>\n",
       "      <td>4971398</td>\n",
       "    </tr>\n",
       "    <tr>\n",
       "      <th rowspan=\"2\" valign=\"top\">True</th>\n",
       "      <th>False</th>\n",
       "      <td>1399161</td>\n",
       "    </tr>\n",
       "    <tr>\n",
       "      <th>True</th>\n",
       "      <td>877567</td>\n",
       "    </tr>\n",
       "  </tbody>\n",
       "</table>\n",
       "</div>"
      ],
      "text/plain": [
       "                               nb_phase\n",
       "int_phase reg_phase nat_phase          \n",
       "False     False     False          5626\n",
       "                    True       72110968\n",
       "          True      False       1765314\n",
       "                    True        1853271\n",
       "True      False     False       2798628\n",
       "                    True        4971398\n",
       "          True      False       1399161\n",
       "                    True         877567"
      ]
     },
     "execution_count": 41,
     "metadata": {},
     "output_type": "execute_result"
    }
   ],
   "source": [
    "df.groupby(['int_phase', 'reg_phase', 'nat_phase']).sum()['nb_phase'].to_frame()"
   ]
  },
  {
   "cell_type": "code",
   "execution_count": 47,
   "metadata": {},
   "outputs": [
    {
     "data": {
      "text/html": [
       "<div>\n",
       "<style scoped>\n",
       "    .dataframe tbody tr th:only-of-type {\n",
       "        vertical-align: middle;\n",
       "    }\n",
       "\n",
       "    .dataframe tbody tr th {\n",
       "        vertical-align: top;\n",
       "    }\n",
       "\n",
       "    .dataframe thead th {\n",
       "        text-align: right;\n",
       "    }\n",
       "</style>\n",
       "<table border=\"1\" class=\"dataframe\">\n",
       "  <thead>\n",
       "    <tr style=\"text-align: right;\">\n",
       "      <th></th>\n",
       "      <th>nb_phase</th>\n",
       "    </tr>\n",
       "    <tr>\n",
       "      <th>int_phase</th>\n",
       "      <th></th>\n",
       "    </tr>\n",
       "  </thead>\n",
       "  <tbody>\n",
       "    <tr>\n",
       "      <th>False</th>\n",
       "      <td>75740125</td>\n",
       "    </tr>\n",
       "    <tr>\n",
       "      <th>True</th>\n",
       "      <td>10050063</td>\n",
       "    </tr>\n",
       "  </tbody>\n",
       "</table>\n",
       "</div>"
      ],
      "text/plain": [
       "           nb_phase\n",
       "int_phase          \n",
       "False      75740125\n",
       "True       10050063"
      ]
     },
     "execution_count": 47,
     "metadata": {},
     "output_type": "execute_result"
    }
   ],
   "source": [
    "df.groupby(['int_phase']).sum()['nb_phase'].to_frame()"
   ]
  },
  {
   "cell_type": "code",
   "execution_count": 49,
   "metadata": {},
   "outputs": [
    {
     "data": {
      "text/html": [
       "<div>\n",
       "<style scoped>\n",
       "    .dataframe tbody tr th:only-of-type {\n",
       "        vertical-align: middle;\n",
       "    }\n",
       "\n",
       "    .dataframe tbody tr th {\n",
       "        vertical-align: top;\n",
       "    }\n",
       "\n",
       "    .dataframe thead th {\n",
       "        text-align: right;\n",
       "    }\n",
       "</style>\n",
       "<table border=\"1\" class=\"dataframe\">\n",
       "  <thead>\n",
       "    <tr style=\"text-align: right;\">\n",
       "      <th></th>\n",
       "      <th>int_phase</th>\n",
       "      <th>nb_phase</th>\n",
       "    </tr>\n",
       "    <tr>\n",
       "      <th>reg_phase</th>\n",
       "      <th></th>\n",
       "      <th></th>\n",
       "    </tr>\n",
       "  </thead>\n",
       "  <tbody>\n",
       "    <tr>\n",
       "      <th>False</th>\n",
       "      <td>3963.0</td>\n",
       "      <td>79888810</td>\n",
       "    </tr>\n",
       "    <tr>\n",
       "      <th>True</th>\n",
       "      <td>320.0</td>\n",
       "      <td>5895313</td>\n",
       "    </tr>\n",
       "  </tbody>\n",
       "</table>\n",
       "</div>"
      ],
      "text/plain": [
       "           int_phase  nb_phase\n",
       "reg_phase                     \n",
       "False         3963.0  79888810\n",
       "True           320.0   5895313"
      ]
     },
     "execution_count": 49,
     "metadata": {},
     "output_type": "execute_result"
    }
   ],
   "source": [
    "df.groupby(['reg_phase']).sum()[['int_phase', 'nb_phase']]"
   ]
  },
  {
   "cell_type": "code",
   "execution_count": 50,
   "metadata": {},
   "outputs": [
    {
     "data": {
      "text/html": [
       "<div>\n",
       "<style scoped>\n",
       "    .dataframe tbody tr th:only-of-type {\n",
       "        vertical-align: middle;\n",
       "    }\n",
       "\n",
       "    .dataframe tbody tr th {\n",
       "        vertical-align: top;\n",
       "    }\n",
       "\n",
       "    .dataframe thead th {\n",
       "        text-align: right;\n",
       "    }\n",
       "</style>\n",
       "<table border=\"1\" class=\"dataframe\">\n",
       "  <thead>\n",
       "    <tr style=\"text-align: right;\">\n",
       "      <th></th>\n",
       "      <th>int_phase</th>\n",
       "      <th>nb_phase</th>\n",
       "    </tr>\n",
       "    <tr>\n",
       "      <th>nat_phase</th>\n",
       "      <th></th>\n",
       "      <th></th>\n",
       "    </tr>\n",
       "  </thead>\n",
       "  <tbody>\n",
       "    <tr>\n",
       "      <th>False</th>\n",
       "      <td>2076.0</td>\n",
       "      <td>5968729</td>\n",
       "    </tr>\n",
       "    <tr>\n",
       "      <th>True</th>\n",
       "      <td>2254.0</td>\n",
       "      <td>79819269</td>\n",
       "    </tr>\n",
       "  </tbody>\n",
       "</table>\n",
       "</div>"
      ],
      "text/plain": [
       "           int_phase  nb_phase\n",
       "nat_phase                     \n",
       "False         2076.0   5968729\n",
       "True          2254.0  79819269"
      ]
     },
     "execution_count": 50,
     "metadata": {},
     "output_type": "execute_result"
    }
   ],
   "source": [
    "df.groupby(['nat_phase']).sum()[['int_phase', 'nb_phase']]"
   ]
  },
  {
   "cell_type": "markdown",
   "metadata": {},
   "source": [
    "### INT_PHASE"
   ]
  },
  {
   "cell_type": "code",
   "execution_count": 51,
   "metadata": {},
   "outputs": [
    {
     "data": {
      "text/markdown": [
       "**Name**:  indicator whether the application is or has been in the international phase "
      ],
      "text/plain": [
       "<IPython.core.display.Markdown object>"
      ]
     },
     "metadata": {},
     "output_type": "display_data"
    },
    {
     "data": {
      "text/markdown": [
       "**Also known as**:  n/a "
      ],
      "text/plain": [
       "<IPython.core.display.Markdown object>"
      ]
     },
     "metadata": {},
     "output_type": "display_data"
    },
    {
     "data": {
      "text/markdown": [
       "**Description**:  indicates that an application is or has been in the international phase.\n",
       "this covers all international filings at the receiving office as well as all applications based on these filings. "
      ],
      "text/plain": [
       "<IPython.core.display.Markdown object>"
      ]
     },
     "metadata": {},
     "output_type": "display_data"
    },
    {
     "data": {
      "text/markdown": [
       "**Domain**:  1 ascii character y\n",
       "yes n\n",
       "no space not known\n",
       " (in case of uncertain interpretations; used very little or not at all) "
      ],
      "text/plain": [
       "<IPython.core.display.Markdown object>"
      ]
     },
     "metadata": {},
     "output_type": "display_data"
    },
    {
     "data": {
      "text/markdown": [
       "**Default value**:  n "
      ],
      "text/plain": [
       "<IPython.core.display.Markdown object>"
      ]
     },
     "metadata": {},
     "output_type": "display_data"
    },
    {
     "data": {
      "text/markdown": [
       "**Source database**:  patstat "
      ],
      "text/plain": [
       "<IPython.core.display.Markdown object>"
      ]
     },
     "metadata": {},
     "output_type": "display_data"
    },
    {
     "data": {
      "text/markdown": [
       "**Source field name**:  derived from table tls201_appln\n",
       "y\n",
       "if the application has appln_kind = w\n",
       " (i.e. international filing)\n",
       " or internat_appln_id > 0; (i.e. based on internat. application) n\n",
       "otherwise\n",
       "source sub-field identifier n/a "
      ],
      "text/plain": [
       "<IPython.core.display.Markdown object>"
      ]
     },
     "metadata": {},
     "output_type": "display_data"
    },
    {
     "data": {
      "text/markdown": [
       "**Page**: 154"
      ],
      "text/plain": [
       "<IPython.core.display.Markdown object>"
      ]
     },
     "metadata": {},
     "output_type": "display_data"
    },
    {
     "data": {
      "text/html": [
       "<font color=#1F618D>WARNING: completeness is not guaranteed</font>"
      ],
      "text/plain": [
       "<IPython.core.display.HTML object>"
      ]
     },
     "metadata": {},
     "output_type": "display_data"
    }
   ],
   "source": [
    "print_markdown(documentation.desc_variable('INT_PHASE'))"
   ]
  },
  {
   "cell_type": "markdown",
   "metadata": {},
   "source": [
    "Note: These indicators provide a somewhat *simplistic* approach to identify the route an application has taken. This is the result of interpretations and assumptions for which no responsibility whatsoever can be accepted.\n",
    "\n",
    "WARNING: These indicators only help to understand applications which actually exist in PATSTAT. It does not help to answer questions like “How many EP applications are valid in country x”, because not every office publishes patents which are validated / granted in their country. Consequently, there is no publication or application in PATSTAT for every granted patent. The same will apply for the Unitary Patents, if there is no publication for that (see p 154)."
   ]
  },
  {
   "cell_type": "markdown",
   "metadata": {},
   "source": [
    "### REG_PHASE"
   ]
  },
  {
   "cell_type": "code",
   "execution_count": 52,
   "metadata": {},
   "outputs": [
    {
     "data": {
      "text/markdown": [
       "**Name**:  indicator whether the application is or has been in the regional phase "
      ],
      "text/plain": [
       "<IPython.core.display.Markdown object>"
      ]
     },
     "metadata": {},
     "output_type": "display_data"
    },
    {
     "data": {
      "text/markdown": [
       "**Also known as**:  n/a "
      ],
      "text/plain": [
       "<IPython.core.display.Markdown object>"
      ]
     },
     "metadata": {},
     "output_type": "display_data"
    },
    {
     "data": {
      "text/markdown": [
       "**Description**:  indicates that an application is or has been in the regional phase.\n"
      ],
      "text/plain": [
       "<IPython.core.display.Markdown object>"
      ]
     },
     "metadata": {},
     "output_type": "display_data"
    },
    {
     "data": {
      "text/markdown": [
       "**Domain**:  1 ascii character\n",
       "y\n",
       "yes\n",
       "n\n",
       "no\n",
       "space\n",
       "not known\n",
       " (in case of uncertain interpretations;\n",
       "\n",
       " used very little or not at all)\n"
      ],
      "text/plain": [
       "<IPython.core.display.Markdown object>"
      ]
     },
     "metadata": {},
     "output_type": "display_data"
    },
    {
     "data": {
      "text/markdown": [
       "**Default value**:  n\n"
      ],
      "text/plain": [
       "<IPython.core.display.Markdown object>"
      ]
     },
     "metadata": {},
     "output_type": "display_data"
    },
    {
     "data": {
      "text/markdown": [
       "**Source database**:  patstat; "
      ],
      "text/plain": [
       "<IPython.core.display.Markdown object>"
      ]
     },
     "metadata": {},
     "output_type": "display_data"
    },
    {
     "data": {
      "text/markdown": [
       "**Source field name**:  derived from tables tls201_appln , tls211_pat_publn and the http//www.epo.org/searching-for-patents/helpful-resources/raw-data/data/tables/regular.html ) y\n",
       "if the appln_kind <> w\n",
       "and (appln_auth is a regional office\n",
       "\n",
       "or (appln_auth is a member of an regional office\n",
       "\n",
       " and\n",
       "\n",
       "the publn_kind code indicates that the patent\n",
       "\n",
       "\n",
       "publication is the result of a regional phase)\n",
       " ); n\n",
       "otherwise\n",
       "source sub-field identifier n/a\n"
      ],
      "text/plain": [
       "<IPython.core.display.Markdown object>"
      ]
     },
     "metadata": {},
     "output_type": "display_data"
    },
    {
     "data": {
      "text/markdown": [
       "**Comments**:  for explanation and disclaimer see attribute int_phase in section 6.57.\n"
      ],
      "text/plain": [
       "<IPython.core.display.Markdown object>"
      ]
     },
     "metadata": {},
     "output_type": "display_data"
    },
    {
     "data": {
      "text/markdown": [
       "**Page**: 259"
      ],
      "text/plain": [
       "<IPython.core.display.Markdown object>"
      ]
     },
     "metadata": {},
     "output_type": "display_data"
    },
    {
     "data": {
      "text/html": [
       "<font color=#1F618D>WARNING: completeness is not guaranteed</font>"
      ],
      "text/plain": [
       "<IPython.core.display.HTML object>"
      ]
     },
     "metadata": {},
     "output_type": "display_data"
    }
   ],
   "source": [
    "print_markdown(documentation.desc_variable('REG_PHASE'))"
   ]
  },
  {
   "cell_type": "markdown",
   "metadata": {},
   "source": [
    "### NAT_PHASE"
   ]
  },
  {
   "cell_type": "code",
   "execution_count": 53,
   "metadata": {},
   "outputs": [
    {
     "data": {
      "text/markdown": [
       "**Name**:  indicator whether the application is in the national phase "
      ],
      "text/plain": [
       "<IPython.core.display.Markdown object>"
      ]
     },
     "metadata": {},
     "output_type": "display_data"
    },
    {
     "data": {
      "text/markdown": [
       "**Also known as**:  n/a "
      ],
      "text/plain": [
       "<IPython.core.display.Markdown object>"
      ]
     },
     "metadata": {},
     "output_type": "display_data"
    },
    {
     "data": {
      "text/markdown": [
       "**Description**:  indicates that an application is in the national phase.\n"
      ],
      "text/plain": [
       "<IPython.core.display.Markdown object>"
      ]
     },
     "metadata": {},
     "output_type": "display_data"
    },
    {
     "data": {
      "text/markdown": [
       "**Domain**:  1 ascii character\n",
       "y\n",
       "yes\n",
       "n\n",
       "no\n",
       "space\n",
       "not known\n",
       " (in case of uncertain interpretations;\n",
       "\n",
       " used very little or not at all)\n"
      ],
      "text/plain": [
       "<IPython.core.display.Markdown object>"
      ]
     },
     "metadata": {},
     "output_type": "display_data"
    },
    {
     "data": {
      "text/markdown": [
       "**Default value**:  n\n"
      ],
      "text/plain": [
       "<IPython.core.display.Markdown object>"
      ]
     },
     "metadata": {},
     "output_type": "display_data"
    },
    {
     "data": {
      "text/markdown": [
       "**Source database**:  patstat; "
      ],
      "text/plain": [
       "<IPython.core.display.Markdown object>"
      ]
     },
     "metadata": {},
     "output_type": "display_data"
    },
    {
     "data": {
      "text/markdown": [
       "**Source field name**:  derived from table tls201_appln\n",
       "y\n",
       "if the application has appln_kind <> w\n",
       "and appln_auth is a national office; n\n",
       "otherwise\n",
       "source sub-field identifier n/a\n"
      ],
      "text/plain": [
       "<IPython.core.display.Markdown object>"
      ]
     },
     "metadata": {},
     "output_type": "display_data"
    },
    {
     "data": {
      "text/markdown": [
       "**Comments**:  for explanation and disclaimer see attribute int_phase in section 6.57.\n"
      ],
      "text/plain": [
       "<IPython.core.display.Markdown object>"
      ]
     },
     "metadata": {},
     "output_type": "display_data"
    },
    {
     "data": {
      "text/markdown": [
       "**Page**: 213"
      ],
      "text/plain": [
       "<IPython.core.display.Markdown object>"
      ]
     },
     "metadata": {},
     "output_type": "display_data"
    },
    {
     "data": {
      "text/html": [
       "<font color=#1F618D>WARNING: completeness is not guaranteed</font>"
      ],
      "text/plain": [
       "<IPython.core.display.HTML object>"
      ]
     },
     "metadata": {},
     "output_type": "display_data"
    }
   ],
   "source": [
    "print_markdown(documentation.desc_variable('NAT_PHASE'))"
   ]
  },
  {
   "cell_type": "markdown",
   "metadata": {},
   "source": [
    "# Data from priorities"
   ]
  },
  {
   "cell_type": "markdown",
   "metadata": {},
   "source": [
    "## <font color=grey>EARLIEST_FILING_DATE</font>"
   ]
  },
  {
   "cell_type": "code",
   "execution_count": 54,
   "metadata": {},
   "outputs": [
    {
     "data": {
      "text/markdown": [
       "**Name**:  date of the earliest filing "
      ],
      "text/plain": [
       "<IPython.core.display.Markdown object>"
      ]
     },
     "metadata": {},
     "output_type": "display_data"
    },
    {
     "data": {
      "text/markdown": [
       "**Also known as**:  n/a "
      ],
      "text/plain": [
       "<IPython.core.display.Markdown object>"
      ]
     },
     "metadata": {},
     "output_type": "display_data"
    },
    {
     "data": {
      "text/markdown": [
       "**Description**:  the earliest date of the filing dates of the application itself, its paris convention priority applications, the applications with which it is related via technical relations and its application continuations. only directly related applications are considered; this is unlike the inpadoc family, where applications might also be indirectly related. "
      ],
      "text/plain": [
       "<IPython.core.display.Markdown object>"
      ]
     },
     "metadata": {},
     "output_type": "display_data"
    },
    {
     "data": {
      "text/markdown": [
       "**Domain**:  date (up to 9999-12-31) "
      ],
      "text/plain": [
       "<IPython.core.display.Markdown object>"
      ]
     },
     "metadata": {},
     "output_type": "display_data"
    },
    {
     "data": {
      "text/markdown": [
       "**Default value**:  9999-12-31 "
      ],
      "text/plain": [
       "<IPython.core.display.Markdown object>"
      ]
     },
     "metadata": {},
     "output_type": "display_data"
    },
    {
     "data": {
      "text/markdown": [
       "**Source database**:  patstat "
      ],
      "text/plain": [
       "<IPython.core.display.Markdown object>"
      ]
     },
     "metadata": {},
     "output_type": "display_data"
    },
    {
     "data": {
      "text/markdown": [
       "**Source field name**:  derived from the tables\n",
       " - tls201_appln\n",
       "\n",
       "self-priority\n",
       "- tls204_appln_prior\n",
       " paris convention priority\n",
       "- tls205_tech_rel\n",
       "technical relations\n",
       "- tls216_appln_cont\n",
       "application continuations\n",
       "source sub-field identifier n/a "
      ],
      "text/plain": [
       "<IPython.core.display.Markdown object>"
      ]
     },
     "metadata": {},
     "output_type": "display_data"
    },
    {
     "data": {
      "text/markdown": [
       "**Comments**:  n/a\n"
      ],
      "text/plain": [
       "<IPython.core.display.Markdown object>"
      ]
     },
     "metadata": {},
     "output_type": "display_data"
    },
    {
     "data": {
      "text/markdown": [
       "**Page**: 138"
      ],
      "text/plain": [
       "<IPython.core.display.Markdown object>"
      ]
     },
     "metadata": {},
     "output_type": "display_data"
    },
    {
     "data": {
      "text/html": [
       "<font color=#1F618D>WARNING: completeness is not guaranteed</font>"
      ],
      "text/plain": [
       "<IPython.core.display.HTML object>"
      ]
     },
     "metadata": {},
     "output_type": "display_data"
    }
   ],
   "source": [
    "print_markdown(documentation.desc_variable('EARLIEST_FILING_DATE'))"
   ]
  },
  {
   "cell_type": "markdown",
   "metadata": {},
   "source": [
    "<font color=grey>Note: Only directly related applications are considered; this is unlike the INPADOC family, where applications might also be indirectly related.</font>"
   ]
  },
  {
   "cell_type": "markdown",
   "metadata": {},
   "source": [
    "## <font color='grey'>EARLIEST_FILING_YEAR</font>"
   ]
  },
  {
   "cell_type": "code",
   "execution_count": 55,
   "metadata": {},
   "outputs": [
    {
     "data": {
      "text/markdown": [
       "**Name**:  year of the earliest filing date "
      ],
      "text/plain": [
       "<IPython.core.display.Markdown object>"
      ]
     },
     "metadata": {},
     "output_type": "display_data"
    },
    {
     "data": {
      "text/markdown": [
       "**Also known as**:  n/a "
      ],
      "text/plain": [
       "<IPython.core.display.Markdown object>"
      ]
     },
     "metadata": {},
     "output_type": "display_data"
    },
    {
     "data": {
      "text/markdown": [
       "**Description**:  year of the earliest filing date "
      ],
      "text/plain": [
       "<IPython.core.display.Markdown object>"
      ]
     },
     "metadata": {},
     "output_type": "display_data"
    },
    {
     "data": {
      "text/markdown": [
       "**Domain**:  4 digits in the form yyyy (e. g. 2015) "
      ],
      "text/plain": [
       "<IPython.core.display.Markdown object>"
      ]
     },
     "metadata": {},
     "output_type": "display_data"
    },
    {
     "data": {
      "text/markdown": [
       "**Default value**:  n/a "
      ],
      "text/plain": [
       "<IPython.core.display.Markdown object>"
      ]
     },
     "metadata": {},
     "output_type": "display_data"
    },
    {
     "data": {
      "text/markdown": [
       "**Source database**:  patstat\n"
      ],
      "text/plain": [
       "<IPython.core.display.Markdown object>"
      ]
     },
     "metadata": {},
     "output_type": "display_data"
    },
    {
     "data": {
      "text/markdown": [
       "**Source field name**:  derived from attribute earliest_filing_date of table tls201_appln computed as\n",
       " format(earliest_filing_date, 'yyyy') source sub-field identifier n/a "
      ],
      "text/plain": [
       "<IPython.core.display.Markdown object>"
      ]
     },
     "metadata": {},
     "output_type": "display_data"
    },
    {
     "data": {
      "text/markdown": [
       "**Comments**:  n/a\n"
      ],
      "text/plain": [
       "<IPython.core.display.Markdown object>"
      ]
     },
     "metadata": {},
     "output_type": "display_data"
    },
    {
     "data": {
      "text/markdown": [
       "**Page**: 140"
      ],
      "text/plain": [
       "<IPython.core.display.Markdown object>"
      ]
     },
     "metadata": {},
     "output_type": "display_data"
    },
    {
     "data": {
      "text/html": [
       "<font color=#1F618D>WARNING: completeness is not guaranteed</font>"
      ],
      "text/plain": [
       "<IPython.core.display.HTML object>"
      ]
     },
     "metadata": {},
     "output_type": "display_data"
    }
   ],
   "source": [
    "print_markdown(documentation.desc_variable('EARLIEST_FILING_YEAR'))"
   ]
  },
  {
   "cell_type": "markdown",
   "metadata": {},
   "source": [
    "## <font color=grey>EARLIEST_FILING_ID</font>"
   ]
  },
  {
   "cell_type": "code",
   "execution_count": 56,
   "metadata": {},
   "outputs": [
    {
     "data": {
      "text/markdown": [
       "**Name**:  application id of the earliest filing "
      ],
      "text/plain": [
       "<IPython.core.display.Markdown object>"
      ]
     },
     "metadata": {},
     "output_type": "display_data"
    },
    {
     "data": {
      "text/markdown": [
       "**Also known as**:  first filing "
      ],
      "text/plain": [
       "<IPython.core.display.Markdown object>"
      ]
     },
     "metadata": {},
     "output_type": "display_data"
    },
    {
     "data": {
      "text/markdown": [
       "**Description**:  the id of the earliest application, considering the application itself, its paris convention priority applications, the applications with which it is related via technical relations and its application continuations. only directly related applications are considered; this is unlike the inpadoc family, where applications might also be indirectly related. "
      ],
      "text/plain": [
       "<IPython.core.display.Markdown object>"
      ]
     },
     "metadata": {},
     "output_type": "display_data"
    },
    {
     "data": {
      "text/markdown": [
       "**Domain**: \n",
       "surrogate key technical unique identifier without any business meaning "
      ],
      "text/plain": [
       "<IPython.core.display.Markdown object>"
      ]
     },
     "metadata": {},
     "output_type": "display_data"
    },
    {
     "data": {
      "text/markdown": [
       "**Default value**:  n/a "
      ],
      "text/plain": [
       "<IPython.core.display.Markdown object>"
      ]
     },
     "metadata": {},
     "output_type": "display_data"
    },
    {
     "data": {
      "text/markdown": [
       "**Source database**:  patstat "
      ],
      "text/plain": [
       "<IPython.core.display.Markdown object>"
      ]
     },
     "metadata": {},
     "output_type": "display_data"
    },
    {
     "data": {
      "text/markdown": [
       "**Source field name**:  derived from the tables\n",
       " - tls201_appln\n",
       "\n",
       "self-priority\n",
       "- tls201_appln\n",
       " pct application\n",
       "- tls204_appln_prior\n",
       " paris convention priority\n",
       "- tls205_tech_rel\n",
       "technical relations\n",
       "- tls216_appln_contn application continuations\n",
       "source sub-field identifier n/a "
      ],
      "text/plain": [
       "<IPython.core.display.Markdown object>"
      ]
     },
     "metadata": {},
     "output_type": "display_data"
    },
    {
     "data": {
      "text/markdown": [
       "**Comments**: \n",
       "if multiple applications have been filed on the earliest filing date, then conceptually any of these applications can be regarded as the earliest application. nevertheless, the logic to determine the application which has been filed first is like this 1. if there is a pct application which was filed on the earliest application date, then the appln_id of this pct application is taken as the earliest_filing_id. 2. else if there are 1 or more paris convention priorities which were filed on the earliest application date, then the paris convention priority with the smallest appln_id is taken as the earliest_filing_id. 3. else the application which was filed on the earliest application date with the smallest appln_id will be taken.\n"
      ],
      "text/plain": [
       "<IPython.core.display.Markdown object>"
      ]
     },
     "metadata": {},
     "output_type": "display_data"
    },
    {
     "data": {
      "text/markdown": [
       "**Page**: 139"
      ],
      "text/plain": [
       "<IPython.core.display.Markdown object>"
      ]
     },
     "metadata": {},
     "output_type": "display_data"
    },
    {
     "data": {
      "text/html": [
       "<font color=#1F618D>WARNING: completeness is not guaranteed</font>"
      ],
      "text/plain": [
       "<IPython.core.display.HTML object>"
      ]
     },
     "metadata": {},
     "output_type": "display_data"
    }
   ],
   "source": [
    "print_markdown(documentation.desc_variable('EARLIEST_FILING_ID'))"
   ]
  },
  {
   "cell_type": "markdown",
   "metadata": {},
   "source": [
    "<font color=grey>Note: If multiple applications have been filed on the earliest filing date, then conceptually any of these applications can be regarded as the earliest application. Nevertheless, the logic to determine the application which has been filed first is like this:\n",
    "\n",
    "1. If there is a PCT application which was filed on the earliest application date, then the APPLN_ID of this PCT application is taken as the EARLIEST_FILING_ID.\n",
    "2. Else: If there are 1 or more Paris convention priorities which were filed on the earliest application date, then the Paris convention priority with the smallest APPLN_ID is taken as the EARLIEST_FILING_ID.\n",
    "3. Else: the application which was filed on the earliest application date with the smallest APPLN_ID will be taken.\n",
    "</font>"
   ]
  },
  {
   "cell_type": "markdown",
   "metadata": {},
   "source": [
    "# Data from publications"
   ]
  },
  {
   "cell_type": "markdown",
   "metadata": {},
   "source": [
    "<font color=orange>TODO</font>: \n",
    "\n",
    "- count by YEAR and AUTH\n",
    "- avg(year) between EARLIEST_FILING_DATE and EARLIEST_PUBN_DATE"
   ]
  },
  {
   "cell_type": "markdown",
   "metadata": {},
   "source": [
    "## <font color='grey'>EARLIEST_PUBLN_DATE</font>"
   ]
  },
  {
   "cell_type": "code",
   "execution_count": 57,
   "metadata": {},
   "outputs": [
    {
     "data": {
      "text/markdown": [
       "**Name**:  date of earliest publication "
      ],
      "text/plain": [
       "<IPython.core.display.Markdown object>"
      ]
     },
     "metadata": {},
     "output_type": "display_data"
    },
    {
     "data": {
      "text/markdown": [
       "**Also known as**:  n/a "
      ],
      "text/plain": [
       "<IPython.core.display.Markdown object>"
      ]
     },
     "metadata": {},
     "output_type": "display_data"
    },
    {
     "data": {
      "text/markdown": [
       "**Description**: \n"
      ],
      "text/plain": [
       "<IPython.core.display.Markdown object>"
      ]
     },
     "metadata": {},
     "output_type": "display_data"
    },
    {
     "data": {
      "text/markdown": [
       "**Domain**:  date (up to 9999-12-31) "
      ],
      "text/plain": [
       "<IPython.core.display.Markdown object>"
      ]
     },
     "metadata": {},
     "output_type": "display_data"
    },
    {
     "data": {
      "text/markdown": [
       "**Default value**:  9999-12-31 "
      ],
      "text/plain": [
       "<IPython.core.display.Markdown object>"
      ]
     },
     "metadata": {},
     "output_type": "display_data"
    },
    {
     "data": {
      "text/markdown": [
       "**Source database**:  patstat "
      ],
      "text/plain": [
       "<IPython.core.display.Markdown object>"
      ]
     },
     "metadata": {},
     "output_type": "display_data"
    },
    {
     "data": {
      "text/markdown": [
       "**Source field name**:  derived from table tls211_pat_publn\n",
       "\n",
       "source sub-field identifier n/a "
      ],
      "text/plain": [
       "<IPython.core.display.Markdown object>"
      ]
     },
     "metadata": {},
     "output_type": "display_data"
    },
    {
     "data": {
      "text/markdown": [
       "**Comments**:  n/a\n"
      ],
      "text/plain": [
       "<IPython.core.display.Markdown object>"
      ]
     },
     "metadata": {},
     "output_type": "display_data"
    },
    {
     "data": {
      "text/markdown": [
       "**Page**: 142"
      ],
      "text/plain": [
       "<IPython.core.display.Markdown object>"
      ]
     },
     "metadata": {},
     "output_type": "display_data"
    },
    {
     "data": {
      "text/html": [
       "<font color=#1F618D>WARNING: completeness is not guaranteed</font>"
      ],
      "text/plain": [
       "<IPython.core.display.HTML object>"
      ]
     },
     "metadata": {},
     "output_type": "display_data"
    }
   ],
   "source": [
    "print_markdown(documentation.desc_variable('EARLIEST_PUBLN_DATE'))"
   ]
  },
  {
   "cell_type": "markdown",
   "metadata": {},
   "source": [
    "## <font color='grey'>EARLIEST_PUBLN_YEAR</font>"
   ]
  },
  {
   "cell_type": "code",
   "execution_count": 58,
   "metadata": {},
   "outputs": [
    {
     "data": {
      "text/markdown": [
       "**Name**:  year of the earliest publication date "
      ],
      "text/plain": [
       "<IPython.core.display.Markdown object>"
      ]
     },
     "metadata": {},
     "output_type": "display_data"
    },
    {
     "data": {
      "text/markdown": [
       "**Also known as**:  n/a "
      ],
      "text/plain": [
       "<IPython.core.display.Markdown object>"
      ]
     },
     "metadata": {},
     "output_type": "display_data"
    },
    {
     "data": {
      "text/markdown": [
       "**Description**: \n"
      ],
      "text/plain": [
       "<IPython.core.display.Markdown object>"
      ]
     },
     "metadata": {},
     "output_type": "display_data"
    },
    {
     "data": {
      "text/markdown": [
       "**Domain**:  4 digits in the form yyyy (e. g. 2015) "
      ],
      "text/plain": [
       "<IPython.core.display.Markdown object>"
      ]
     },
     "metadata": {},
     "output_type": "display_data"
    },
    {
     "data": {
      "text/markdown": [
       "**Default value**:  n/a "
      ],
      "text/plain": [
       "<IPython.core.display.Markdown object>"
      ]
     },
     "metadata": {},
     "output_type": "display_data"
    },
    {
     "data": {
      "text/markdown": [
       "**Source database**:  patstat\n"
      ],
      "text/plain": [
       "<IPython.core.display.Markdown object>"
      ]
     },
     "metadata": {},
     "output_type": "display_data"
    },
    {
     "data": {
      "text/markdown": [
       "**Source field name**:  derived from attribute earliest_publn_date of table tls201_appln\n",
       "computed as\n",
       " format(earliest_publn_date, 'yyyy') source sub-field identifier n/a "
      ],
      "text/plain": [
       "<IPython.core.display.Markdown object>"
      ]
     },
     "metadata": {},
     "output_type": "display_data"
    },
    {
     "data": {
      "text/markdown": [
       "**Comments**:  n/a\n"
      ],
      "text/plain": [
       "<IPython.core.display.Markdown object>"
      ]
     },
     "metadata": {},
     "output_type": "display_data"
    },
    {
     "data": {
      "text/markdown": [
       "**Page**: 143"
      ],
      "text/plain": [
       "<IPython.core.display.Markdown object>"
      ]
     },
     "metadata": {},
     "output_type": "display_data"
    },
    {
     "data": {
      "text/html": [
       "<font color=#1F618D>WARNING: completeness is not guaranteed</font>"
      ],
      "text/plain": [
       "<IPython.core.display.HTML object>"
      ]
     },
     "metadata": {},
     "output_type": "display_data"
    }
   ],
   "source": [
    "print_markdown(documentation.desc_variable('EARLIEST_PUBLN_YEAR'))"
   ]
  },
  {
   "cell_type": "markdown",
   "metadata": {},
   "source": [
    "## <font color='grey'>EARLIEST_PAT_PUBLN_ID</font>"
   ]
  },
  {
   "cell_type": "code",
   "execution_count": 59,
   "metadata": {},
   "outputs": [
    {
     "data": {
      "text/markdown": [
       "**Name**:  id of the earliest publication "
      ],
      "text/plain": [
       "<IPython.core.display.Markdown object>"
      ]
     },
     "metadata": {},
     "output_type": "display_data"
    },
    {
     "data": {
      "text/markdown": [
       "**Also known as**:  n/a "
      ],
      "text/plain": [
       "<IPython.core.display.Markdown object>"
      ]
     },
     "metadata": {},
     "output_type": "display_data"
    },
    {
     "data": {
      "text/markdown": [
       "**Description**:  the id of a publication published on the earliest publication date of an application "
      ],
      "text/plain": [
       "<IPython.core.display.Markdown object>"
      ]
     },
     "metadata": {},
     "output_type": "display_data"
    },
    {
     "data": {
      "text/markdown": [
       "**Domain**:  9 999 999 "
      ],
      "text/plain": [
       "<IPython.core.display.Markdown object>"
      ]
     },
     "metadata": {},
     "output_type": "display_data"
    },
    {
     "data": {
      "text/markdown": [
       "**Default value**:  0 "
      ],
      "text/plain": [
       "<IPython.core.display.Markdown object>"
      ]
     },
     "metadata": {},
     "output_type": "display_data"
    },
    {
     "data": {
      "text/markdown": [
       "**Source database**:  patstat\n"
      ],
      "text/plain": [
       "<IPython.core.display.Markdown object>"
      ]
     },
     "metadata": {},
     "output_type": "display_data"
    },
    {
     "data": {
      "text/markdown": [
       "**Source field name**:  the earliest application date is indicated by attribute earliest_publn_date of table tls201_appln. table tls211_pat_publn contains the publications with their id (attribute pat_publn_id).\n",
       "\n",
       "source sub-field identifier n/a "
      ],
      "text/plain": [
       "<IPython.core.display.Markdown object>"
      ]
     },
     "metadata": {},
     "output_type": "display_data"
    },
    {
     "data": {
      "text/markdown": [
       "**Comments**:  if more than one publication is published on the same (earliest) publication date, then any one is selected.\n"
      ],
      "text/plain": [
       "<IPython.core.display.Markdown object>"
      ]
     },
     "metadata": {},
     "output_type": "display_data"
    },
    {
     "data": {
      "text/markdown": [
       "**Page**: 141"
      ],
      "text/plain": [
       "<IPython.core.display.Markdown object>"
      ]
     },
     "metadata": {},
     "output_type": "display_data"
    },
    {
     "data": {
      "text/html": [
       "<font color=#1F618D>WARNING: completeness is not guaranteed</font>"
      ],
      "text/plain": [
       "<IPython.core.display.HTML object>"
      ]
     },
     "metadata": {},
     "output_type": "display_data"
    }
   ],
   "source": [
    "print_markdown(documentation.desc_variable('EARLIEST_PAT_PUBLN_ID'))"
   ]
  },
  {
   "cell_type": "markdown",
   "metadata": {},
   "source": [
    "# Data derived from publications"
   ]
  },
  {
   "cell_type": "markdown",
   "metadata": {},
   "source": [
    "<font color=orange>TODO</font>: \n",
    "\n",
    "- clean code"
   ]
  },
  {
   "cell_type": "markdown",
   "metadata": {},
   "source": [
    "## GRANTED"
   ]
  },
  {
   "cell_type": "code",
   "execution_count": 60,
   "metadata": {
    "scrolled": false
   },
   "outputs": [
    {
     "data": {
      "text/markdown": [
       "**Name**:  \"granted\" indicator "
      ],
      "text/plain": [
       "<IPython.core.display.Markdown object>"
      ]
     },
     "metadata": {},
     "output_type": "display_data"
    },
    {
     "data": {
      "text/markdown": [
       "**Also known as**:  n/a "
      ],
      "text/plain": [
       "<IPython.core.display.Markdown object>"
      ]
     },
     "metadata": {},
     "output_type": "display_data"
    },
    {
     "data": {
      "text/markdown": [
       "**Description**:  \"1\" if there exists a publication of the grant; \"0\" otherwise "
      ],
      "text/plain": [
       "<IPython.core.display.Markdown object>"
      ]
     },
     "metadata": {},
     "output_type": "display_data"
    },
    {
     "data": {
      "text/markdown": [
       "**Domain**:  0 or 1 "
      ],
      "text/plain": [
       "<IPython.core.display.Markdown object>"
      ]
     },
     "metadata": {},
     "output_type": "display_data"
    },
    {
     "data": {
      "text/markdown": [
       "**Default value**:  n/a "
      ],
      "text/plain": [
       "<IPython.core.display.Markdown object>"
      ]
     },
     "metadata": {},
     "output_type": "display_data"
    },
    {
     "data": {
      "text/markdown": [
       "**Source database**:  patstat "
      ],
      "text/plain": [
       "<IPython.core.display.Markdown object>"
      ]
     },
     "metadata": {},
     "output_type": "display_data"
    },
    {
     "data": {
      "text/markdown": [
       "**Source field name**:  derived from attribute publn_first_grant of table tls211_pat_publn\n",
       "\n",
       "source sub-field identifier n/a "
      ],
      "text/plain": [
       "<IPython.core.display.Markdown object>"
      ]
     },
     "metadata": {},
     "output_type": "display_data"
    },
    {
     "data": {
      "text/markdown": [
       "**Comments**: \n",
       "the same disclaimer as for attribute publn_first_grant applies\n",
       "although the epo has taken great care in analysing the grant information, this process is the result of interpretations and assumptions for which no responsibility whatsoever can be accepted.\n"
      ],
      "text/plain": [
       "<IPython.core.display.Markdown object>"
      ]
     },
     "metadata": {},
     "output_type": "display_data"
    },
    {
     "data": {
      "text/markdown": [
       "**Page**: 147"
      ],
      "text/plain": [
       "<IPython.core.display.Markdown object>"
      ]
     },
     "metadata": {},
     "output_type": "display_data"
    },
    {
     "data": {
      "text/html": [
       "<font color=#1F618D>WARNING: completeness is not guaranteed</font>"
      ],
      "text/plain": [
       "<IPython.core.display.HTML object>"
      ]
     },
     "metadata": {},
     "output_type": "display_data"
    }
   ],
   "source": [
    "print_markdown(documentation.desc_variable('GRANTED'))"
   ]
  },
  {
   "cell_type": "markdown",
   "metadata": {},
   "source": [
    "Note: This variable is the result of interpretations and assumptions for which no responsibility whatsoever can be accepted."
   ]
  },
  {
   "cell_type": "markdown",
   "metadata": {},
   "source": [
    "```python\n",
    "query = \"\"\"\n",
    "SELECT\n",
    "  granted,\n",
    "  year,\n",
    "  appln_auth,\n",
    "  COUNT(*) AS nb_grant\n",
    "FROM\n",
    "  raw.tls201_cp\n",
    "#WHERE\n",
    "#  date>'1900-01-01'\n",
    "GROUP BY\n",
    "  granted,\n",
    "  appln_auth,\n",
    "  year\n",
    "ORDER BY\n",
    "  granted,\n",
    "  year,\n",
    "  appln_auth\n",
    "  ;\"\"\"\n",
    "df_granted = client.query(query).to_dataframe()\n",
    "df_granted.to_csv(views_path + '/grant_yr_auth.csv')\n",
    "```"
   ]
  },
  {
   "cell_type": "code",
   "execution_count": 62,
   "metadata": {},
   "outputs": [],
   "source": [
    "df_granted = pd.read_csv(views_path + '/grant_yr_auth.csv', index_col=0)"
   ]
  },
  {
   "cell_type": "code",
   "execution_count": 63,
   "metadata": {},
   "outputs": [],
   "source": [
    "def plot_grant(df: pd.DataFrame, cnt: str, path: str = None):\n",
    "    tmp = df.query('appln_auth == @cnt').dropna()\n",
    "    try:\n",
    "        cnt_name = pycountry.countries.get(alpha_2=cnt).name\n",
    "    except:\n",
    "        cnt_name = cnt_a2_name[cnt]\n",
    "    data = []\n",
    "\n",
    "    for boo in [True, False]:\n",
    "        i = 0 if boo == False else -1\n",
    "        data += [\n",
    "            go.Bar(\n",
    "                x=tmp.query('granted == @boo')[\"year\"].values,\n",
    "                y=tmp.query('granted == @boo')[\"nb_grant\"].values,\n",
    "                name=boo,\n",
    "                marker=dict(color=cl.scales['3']['div']['RdBu'][i], ))\n",
    "        ]\n",
    "    layout = go.Layout(\n",
    "        barmode='stack', title='Patent grants in {}'.format(cnt_name))\n",
    "    fig = go.Figure(data=data, layout=layout)\n",
    "    pio.write_image(fig, path + '/{}_ts_grants.png'.format(cnt))\n"
   ]
  },
  {
   "cell_type": "raw",
   "metadata": {},
   "source": [
    "no_match = []\n",
    "for cnt in df_granted.appln_auth.unique():\n",
    "    if df_pat_yrcnt.query(\n",
    "            'appln_auth == @cnt')['nb_patents'].dropna().sum() > 1e5:\n",
    "        try:\n",
    "            plot_grant(df_granted, cnt, plots_path + 'pat_grant/')\n",
    "        except:\n",
    "            no_match += [cnt]\n",
    "    else:\n",
    "        pass"
   ]
  },
  {
   "cell_type": "markdown",
   "metadata": {},
   "source": [
    "# Family data"
   ]
  },
  {
   "cell_type": "markdown",
   "metadata": {},
   "source": [
    "## <font color='grey'>DOCDB_FAMILY_ID</font>"
   ]
  },
  {
   "cell_type": "code",
   "execution_count": 64,
   "metadata": {},
   "outputs": [
    {
     "data": {
      "text/markdown": [
       "**Name**:  identifier of a docdb simple family "
      ],
      "text/plain": [
       "<IPython.core.display.Markdown object>"
      ]
     },
     "metadata": {},
     "output_type": "display_data"
    },
    {
     "data": {
      "text/markdown": [
       "**Also known as**:  docdb family id; simple family id "
      ],
      "text/plain": [
       "<IPython.core.display.Markdown object>"
      ]
     },
     "metadata": {},
     "output_type": "display_data"
    },
    {
     "data": {
      "text/markdown": [
       "**Description**: \n",
       "means that most probably the applications share exactly the same priorities (paris convention or technical relation or others) as in table tls201_appln, tls204_prior_appln, tls205_tech_rel and tls216_appln_contn. "
      ],
      "text/plain": [
       "<IPython.core.display.Markdown object>"
      ]
     },
     "metadata": {},
     "output_type": "display_data"
    },
    {
     "data": {
      "text/markdown": [
       "**Domain**:  number 0 9 999 999;\n",
       "a value 0 indicates that the application does not belong to any docdb family. this is only the case for the dummy application (appln_id = 0) and for artificial applications (appln_id\n",
       "900 000 000) "
      ],
      "text/plain": [
       "<IPython.core.display.Markdown object>"
      ]
     },
     "metadata": {},
     "output_type": "display_data"
    },
    {
     "data": {
      "text/markdown": [
       "**Default value**:  0 "
      ],
      "text/plain": [
       "<IPython.core.display.Markdown object>"
      ]
     },
     "metadata": {},
     "output_type": "display_data"
    },
    {
     "data": {
      "text/markdown": [
       "**Source database**:  docdb "
      ],
      "text/plain": [
       "<IPython.core.display.Markdown object>"
      ]
     },
     "metadata": {},
     "output_type": "display_data"
    },
    {
     "data": {
      "text/markdown": [
       "**Source field name**:  <exchange-document country=\"de\" doc-number=\"10331291\" kind=\"a1\" family-id=\" 33441709\" date=\"20050217\" is-representative=\"y\" date-of-last-exchange=\"2006120611\" date-of-previous-exchange=\"20050217\" date-added-docdb=\"20050201\" status=\"a\">\n",
       "source sub-field identifier family-id "
      ],
      "text/plain": [
       "<IPython.core.display.Markdown object>"
      ]
     },
     "metadata": {},
     "output_type": "display_data"
    },
    {
     "data": {
      "text/markdown": [
       "**Comments**: \n",
       "generally speaking, if two applications claim exactly the same prior applications as priorities (these can be e. g. paris convention priorities or technical relation priorities\n",
       "for details see section 4.4.1 application replenishment for prioritiesre defined by the epo as belonging to the same docdb simple family. the epo reserves the right to classify an application into a particular simple family irrespective of this general rule -\n",
       "the epo does this by creating artificial priorities for an application or by ignoring certain\n",
       " the simplified definition of the docdb family is that all their priorities must be the same. docdb family members generally refer to the same invention.\n",
       " the simple family is also at times used to attribute automatically the same cpc classification symbols and other attributes to their family members.\n",
       "as a general rule, the value of the docdb_family_id will not change. it will be the same across editions of docdb and patstat. however, corrections to priority numbers or changes in the priority pictures (priority numbers changing from active to inactive or vice-versa) might lead to a change in the family-id of a given publication. see also section 4.3.2 stable ids\n"
      ],
      "text/plain": [
       "<IPython.core.display.Markdown object>"
      ]
     },
     "metadata": {},
     "output_type": "display_data"
    },
    {
     "data": {
      "text/markdown": [
       "**Page**: 132"
      ],
      "text/plain": [
       "<IPython.core.display.Markdown object>"
      ]
     },
     "metadata": {},
     "output_type": "display_data"
    },
    {
     "data": {
      "text/html": [
       "<font color=#1F618D>WARNING: completeness is not guaranteed</font>"
      ],
      "text/plain": [
       "<IPython.core.display.HTML object>"
      ]
     },
     "metadata": {},
     "output_type": "display_data"
    }
   ],
   "source": [
    "print_markdown(documentation.desc_variable('DOCDB_FAMILY_ID'))"
   ]
  },
  {
   "cell_type": "markdown",
   "metadata": {},
   "source": [
    "Note: 0 indicates that the application does not belong to any DOCDB family. This is only the case for the dummy application (APPLN_ID = 0) and for artificial applications (APPLN_ID ≥ 900 000 000). See more p 132."
   ]
  },
  {
   "cell_type": "markdown",
   "metadata": {},
   "source": [
    "## <font color='grey'>INPADOC_FAMILY_ID</font>"
   ]
  },
  {
   "cell_type": "code",
   "execution_count": 65,
   "metadata": {},
   "outputs": [
    {
     "data": {
      "text/markdown": [
       "**Name**:  identifier of an inpadoc extended priority family "
      ],
      "text/plain": [
       "<IPython.core.display.Markdown object>"
      ]
     },
     "metadata": {},
     "output_type": "display_data"
    },
    {
     "data": {
      "text/markdown": [
       "**Also known as**:  inpadoc family id; extended family id "
      ],
      "text/plain": [
       "<IPython.core.display.Markdown object>"
      ]
     },
     "metadata": {},
     "output_type": "display_data"
    },
    {
     "data": {
      "text/markdown": [
       "**Description**:  means that the applications share a priority directly or indirectly via a third application. a 'priority' in this case means a link shown between applications as in tables tls201_appln (regional/national phase of a pct application), tls204_ appln_prior (paris convention priorities), tls205_tech_rel (patents which have been technically linked by patent examiners on the basis of similar content) and table tls216_ appln_contn (continuations, divisions etc.).\n"
      ],
      "text/plain": [
       "<IPython.core.display.Markdown object>"
      ]
     },
     "metadata": {},
     "output_type": "display_data"
    },
    {
     "data": {
      "text/markdown": [
       "**Domain**:  number 0 9 999 999 a value 0 indicates that the application does not belong to any inpadoc family. this is only the case for the dummy application (appln_id = 0) and for artificial applications replenished because of citations (i.e. appln_id 930 000 000) "
      ],
      "text/plain": [
       "<IPython.core.display.Markdown object>"
      ]
     },
     "metadata": {},
     "output_type": "display_data"
    },
    {
     "data": {
      "text/markdown": [
       "**Default value**:  0 "
      ],
      "text/plain": [
       "<IPython.core.display.Markdown object>"
      ]
     },
     "metadata": {},
     "output_type": "display_data"
    },
    {
     "data": {
      "text/markdown": [
       "**Source database**:  this attribute is calculated during the preparation of patstat data. "
      ],
      "text/plain": [
       "<IPython.core.display.Markdown object>"
      ]
     },
     "metadata": {},
     "output_type": "display_data"
    },
    {
     "data": {
      "text/markdown": [
       "**Source field name**:  n/a source sub-field identifier n/a\n"
      ],
      "text/plain": [
       "<IPython.core.display.Markdown object>"
      ]
     },
     "metadata": {},
     "output_type": "display_data"
    },
    {
     "data": {
      "text/markdown": [
       "**Page**: 152"
      ],
      "text/plain": [
       "<IPython.core.display.Markdown object>"
      ]
     },
     "metadata": {},
     "output_type": "display_data"
    },
    {
     "data": {
      "text/html": [
       "<font color=#1F618D>WARNING: completeness is not guaranteed</font>"
      ],
      "text/plain": [
       "<IPython.core.display.HTML object>"
      ]
     },
     "metadata": {},
     "output_type": "display_data"
    }
   ],
   "source": [
    "print_markdown(documentation.desc_variable('INPADOC_FAMILY_ID'))"
   ]
  },
  {
   "cell_type": "markdown",
   "metadata": {},
   "source": [
    "Note: Much patent research is affected by the “family” concepts. There are various definitions of how to link different patents into “families”. This INPADOC extended priority family was developed by the INPADOC organisation before it was integrated into the EPO."
   ]
  },
  {
   "cell_type": "markdown",
   "metadata": {},
   "source": [
    "## <font color='grey'>DOCDB_FAMILY_SIZE</font>"
   ]
  },
  {
   "cell_type": "code",
   "execution_count": 66,
   "metadata": {},
   "outputs": [
    {
     "data": {
      "text/markdown": [
       "**Name**:  size of docdb simple family "
      ],
      "text/plain": [
       "<IPython.core.display.Markdown object>"
      ]
     },
     "metadata": {},
     "output_type": "display_data"
    },
    {
     "data": {
      "text/markdown": [
       "**Also known as**:  n/a "
      ],
      "text/plain": [
       "<IPython.core.display.Markdown object>"
      ]
     },
     "metadata": {},
     "output_type": "display_data"
    },
    {
     "data": {
      "text/markdown": [
       "**Description**:  size of docdb simple family of a given application "
      ],
      "text/plain": [
       "<IPython.core.display.Markdown object>"
      ]
     },
     "metadata": {},
     "output_type": "display_data"
    },
    {
     "data": {
      "text/markdown": [
       "**Domain**: \n"
      ],
      "text/plain": [
       "<IPython.core.display.Markdown object>"
      ]
     },
     "metadata": {},
     "output_type": "display_data"
    },
    {
     "data": {
      "text/markdown": [
       "**Default value**:  n/a "
      ],
      "text/plain": [
       "<IPython.core.display.Markdown object>"
      ]
     },
     "metadata": {},
     "output_type": "display_data"
    },
    {
     "data": {
      "text/markdown": [
       "**Source database**:  patstat\n"
      ],
      "text/plain": [
       "<IPython.core.display.Markdown object>"
      ]
     },
     "metadata": {},
     "output_type": "display_data"
    },
    {
     "data": {
      "text/markdown": [
       "**Source field name**:  derived from table tls201_appln\n",
       " source sub-field identifier n/a "
      ],
      "text/plain": [
       "<IPython.core.display.Markdown object>"
      ]
     },
     "metadata": {},
     "output_type": "display_data"
    },
    {
     "data": {
      "text/markdown": [
       "**Comments**:  n/a\n"
      ],
      "text/plain": [
       "<IPython.core.display.Markdown object>"
      ]
     },
     "metadata": {},
     "output_type": "display_data"
    },
    {
     "data": {
      "text/markdown": [
       "**Page**: 134"
      ],
      "text/plain": [
       "<IPython.core.display.Markdown object>"
      ]
     },
     "metadata": {},
     "output_type": "display_data"
    },
    {
     "data": {
      "text/html": [
       "<font color=#1F618D>WARNING: completeness is not guaranteed</font>"
      ],
      "text/plain": [
       "<IPython.core.display.HTML object>"
      ]
     },
     "metadata": {},
     "output_type": "display_data"
    }
   ],
   "source": [
    "print_markdown(documentation.desc_variable('DOCDB_FAMILY_SIZE'))"
   ]
  },
  {
   "cell_type": "markdown",
   "metadata": {},
   "source": [
    "<font color=orange>TODO</font>: \n",
    "\n",
    "- distribution (requires external info to trace the earliest filing appn such as YEAR and AUTH)"
   ]
  },
  {
   "cell_type": "markdown",
   "metadata": {},
   "source": [
    "## <font color='grey'>NB_CITING_DOCDB_FAM</font>"
   ]
  },
  {
   "cell_type": "markdown",
   "metadata": {},
   "source": [
    "<font color=orange>TODO</font>: \n",
    "\n",
    "- distribution (requires external info to trace de earliest filing appn such as YEAR and AUTH)\n",
    "- interactions between family size and nb_citing (dist plot) https://plot.ly/ipython-notebooks/2d-kernel-density-distributions/"
   ]
  },
  {
   "cell_type": "code",
   "execution_count": 67,
   "metadata": {},
   "outputs": [
    {
     "data": {
      "text/markdown": [
       "**Name**:  number of forward citations on family level "
      ],
      "text/plain": [
       "<IPython.core.display.Markdown object>"
      ]
     },
     "metadata": {},
     "output_type": "display_data"
    },
    {
     "data": {
      "text/markdown": [
       "**Also known as**:  n/a "
      ],
      "text/plain": [
       "<IPython.core.display.Markdown object>"
      ]
     },
     "metadata": {},
     "output_type": "display_data"
    },
    {
     "data": {
      "text/markdown": [
       "**Description**:  number of distinct docdb simple families citing at least one of the publications or applications of the docdb simple family of the current application (search report citations from tls212_citation) "
      ],
      "text/plain": [
       "<IPython.core.display.Markdown object>"
      ]
     },
     "metadata": {},
     "output_type": "display_data"
    },
    {
     "data": {
      "text/markdown": [
       "**Domain**:  number 0 .. about 3.000 "
      ],
      "text/plain": [
       "<IPython.core.display.Markdown object>"
      ]
     },
     "metadata": {},
     "output_type": "display_data"
    },
    {
     "data": {
      "text/markdown": [
       "**Default value**:  n/a "
      ],
      "text/plain": [
       "<IPython.core.display.Markdown object>"
      ]
     },
     "metadata": {},
     "output_type": "display_data"
    },
    {
     "data": {
      "text/markdown": [
       "**Source database**:  patstat "
      ],
      "text/plain": [
       "<IPython.core.display.Markdown object>"
      ]
     },
     "metadata": {},
     "output_type": "display_data"
    },
    {
     "data": {
      "text/markdown": [
       "**Source field name**:  derived from table tls228_docdb_fam_citn\n",
       "source sub-field identifier n/a "
      ],
      "text/plain": [
       "<IPython.core.display.Markdown object>"
      ]
     },
     "metadata": {},
     "output_type": "display_data"
    },
    {
     "data": {
      "text/markdown": [
       "**Comments**:  n/a\n"
      ],
      "text/plain": [
       "<IPython.core.display.Markdown object>"
      ]
     },
     "metadata": {},
     "output_type": "display_data"
    },
    {
     "data": {
      "text/markdown": [
       "**Page**: 215"
      ],
      "text/plain": [
       "<IPython.core.display.Markdown object>"
      ]
     },
     "metadata": {},
     "output_type": "display_data"
    },
    {
     "data": {
      "text/html": [
       "<font color=#1F618D>WARNING: completeness is not guaranteed</font>"
      ],
      "text/plain": [
       "<IPython.core.display.HTML object>"
      ]
     },
     "metadata": {},
     "output_type": "display_data"
    }
   ],
   "source": [
    "print_markdown(documentation.desc_variable('NB_CITING_DOCDB_FAM'))"
   ]
  },
  {
   "cell_type": "markdown",
   "metadata": {},
   "source": [
    "# Aggregated data"
   ]
  },
  {
   "cell_type": "markdown",
   "metadata": {},
   "source": [
    "## <font color='grey'>NB_APPLICANTS</font>"
   ]
  },
  {
   "cell_type": "markdown",
   "metadata": {},
   "source": [
    "<font color=orange>TODO</font>: distribution + Think about longitudinal dimension (YEAR, AUTH)\n",
    "\n",
    "\n",
    "<font color=red>WARNING</font>: How to avoid duplicates ? -> Group by earliest_pat_publn_date, DOCDB family."
   ]
  },
  {
   "cell_type": "code",
   "execution_count": 68,
   "metadata": {},
   "outputs": [
    {
     "data": {
      "text/markdown": [
       "**Name**:  number of applicants of an application according to the most recent publication "
      ],
      "text/plain": [
       "<IPython.core.display.Markdown object>"
      ]
     },
     "metadata": {},
     "output_type": "display_data"
    },
    {
     "data": {
      "text/markdown": [
       "**Also known as**:  n/a "
      ],
      "text/plain": [
       "<IPython.core.display.Markdown object>"
      ]
     },
     "metadata": {},
     "output_type": "display_data"
    },
    {
     "data": {
      "text/markdown": [
       "**Description**:  number of applicants of an application according to the most recent publication "
      ],
      "text/plain": [
       "<IPython.core.display.Markdown object>"
      ]
     },
     "metadata": {},
     "output_type": "display_data"
    },
    {
     "data": {
      "text/markdown": [
       "**Domain**:  number\n",
       "about 250 "
      ],
      "text/plain": [
       "<IPython.core.display.Markdown object>"
      ]
     },
     "metadata": {},
     "output_type": "display_data"
    },
    {
     "data": {
      "text/markdown": [
       "**Default value**:  n/a "
      ],
      "text/plain": [
       "<IPython.core.display.Markdown object>"
      ]
     },
     "metadata": {},
     "output_type": "display_data"
    },
    {
     "data": {
      "text/markdown": [
       "**Source database**:  patstat "
      ],
      "text/plain": [
       "<IPython.core.display.Markdown object>"
      ]
     },
     "metadata": {},
     "output_type": "display_data"
    },
    {
     "data": {
      "text/markdown": [
       "**Source field name**:  derived from table tls207_pers_appln\n",
       " source sub-field identifier n/a "
      ],
      "text/plain": [
       "<IPython.core.display.Markdown object>"
      ]
     },
     "metadata": {},
     "output_type": "display_data"
    },
    {
     "data": {
      "text/markdown": [
       "**Comments**:  only the latest known set of applicants is considered (e. g. from the latest publication)\n"
      ],
      "text/plain": [
       "<IPython.core.display.Markdown object>"
      ]
     },
     "metadata": {},
     "output_type": "display_data"
    },
    {
     "data": {
      "text/markdown": [
       "**Page**: 214"
      ],
      "text/plain": [
       "<IPython.core.display.Markdown object>"
      ]
     },
     "metadata": {},
     "output_type": "display_data"
    },
    {
     "data": {
      "text/html": [
       "<font color=#1F618D>WARNING: completeness is not guaranteed</font>"
      ],
      "text/plain": [
       "<IPython.core.display.HTML object>"
      ]
     },
     "metadata": {},
     "output_type": "display_data"
    }
   ],
   "source": [
    "print_markdown(documentation.desc_variable('NB_APPLICANTS'))"
   ]
  },
  {
   "cell_type": "markdown",
   "metadata": {},
   "source": [
    "## <font color='grey'>NB_INVENTORS</font>"
   ]
  },
  {
   "cell_type": "markdown",
   "metadata": {},
   "source": [
    "<font color=orange>TODO</font>: distribution + Think about longitudinal dimension (YEAR, AUTH)\n",
    "\n",
    "\n",
    "<font color=red>WARNING</font>: How to avoid duplicates ? -> Group by earliest_pat_publn_date, DOCD family."
   ]
  },
  {
   "cell_type": "code",
   "execution_count": 69,
   "metadata": {},
   "outputs": [
    {
     "data": {
      "text/markdown": [
       "**Name**:  number of inventors of an application according to the most recent publication "
      ],
      "text/plain": [
       "<IPython.core.display.Markdown object>"
      ]
     },
     "metadata": {},
     "output_type": "display_data"
    },
    {
     "data": {
      "text/markdown": [
       "**Also known as**:  n/a "
      ],
      "text/plain": [
       "<IPython.core.display.Markdown object>"
      ]
     },
     "metadata": {},
     "output_type": "display_data"
    },
    {
     "data": {
      "text/markdown": [
       "**Description**:  number of inventors of an application according to the most recent publication "
      ],
      "text/plain": [
       "<IPython.core.display.Markdown object>"
      ]
     },
     "metadata": {},
     "output_type": "display_data"
    },
    {
     "data": {
      "text/markdown": [
       "**Domain**:  nu "
      ],
      "text/plain": [
       "<IPython.core.display.Markdown object>"
      ]
     },
     "metadata": {},
     "output_type": "display_data"
    },
    {
     "data": {
      "text/markdown": [
       "**Default value**:  n/a "
      ],
      "text/plain": [
       "<IPython.core.display.Markdown object>"
      ]
     },
     "metadata": {},
     "output_type": "display_data"
    },
    {
     "data": {
      "text/markdown": [
       "**Source database**:  patstat\n"
      ],
      "text/plain": [
       "<IPython.core.display.Markdown object>"
      ]
     },
     "metadata": {},
     "output_type": "display_data"
    },
    {
     "data": {
      "text/markdown": [
       "**Source field name**:  derived from table tls207_pers_appln\n",
       " source sub-field identifier n/a "
      ],
      "text/plain": [
       "<IPython.core.display.Markdown object>"
      ]
     },
     "metadata": {},
     "output_type": "display_data"
    },
    {
     "data": {
      "text/markdown": [
       "**Comments**:  only the latest known set of inventors is considered (e. g. from the latest publication)\n"
      ],
      "text/plain": [
       "<IPython.core.display.Markdown object>"
      ]
     },
     "metadata": {},
     "output_type": "display_data"
    },
    {
     "data": {
      "text/markdown": [
       "**Page**: 216"
      ],
      "text/plain": [
       "<IPython.core.display.Markdown object>"
      ]
     },
     "metadata": {},
     "output_type": "display_data"
    },
    {
     "data": {
      "text/html": [
       "<font color=#1F618D>WARNING: completeness is not guaranteed</font>"
      ],
      "text/plain": [
       "<IPython.core.display.HTML object>"
      ]
     },
     "metadata": {},
     "output_type": "display_data"
    }
   ],
   "source": [
    "print_markdown(documentation.desc_variable('NB_INVENTORS'))"
   ]
  }
 ],
 "metadata": {
  "kernelspec": {
   "display_name": "test-env",
   "language": "python",
   "name": "test"
  },
  "language_info": {
   "codemirror_mode": {
    "name": "ipython",
    "version": 3
   },
   "file_extension": ".py",
   "mimetype": "text/x-python",
   "name": "python",
   "nbconvert_exporter": "python",
   "pygments_lexer": "ipython3",
   "version": "3.7.0"
  },
  "latex_envs": {
   "LaTeX_envs_menu_present": true,
   "autoclose": false,
   "autocomplete": true,
   "bibliofile": "biblio.bib",
   "cite_by": "apalike",
   "current_citInitial": 1,
   "eqLabelWithNumbers": true,
   "eqNumInitial": 1,
   "hotkeys": {
    "equation": "Ctrl-E",
    "itemize": "Ctrl-I"
   },
   "labels_anchors": false,
   "latex_user_defs": false,
   "report_style_numbering": false,
   "user_envs_cfg": false
  },
  "toc": {
   "base_numbering": 1,
   "nav_menu": {},
   "number_sections": true,
   "sideBar": true,
   "skip_h1_title": false,
   "title_cell": "Table of Contents",
   "title_sidebar": "Contents",
   "toc_cell": false,
   "toc_position": {
    "height": "calc(100% - 180px)",
    "left": "10px",
    "top": "150px",
    "width": "191.1875px"
   },
   "toc_section_display": true,
   "toc_window_display": true
  }
 },
 "nbformat": 4,
 "nbformat_minor": 2
}
